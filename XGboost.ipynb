{
 "cells": [
  {
   "cell_type": "code",
   "execution_count": 1,
   "metadata": {},
   "outputs": [
    {
     "name": "stderr",
     "output_type": "stream",
     "text": [
      "/Users/rafik/anaconda/lib/python3.6/site-packages/sklearn/cross_validation.py:41: DeprecationWarning: This module was deprecated in version 0.18 in favor of the model_selection module into which all the refactored classes and functions are moved. Also note that the interface of the new CV iterators are different from that of this module. This module will be removed in 0.20.\n",
      "  \"This module will be removed in 0.20.\", DeprecationWarning)\n"
     ]
    }
   ],
   "source": [
    "import numpy as np\n",
    "import pandas as pd\n",
    "import xgboost as xgb\n",
    "from sklearn.model_selection import KFold, GridSearchCV"
   ]
  },
  {
   "cell_type": "code",
   "execution_count": 2,
   "metadata": {
    "collapsed": true
   },
   "outputs": [],
   "source": [
    "def gini(pred, y):\n",
    "    g = np.asarray(np.c_[y, pred, np.arange(len(y)) ], dtype=np.float)\n",
    "    g = g[np.lexsort((g[:,2], -1*g[:,1]))]\n",
    "    gs = g[:,0].cumsum().sum() / g[:,0].sum()\n",
    "    gs -= (len(y) + 1) / 2.\n",
    "    return gs / len(y)\n",
    "\n",
    "def normalized_gini(pred, y):\n",
    "    return gini(pred, y) / gini(y, y)\n",
    "\n",
    "# custom normalized gini score for xgb model\n",
    "def gini_xgb(pred, y):\n",
    "    y = y.get_label()\n",
    "    return 'gini', normalized_gini(pred, y)"
   ]
  },
  {
   "cell_type": "code",
   "execution_count": 3,
   "metadata": {
    "collapsed": true
   },
   "outputs": [],
   "source": [
    "train = pd.read_csv('./Data/train.csv')\n",
    "test = pd.read_csv('./Data/test.csv')"
   ]
  },
  {
   "cell_type": "code",
   "execution_count": 4,
   "metadata": {
    "collapsed": true
   },
   "outputs": [],
   "source": [
    "categorical_features = train.filter(like='cat', axis=1).columns.values.tolist()\n",
    "categorical_features.remove('ps_car_11_cat') # cette variable catégorie possède beaucoup de catégories, il faut la traiter à part"
   ]
  },
  {
   "cell_type": "code",
   "execution_count": 5,
   "metadata": {
    "collapsed": true
   },
   "outputs": [],
   "source": [
    "porto_train = pd.get_dummies(train, columns=categorical_features)\n",
    "porto_test = pd.get_dummies(test, columns=categorical_features)"
   ]
  },
  {
   "cell_type": "code",
   "execution_count": 6,
   "metadata": {
    "collapsed": true
   },
   "outputs": [],
   "source": [
    "cols = [c for c in porto_train.columns if c[-2:] == '-1']"
   ]
  },
  {
   "cell_type": "code",
   "execution_count": 7,
   "metadata": {
    "collapsed": true
   },
   "outputs": [],
   "source": [
    "porto_train = porto_train.drop(cols,1)\n",
    "porto_test = porto_test.drop(cols,1)"
   ]
  },
  {
   "cell_type": "code",
   "execution_count": 8,
   "metadata": {
    "collapsed": true
   },
   "outputs": [],
   "source": [
    "cat_col =  porto_train.filter(like='bin', axis=1).columns.values.tolist()\n",
    "cat_col.append('ps_car_11_cat')\n",
    "cont_col= list(set(porto_train.columns.tolist()) - set(cat_col))"
   ]
  },
  {
   "cell_type": "code",
   "execution_count": 9,
   "metadata": {},
   "outputs": [],
   "source": [
    "from sklearn.preprocessing import Imputer\n",
    "I_cont = Imputer(missing_values=-1, strategy='mean', axis=0, verbose=0)\n",
    "I_cat = Imputer(missing_values=-1, strategy='most_frequent', axis=0, verbose=0)\n",
    "\n",
    "porto_train[cont_col] = I_cont.fit_transform(porto_train[cont_col])\n",
    "porto_train[cat_col] = I_cat.fit_transform(porto_train[cat_col])\n",
    "\n",
    "cont_col_test = cont_col.remove('target')\n",
    "porto_test[cont_col] = I_cont.fit_transform(porto_test[cont_col])\n",
    "porto_test[cat_col] = I_cat.fit_transform(porto_test[cat_col])"
   ]
  },
  {
   "cell_type": "code",
   "execution_count": 10,
   "metadata": {
    "collapsed": true
   },
   "outputs": [],
   "source": [
    "# Convert train & test to numpy arrays\n",
    "X = porto_train.drop('target', axis=1).values\n",
    "y = porto_train['target'].values\n",
    "test = porto_test.values\n",
    "\n",
    "# Create submission dataframe\n",
    "submission = porto_test['id'].to_frame()\n",
    "submission['target'] = 0"
   ]
  },
  {
   "cell_type": "code",
   "execution_count": 11,
   "metadata": {},
   "outputs": [
    {
     "name": "stdout",
     "output_type": "stream",
     "text": [
      "['ps_calc_02', 'ps_car_01_cat_7', 'ps_car_12', 'ps_car_15', 'ps_car_04_cat_5', 'ps_car_06_cat_17', 'ps_calc_10', 'ps_car_01_cat_8', 'ps_ind_01', 'ps_car_01_cat_5', 'ps_car_10_cat_0', 'ps_car_01_cat_0', 'ps_car_04_cat_2', 'ps_car_04_cat_6', 'ps_car_05_cat_1', 'ps_car_04_cat_8', 'ps_calc_11', 'ps_car_01_cat_4', 'ps_ind_05_cat_1', 'ps_car_09_cat_3', 'ps_calc_08', 'ps_ind_02_cat_1', 'ps_car_11', 'ps_car_09_cat_4', 'ps_car_10_cat_1', 'ps_ind_02_cat_3', 'ps_car_06_cat_1', 'ps_car_09_cat_1', 'ps_car_08_cat_1', 'ps_car_01_cat_6', 'ps_car_06_cat_13', 'ps_car_06_cat_9', 'ps_car_09_cat_0', 'ps_reg_02', 'ps_car_10_cat_2', 'ps_ind_15', 'ps_car_02_cat_0', 'ps_reg_01', 'ps_calc_12', 'ps_ind_02_cat_2', 'ps_ind_05_cat_4', 'ps_car_01_cat_3', 'ps_car_06_cat_16', 'ps_car_04_cat_3', 'ps_calc_05', 'ps_ind_04_cat_1', 'ps_calc_04', 'ps_ind_05_cat_6', 'ps_car_06_cat_4', 'ps_ind_05_cat_0', 'ps_car_06_cat_8', 'ps_car_01_cat_9', 'ps_calc_03', 'ps_reg_03', 'ps_car_05_cat_0', 'ps_car_09_cat_2', 'ps_car_03_cat_1', 'ps_ind_05_cat_5', 'ps_car_01_cat_11', 'ps_car_06_cat_15', 'ps_car_06_cat_14', 'ps_calc_01', 'ps_car_06_cat_3', 'ps_ind_05_cat_3', 'id', 'ps_car_04_cat_9', 'ps_calc_14', 'ps_car_06_cat_0', 'ps_car_06_cat_5', 'ps_car_01_cat_1', 'ps_car_07_cat_0', 'ps_car_02_cat_1', 'ps_calc_07', 'ps_ind_03', 'ps_car_04_cat_1', 'ps_car_08_cat_0', 'ps_calc_13', 'ps_car_01_cat_10', 'ps_ind_05_cat_2', 'ps_car_13', 'ps_car_03_cat_0', 'ps_car_01_cat_2', 'ps_car_07_cat_1', 'ps_ind_02_cat_4', 'ps_calc_06', 'ps_car_06_cat_11', 'ps_car_06_cat_2', 'ps_car_06_cat_12', 'ps_car_14', 'ps_car_06_cat_6', 'ps_ind_14', 'ps_car_04_cat_0', 'ps_calc_09', 'ps_ind_04_cat_0', 'ps_car_04_cat_7', 'ps_car_04_cat_4', 'ps_car_06_cat_7', 'ps_car_06_cat_10']\n"
     ]
    }
   ],
   "source": [
    "print(cont_col)"
   ]
  },
  {
   "cell_type": "code",
   "execution_count": 12,
   "metadata": {},
   "outputs": [
    {
     "name": "stdout",
     "output_type": "stream",
     "text": [
      " xgb kfold: 1 of 5 : \n",
      "[0]\ttrain-gini:0.206053\teval-gini:0.197553\n",
      "Multiple eval metrics have been passed: 'eval-gini' will be used for early stopping.\n",
      "\n",
      "Will train until eval-gini hasn't improved in 100 rounds.\n",
      "[50]\ttrain-gini:0.291817\teval-gini:0.245459\n",
      "[100]\ttrain-gini:0.340191\teval-gini:0.265225\n",
      "[150]\ttrain-gini:0.371307\teval-gini:0.268517\n",
      "[200]\ttrain-gini:0.397043\teval-gini:0.268391\n",
      "[250]\ttrain-gini:0.421644\teval-gini:0.267512\n",
      "Stopping. Best iteration:\n",
      "[184]\ttrain-gini:0.389053\teval-gini:0.269479\n",
      "\n",
      " xgb kfold: 2 of 5 : \n",
      "[0]\ttrain-gini:0.203564\teval-gini:0.182044\n",
      "Multiple eval metrics have been passed: 'eval-gini' will be used for early stopping.\n",
      "\n",
      "Will train until eval-gini hasn't improved in 100 rounds.\n",
      "[50]\ttrain-gini:0.289598\teval-gini:0.25669\n",
      "[100]\ttrain-gini:0.335239\teval-gini:0.276632\n",
      "[150]\ttrain-gini:0.368825\teval-gini:0.280908\n",
      "[200]\ttrain-gini:0.394836\teval-gini:0.282208\n",
      "[250]\ttrain-gini:0.418681\teval-gini:0.279726\n",
      "[300]\ttrain-gini:0.44156\teval-gini:0.277845\n",
      "Stopping. Best iteration:\n",
      "[200]\ttrain-gini:0.394836\teval-gini:0.282208\n",
      "\n",
      " xgb kfold: 3 of 5 : \n",
      "[0]\ttrain-gini:0.205712\teval-gini:0.204823\n",
      "Multiple eval metrics have been passed: 'eval-gini' will be used for early stopping.\n",
      "\n",
      "Will train until eval-gini hasn't improved in 100 rounds.\n",
      "[50]\ttrain-gini:0.284621\teval-gini:0.264779\n",
      "[100]\ttrain-gini:0.337229\teval-gini:0.284378\n",
      "[150]\ttrain-gini:0.367626\teval-gini:0.286199\n",
      "[200]\ttrain-gini:0.395162\teval-gini:0.28756\n",
      "[250]\ttrain-gini:0.417216\teval-gini:0.286886\n",
      "[300]\ttrain-gini:0.438941\teval-gini:0.284719\n",
      "Stopping. Best iteration:\n",
      "[222]\ttrain-gini:0.405212\teval-gini:0.288344\n",
      "\n",
      " xgb kfold: 4 of 5 : \n",
      "[0]\ttrain-gini:0.213649\teval-gini:0.207984\n",
      "Multiple eval metrics have been passed: 'eval-gini' will be used for early stopping.\n",
      "\n",
      "Will train until eval-gini hasn't improved in 100 rounds.\n",
      "[50]\ttrain-gini:0.284654\teval-gini:0.264709\n",
      "[100]\ttrain-gini:0.335939\teval-gini:0.282113\n",
      "[150]\ttrain-gini:0.366887\teval-gini:0.283494\n",
      "[200]\ttrain-gini:0.393738\teval-gini:0.283691\n",
      "[250]\ttrain-gini:0.417172\teval-gini:0.28305\n",
      "[300]\ttrain-gini:0.440372\teval-gini:0.281767\n",
      "Stopping. Best iteration:\n",
      "[212]\ttrain-gini:0.399462\teval-gini:0.28421\n",
      "\n",
      " xgb kfold: 5 of 5 : \n",
      "[0]\ttrain-gini:0.212617\teval-gini:0.202154\n",
      "Multiple eval metrics have been passed: 'eval-gini' will be used for early stopping.\n",
      "\n",
      "Will train until eval-gini hasn't improved in 100 rounds.\n",
      "[50]\ttrain-gini:0.284665\teval-gini:0.260226\n",
      "[100]\ttrain-gini:0.336136\teval-gini:0.282919\n",
      "[150]\ttrain-gini:0.368923\teval-gini:0.285915\n",
      "[200]\ttrain-gini:0.394802\teval-gini:0.286206\n",
      "[250]\ttrain-gini:0.417454\teval-gini:0.284896\n",
      "Stopping. Best iteration:\n",
      "[175]\ttrain-gini:0.381746\teval-gini:0.287051\n",
      "\n"
     ]
    }
   ],
   "source": [
    "kfold = 5\n",
    "nrounds=500\n",
    "params = {\n",
    "    'eta': 0.07,\n",
    "    'max_depth': 5,\n",
    "    'subsample': 0.8,\n",
    "    'colsample_bytree':0.8,\n",
    "    'objective': 'binary:logistic',\n",
    "    'eval_metric': 'auc',\n",
    "    'silent': True,\n",
    "    'n_jobs':-1 # use all CPU cores\n",
    "}\n",
    "\n",
    "kf = KFold(n_splits=kfold, shuffle=True, random_state=322)\n",
    "\n",
    "for i, (train_index, cv_index) in enumerate(kf.split(X)):\n",
    "\n",
    "    print(' xgb kfold: {} of {} : '.format(i+1, kfold))\n",
    "    X_train, X_eval = X[train_index,:], X[cv_index,:]\n",
    "    y_train, y_eval = y[train_index], y[cv_index]\n",
    "\n",
    "    d_train = xgb.DMatrix(X_train, y_train) \n",
    "    d_valid = xgb.DMatrix(X_eval, y_eval)\n",
    "\n",
    "    watchlist = [(d_train, 'train'), (d_valid, 'eval')]\n",
    "    xgb_model = xgb.train(params,\n",
    "                          d_train,\n",
    "                          nrounds,\n",
    "                          watchlist,\n",
    "                          early_stopping_rounds=100,\n",
    "                          feval=gini_xgb,\n",
    "                          maximize=True,\n",
    "                          verbose_eval=50)\n",
    "    # Updating prediction by taking the average\n",
    "    submission['target'] += xgb_model.predict(xgb.DMatrix(test)) / kfold"
   ]
  },
  {
   "cell_type": "code",
   "execution_count": 15,
   "metadata": {
    "collapsed": true
   },
   "outputs": [],
   "source": [
    "submission2 = submission"
   ]
  },
  {
   "cell_type": "code",
   "execution_count": 20,
   "metadata": {
    "collapsed": true
   },
   "outputs": [],
   "source": [
    "submission2.id = submission2.id.astype(int)"
   ]
  },
  {
   "cell_type": "code",
   "execution_count": 21,
   "metadata": {},
   "outputs": [],
   "source": [
    "submission2.to_csv('submission2.csv',index=False)"
   ]
  },
  {
   "cell_type": "code",
   "execution_count": null,
   "metadata": {
    "collapsed": true
   },
   "outputs": [],
   "source": []
  }
 ],
 "metadata": {
  "kernelspec": {
   "display_name": "Python 3",
   "language": "python",
   "name": "python3"
  },
  "language_info": {
   "codemirror_mode": {
    "name": "ipython",
    "version": 3
   },
   "file_extension": ".py",
   "mimetype": "text/x-python",
   "name": "python",
   "nbconvert_exporter": "python",
   "pygments_lexer": "ipython3",
   "version": "3.6.3"
  }
 },
 "nbformat": 4,
 "nbformat_minor": 2
}
