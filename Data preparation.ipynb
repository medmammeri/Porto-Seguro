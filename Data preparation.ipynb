{
 "cells": [
  {
   "cell_type": "code",
   "execution_count": 1,
   "metadata": {
    "collapsed": true
   },
   "outputs": [],
   "source": [
    "import numpy as np\n",
    "import pandas as pd"
   ]
  },
  {
   "cell_type": "code",
   "execution_count": 2,
   "metadata": {
    "collapsed": true
   },
   "outputs": [],
   "source": [
    "train = pd.read_csv('data/train.csv',na_values=-1)\n",
    "test = pd.read_csv('data/test.csv',na_values=-1)"
   ]
  },
  {
   "cell_type": "code",
   "execution_count": 5,
   "metadata": {
    "collapsed": true
   },
   "outputs": [],
   "source": [
    "# Number of missing values\n",
    "# train.isnull().sum()"
   ]
  },
  {
   "cell_type": "markdown",
   "metadata": {},
   "source": [
    "## Preparing the data for machine learning"
   ]
  },
  {
   "cell_type": "markdown",
   "metadata": {},
   "source": [
    "On met les noms des features dans trois listes, une pour chaque type. La liste features_names contient le nom de toutes les features."
   ]
  },
  {
   "cell_type": "code",
   "execution_count": 6,
   "metadata": {
    "collapsed": true
   },
   "outputs": [],
   "source": [
    "cat_feat = train.filter(like='cat', axis=1).columns.values.tolist()\n",
    "\n",
    "bin_feat = train.filter(like='bin', axis=1).columns.values.tolist()\n",
    "\n",
    "num_feat = list(set(list(train)) - set(cat_feat)- set(bin_feat))\n",
    "num_feat.remove('target')\n",
    "num_feat.remove('id')\n",
    "\n",
    "features_names = cat_feat + bin_feat + num_feat"
   ]
  },
  {
   "cell_type": "markdown",
   "metadata": {},
   "source": [
    "On change le type des variables catégorielles"
   ]
  },
  {
   "cell_type": "code",
   "execution_count": 7,
   "metadata": {
    "collapsed": true
   },
   "outputs": [],
   "source": [
    "for var in bin_feat + cat_feat:\n",
    "    train[var] = train[var].astype('category')\n",
    "    test[var] = test[var].astype('category')"
   ]
  },
  {
   "cell_type": "code",
   "execution_count": 8,
   "metadata": {},
   "outputs": [
    {
     "name": "stdout",
     "output_type": "stream",
     "text": [
      "<class 'pandas.core.frame.DataFrame'>\n",
      "RangeIndex: 595212 entries, 0 to 595211\n",
      "Data columns (total 59 columns):\n",
      "id                595212 non-null int64\n",
      "target            595212 non-null int64\n",
      "ps_ind_01         595212 non-null int64\n",
      "ps_ind_02_cat     594996 non-null category\n",
      "ps_ind_03         595212 non-null int64\n",
      "ps_ind_04_cat     595129 non-null category\n",
      "ps_ind_05_cat     589403 non-null category\n",
      "ps_ind_06_bin     595212 non-null category\n",
      "ps_ind_07_bin     595212 non-null category\n",
      "ps_ind_08_bin     595212 non-null category\n",
      "ps_ind_09_bin     595212 non-null category\n",
      "ps_ind_10_bin     595212 non-null category\n",
      "ps_ind_11_bin     595212 non-null category\n",
      "ps_ind_12_bin     595212 non-null category\n",
      "ps_ind_13_bin     595212 non-null category\n",
      "ps_ind_14         595212 non-null int64\n",
      "ps_ind_15         595212 non-null int64\n",
      "ps_ind_16_bin     595212 non-null category\n",
      "ps_ind_17_bin     595212 non-null category\n",
      "ps_ind_18_bin     595212 non-null category\n",
      "ps_reg_01         595212 non-null float64\n",
      "ps_reg_02         595212 non-null float64\n",
      "ps_reg_03         487440 non-null float64\n",
      "ps_car_01_cat     595105 non-null category\n",
      "ps_car_02_cat     595207 non-null category\n",
      "ps_car_03_cat     183981 non-null category\n",
      "ps_car_04_cat     595212 non-null category\n",
      "ps_car_05_cat     328661 non-null category\n",
      "ps_car_06_cat     595212 non-null category\n",
      "ps_car_07_cat     583723 non-null category\n",
      "ps_car_08_cat     595212 non-null category\n",
      "ps_car_09_cat     594643 non-null category\n",
      "ps_car_10_cat     595212 non-null category\n",
      "ps_car_11_cat     595212 non-null category\n",
      "ps_car_11         595207 non-null float64\n",
      "ps_car_12         595211 non-null float64\n",
      "ps_car_13         595212 non-null float64\n",
      "ps_car_14         552592 non-null float64\n",
      "ps_car_15         595212 non-null float64\n",
      "ps_calc_01        595212 non-null float64\n",
      "ps_calc_02        595212 non-null float64\n",
      "ps_calc_03        595212 non-null float64\n",
      "ps_calc_04        595212 non-null int64\n",
      "ps_calc_05        595212 non-null int64\n",
      "ps_calc_06        595212 non-null int64\n",
      "ps_calc_07        595212 non-null int64\n",
      "ps_calc_08        595212 non-null int64\n",
      "ps_calc_09        595212 non-null int64\n",
      "ps_calc_10        595212 non-null int64\n",
      "ps_calc_11        595212 non-null int64\n",
      "ps_calc_12        595212 non-null int64\n",
      "ps_calc_13        595212 non-null int64\n",
      "ps_calc_14        595212 non-null int64\n",
      "ps_calc_15_bin    595212 non-null category\n",
      "ps_calc_16_bin    595212 non-null category\n",
      "ps_calc_17_bin    595212 non-null category\n",
      "ps_calc_18_bin    595212 non-null category\n",
      "ps_calc_19_bin    595212 non-null category\n",
      "ps_calc_20_bin    595212 non-null category\n",
      "dtypes: category(31), float64(11), int64(17)\n",
      "memory usage: 144.8 MB\n"
     ]
    }
   ],
   "source": [
    "train.info()"
   ]
  },
  {
   "cell_type": "code",
   "execution_count": 9,
   "metadata": {},
   "outputs": [
    {
     "data": {
      "text/html": [
       "<div>\n",
       "<style>\n",
       "    .dataframe thead tr:only-child th {\n",
       "        text-align: right;\n",
       "    }\n",
       "\n",
       "    .dataframe thead th {\n",
       "        text-align: left;\n",
       "    }\n",
       "\n",
       "    .dataframe tbody tr th {\n",
       "        vertical-align: top;\n",
       "    }\n",
       "</style>\n",
       "<table border=\"1\" class=\"dataframe\">\n",
       "  <thead>\n",
       "    <tr style=\"text-align: right;\">\n",
       "      <th></th>\n",
       "      <th>id</th>\n",
       "      <th>target</th>\n",
       "      <th>ps_ind_01</th>\n",
       "      <th>ps_ind_02_cat</th>\n",
       "      <th>ps_ind_03</th>\n",
       "      <th>ps_ind_04_cat</th>\n",
       "      <th>ps_ind_05_cat</th>\n",
       "      <th>ps_ind_06_bin</th>\n",
       "      <th>ps_ind_07_bin</th>\n",
       "      <th>ps_ind_08_bin</th>\n",
       "      <th>...</th>\n",
       "      <th>ps_calc_11</th>\n",
       "      <th>ps_calc_12</th>\n",
       "      <th>ps_calc_13</th>\n",
       "      <th>ps_calc_14</th>\n",
       "      <th>ps_calc_15_bin</th>\n",
       "      <th>ps_calc_16_bin</th>\n",
       "      <th>ps_calc_17_bin</th>\n",
       "      <th>ps_calc_18_bin</th>\n",
       "      <th>ps_calc_19_bin</th>\n",
       "      <th>ps_calc_20_bin</th>\n",
       "    </tr>\n",
       "  </thead>\n",
       "  <tbody>\n",
       "    <tr>\n",
       "      <th>0</th>\n",
       "      <td>7</td>\n",
       "      <td>0</td>\n",
       "      <td>2</td>\n",
       "      <td>2.0</td>\n",
       "      <td>5</td>\n",
       "      <td>1.0</td>\n",
       "      <td>0.0</td>\n",
       "      <td>0</td>\n",
       "      <td>1</td>\n",
       "      <td>0</td>\n",
       "      <td>...</td>\n",
       "      <td>9</td>\n",
       "      <td>1</td>\n",
       "      <td>5</td>\n",
       "      <td>8</td>\n",
       "      <td>0</td>\n",
       "      <td>1</td>\n",
       "      <td>1</td>\n",
       "      <td>0</td>\n",
       "      <td>0</td>\n",
       "      <td>1</td>\n",
       "    </tr>\n",
       "    <tr>\n",
       "      <th>1</th>\n",
       "      <td>9</td>\n",
       "      <td>0</td>\n",
       "      <td>1</td>\n",
       "      <td>1.0</td>\n",
       "      <td>7</td>\n",
       "      <td>0.0</td>\n",
       "      <td>0.0</td>\n",
       "      <td>0</td>\n",
       "      <td>0</td>\n",
       "      <td>1</td>\n",
       "      <td>...</td>\n",
       "      <td>3</td>\n",
       "      <td>1</td>\n",
       "      <td>1</td>\n",
       "      <td>9</td>\n",
       "      <td>0</td>\n",
       "      <td>1</td>\n",
       "      <td>1</td>\n",
       "      <td>0</td>\n",
       "      <td>1</td>\n",
       "      <td>0</td>\n",
       "    </tr>\n",
       "    <tr>\n",
       "      <th>2</th>\n",
       "      <td>13</td>\n",
       "      <td>0</td>\n",
       "      <td>5</td>\n",
       "      <td>4.0</td>\n",
       "      <td>9</td>\n",
       "      <td>1.0</td>\n",
       "      <td>0.0</td>\n",
       "      <td>0</td>\n",
       "      <td>0</td>\n",
       "      <td>1</td>\n",
       "      <td>...</td>\n",
       "      <td>4</td>\n",
       "      <td>2</td>\n",
       "      <td>7</td>\n",
       "      <td>7</td>\n",
       "      <td>0</td>\n",
       "      <td>1</td>\n",
       "      <td>1</td>\n",
       "      <td>0</td>\n",
       "      <td>1</td>\n",
       "      <td>0</td>\n",
       "    </tr>\n",
       "    <tr>\n",
       "      <th>3</th>\n",
       "      <td>16</td>\n",
       "      <td>0</td>\n",
       "      <td>0</td>\n",
       "      <td>1.0</td>\n",
       "      <td>2</td>\n",
       "      <td>0.0</td>\n",
       "      <td>0.0</td>\n",
       "      <td>1</td>\n",
       "      <td>0</td>\n",
       "      <td>0</td>\n",
       "      <td>...</td>\n",
       "      <td>2</td>\n",
       "      <td>2</td>\n",
       "      <td>4</td>\n",
       "      <td>9</td>\n",
       "      <td>0</td>\n",
       "      <td>0</td>\n",
       "      <td>0</td>\n",
       "      <td>0</td>\n",
       "      <td>0</td>\n",
       "      <td>0</td>\n",
       "    </tr>\n",
       "    <tr>\n",
       "      <th>4</th>\n",
       "      <td>17</td>\n",
       "      <td>0</td>\n",
       "      <td>0</td>\n",
       "      <td>2.0</td>\n",
       "      <td>0</td>\n",
       "      <td>1.0</td>\n",
       "      <td>0.0</td>\n",
       "      <td>1</td>\n",
       "      <td>0</td>\n",
       "      <td>0</td>\n",
       "      <td>...</td>\n",
       "      <td>3</td>\n",
       "      <td>1</td>\n",
       "      <td>1</td>\n",
       "      <td>3</td>\n",
       "      <td>0</td>\n",
       "      <td>0</td>\n",
       "      <td>0</td>\n",
       "      <td>1</td>\n",
       "      <td>1</td>\n",
       "      <td>0</td>\n",
       "    </tr>\n",
       "  </tbody>\n",
       "</table>\n",
       "<p>5 rows × 59 columns</p>\n",
       "</div>"
      ],
      "text/plain": [
       "   id  target  ps_ind_01 ps_ind_02_cat  ps_ind_03 ps_ind_04_cat ps_ind_05_cat  \\\n",
       "0   7       0          2           2.0          5           1.0           0.0   \n",
       "1   9       0          1           1.0          7           0.0           0.0   \n",
       "2  13       0          5           4.0          9           1.0           0.0   \n",
       "3  16       0          0           1.0          2           0.0           0.0   \n",
       "4  17       0          0           2.0          0           1.0           0.0   \n",
       "\n",
       "  ps_ind_06_bin ps_ind_07_bin ps_ind_08_bin      ...       ps_calc_11  \\\n",
       "0             0             1             0      ...                9   \n",
       "1             0             0             1      ...                3   \n",
       "2             0             0             1      ...                4   \n",
       "3             1             0             0      ...                2   \n",
       "4             1             0             0      ...                3   \n",
       "\n",
       "  ps_calc_12 ps_calc_13 ps_calc_14 ps_calc_15_bin  ps_calc_16_bin  \\\n",
       "0          1          5          8              0               1   \n",
       "1          1          1          9              0               1   \n",
       "2          2          7          7              0               1   \n",
       "3          2          4          9              0               0   \n",
       "4          1          1          3              0               0   \n",
       "\n",
       "   ps_calc_17_bin ps_calc_18_bin ps_calc_19_bin ps_calc_20_bin  \n",
       "0               1              0              0              1  \n",
       "1               1              0              1              0  \n",
       "2               1              0              1              0  \n",
       "3               0              0              0              0  \n",
       "4               0              1              1              0  \n",
       "\n",
       "[5 rows x 59 columns]"
      ]
     },
     "execution_count": 9,
     "metadata": {},
     "output_type": "execute_result"
    }
   ],
   "source": [
    "train.head()"
   ]
  },
  {
   "cell_type": "markdown",
   "metadata": {},
   "source": [
    "On change le format des variables catégorielles avec la fonction get_dummies, voir le TP  de Guilloux gro_train."
   ]
  },
  {
   "cell_type": "code",
   "execution_count": 10,
   "metadata": {
    "collapsed": true
   },
   "outputs": [],
   "source": [
    "Train_cnt = train[num_feat]\n",
    "Train_bin = train[bin_feat]\n",
    "Train_cat = pd.get_dummies(train[cat_feat],\n",
    "                              prefix_sep='#',\n",
    "                              drop_first=True)\n",
    "Test_cnt = test[num_feat]\n",
    "Test_bin = test[bin_feat]\n",
    "Test_cat = pd.get_dummies(test[cat_feat],\n",
    "                              prefix_sep='#',\n",
    "                              drop_first=True)"
   ]
  },
  {
   "cell_type": "markdown",
   "metadata": {},
   "source": [
    "## Save the data without handling missing values and nomalization"
   ]
  },
  {
   "cell_type": "code",
   "execution_count": 11,
   "metadata": {
    "collapsed": true
   },
   "outputs": [],
   "source": [
    "X_cnt = Train_cnt.as_matrix()\n",
    "X_cat = Train_cat.as_matrix()\n",
    "X_bin = Train_bin.as_matrix()\n",
    "\n",
    "X_cnt_test = Test_cnt.as_matrix()\n",
    "X_cat_test = Test_cat.as_matrix()\n",
    "X_bin_test = Test_bin.as_matrix()"
   ]
  },
  {
   "cell_type": "code",
   "execution_count": 12,
   "metadata": {},
   "outputs": [],
   "source": [
    "XGB = np.concatenate((X_cnt, X_bin, X_cat), axis=1)\n",
    "XGB_test = np.concatenate((X_cnt_test, X_bin_test, X_cat_test), axis=1)\n",
    "yGB = train['target']"
   ]
  },
  {
   "cell_type": "code",
   "execution_count": 13,
   "metadata": {
    "collapsed": true
   },
   "outputs": [],
   "source": [
    "np.save('/tmp/XGB', XGB)\n",
    "np.save('/tmp/XGB_test', XGB_test)"
   ]
  },
  {
   "cell_type": "markdown",
   "metadata": {},
   "source": [
    "## On remplace les valeurs manquantes des variables continues par la moyenne puis on les met dans une matrice."
   ]
  },
  {
   "cell_type": "code",
   "execution_count": 14,
   "metadata": {
    "collapsed": true
   },
   "outputs": [],
   "source": [
    "from sklearn.preprocessing import Imputer\n",
    "imp = Imputer(missing_values='NaN', strategy='mean', axis=0)\n",
    "X_cnt = imp.fit_transform(Train_cnt)\n",
    "X_cnt_test = imp.fit_transform(Test_cnt)"
   ]
  },
  {
   "cell_type": "markdown",
   "metadata": {},
   "source": [
    "On normalise les données."
   ]
  },
  {
   "cell_type": "code",
   "execution_count": 15,
   "metadata": {},
   "outputs": [],
   "source": [
    "from sklearn.preprocessing import MinMaxScaler, StandardScaler\n",
    "X_cnt = MinMaxScaler().fit_transform(X_cnt)\n",
    "X_cnt_test = MinMaxScaler().fit_transform(X_cnt_test)"
   ]
  },
  {
   "cell_type": "code",
   "execution_count": 17,
   "metadata": {},
   "outputs": [],
   "source": [
    "X = np.concatenate((X_cnt, X_bin, X_cat), axis=1)\n",
    "X_test = np.concatenate((X_cnt_test, X_bin_test,X_cat_test), axis=1)\n",
    "y = train['target']"
   ]
  },
  {
   "cell_type": "code",
   "execution_count": 18,
   "metadata": {
    "collapsed": true
   },
   "outputs": [],
   "source": [
    "np.save('/tmp/X', X)\n",
    "np.save('/tmp/X_test', X_test)\n",
    "np.save('/tmp/y', y)"
   ]
  },
  {
   "cell_type": "markdown",
   "metadata": {},
   "source": [
    "## XGBoost (Code de Binh)"
   ]
  },
  {
   "cell_type": "code",
   "execution_count": 20,
   "metadata": {},
   "outputs": [
    {
     "name": "stderr",
     "output_type": "stream",
     "text": [
      "/Users/rafik/anaconda/lib/python3.6/site-packages/sklearn/cross_validation.py:41: DeprecationWarning: This module was deprecated in version 0.18 in favor of the model_selection module into which all the refactored classes and functions are moved. Also note that the interface of the new CV iterators are different from that of this module. This module will be removed in 0.20.\n",
      "  \"This module will be removed in 0.20.\", DeprecationWarning)\n"
     ]
    }
   ],
   "source": [
    "import xgboost as xgb\n",
    "from sklearn.model_selection import KFold, GridSearchCV"
   ]
  },
  {
   "cell_type": "code",
   "execution_count": 21,
   "metadata": {
    "collapsed": true
   },
   "outputs": [],
   "source": [
    "def gini(pred, y):\n",
    "    g = np.asarray(np.c_[y, pred, np.arange(len(y)) ], dtype=np.float)\n",
    "    g = g[np.lexsort((g[:,2], -1*g[:,1]))]\n",
    "    gs = g[:,0].cumsum().sum() / g[:,0].sum()\n",
    "    gs -= (len(y) + 1) / 2.\n",
    "    return gs / len(y)\n",
    "\n",
    "def normalized_gini(pred, y):\n",
    "    return gini(pred, y) / gini(y, y)\n",
    "\n",
    "# custom normalized gini score for xgb model\n",
    "def gini_xgb(pred, y):\n",
    "    y = y.get_label()\n",
    "    return 'gini', normalized_gini(pred, y)"
   ]
  },
  {
   "cell_type": "code",
   "execution_count": 22,
   "metadata": {
    "collapsed": true
   },
   "outputs": [],
   "source": [
    "submission = test['id'].to_frame()\n",
    "submission['target'] = 0"
   ]
  },
  {
   "cell_type": "code",
   "execution_count": 23,
   "metadata": {},
   "outputs": [
    {
     "data": {
      "text/plain": [
       "(595212, 204)"
      ]
     },
     "execution_count": 23,
     "metadata": {},
     "output_type": "execute_result"
    }
   ],
   "source": [
    "XGB.shape"
   ]
  },
  {
   "cell_type": "code",
   "execution_count": 25,
   "metadata": {},
   "outputs": [
    {
     "name": "stdout",
     "output_type": "stream",
     "text": [
      " xgb kfold: 1 of 5 : \n",
      "[0]\ttrain-gini:0.191481\teval-gini:0.171372\n",
      "Multiple eval metrics have been passed: 'eval-gini' will be used for early stopping.\n",
      "\n",
      "Will train until eval-gini hasn't improved in 100 rounds.\n",
      "[50]\ttrain-gini:0.29136\teval-gini:0.244537\n",
      "[100]\ttrain-gini:0.335884\teval-gini:0.261076\n",
      "[150]\ttrain-gini:0.364687\teval-gini:0.263505\n",
      "[200]\ttrain-gini:0.392813\teval-gini:0.265438\n",
      "[250]\ttrain-gini:0.416536\teval-gini:0.265082\n",
      "[300]\ttrain-gini:0.438769\teval-gini:0.263516\n",
      "Stopping. Best iteration:\n",
      "[206]\ttrain-gini:0.395615\teval-gini:0.265989\n",
      "\n",
      " xgb kfold: 2 of 5 : \n",
      "[0]\ttrain-gini:0.188744\teval-gini:0.173038\n",
      "Multiple eval metrics have been passed: 'eval-gini' will be used for early stopping.\n",
      "\n",
      "Will train until eval-gini hasn't improved in 100 rounds.\n",
      "[50]\ttrain-gini:0.287392\teval-gini:0.251172\n",
      "[100]\ttrain-gini:0.335465\teval-gini:0.273693\n",
      "[150]\ttrain-gini:0.366161\teval-gini:0.276636\n",
      "[200]\ttrain-gini:0.392968\teval-gini:0.27711\n",
      "[250]\ttrain-gini:0.419909\teval-gini:0.277109\n",
      "[300]\ttrain-gini:0.442375\teval-gini:0.275402\n",
      "Stopping. Best iteration:\n",
      "[217]\ttrain-gini:0.403342\teval-gini:0.277724\n",
      "\n",
      " xgb kfold: 3 of 5 : \n",
      "[0]\ttrain-gini:0.202156\teval-gini:0.204661\n",
      "Multiple eval metrics have been passed: 'eval-gini' will be used for early stopping.\n",
      "\n",
      "Will train until eval-gini hasn't improved in 100 rounds.\n",
      "[50]\ttrain-gini:0.286048\teval-gini:0.263222\n",
      "[100]\ttrain-gini:0.331292\teval-gini:0.279805\n",
      "[150]\ttrain-gini:0.364253\teval-gini:0.283473\n",
      "[200]\ttrain-gini:0.391171\teval-gini:0.284981\n",
      "[250]\ttrain-gini:0.414539\teval-gini:0.285623\n",
      "[300]\ttrain-gini:0.435914\teval-gini:0.28407\n",
      "[350]\ttrain-gini:0.457026\teval-gini:0.283122\n",
      "Stopping. Best iteration:\n",
      "[263]\ttrain-gini:0.420666\teval-gini:0.285998\n",
      "\n",
      " xgb kfold: 4 of 5 : \n",
      "[0]\ttrain-gini:0.203477\teval-gini:0.199035\n",
      "Multiple eval metrics have been passed: 'eval-gini' will be used for early stopping.\n",
      "\n",
      "Will train until eval-gini hasn't improved in 100 rounds.\n",
      "[50]\ttrain-gini:0.288556\teval-gini:0.264741\n",
      "[100]\ttrain-gini:0.333309\teval-gini:0.280755\n",
      "[150]\ttrain-gini:0.366148\teval-gini:0.280847\n",
      "[200]\ttrain-gini:0.391161\teval-gini:0.281151\n",
      "[250]\ttrain-gini:0.415504\teval-gini:0.28054\n",
      "[300]\ttrain-gini:0.438698\teval-gini:0.279511\n",
      "Stopping. Best iteration:\n",
      "[209]\ttrain-gini:0.395982\teval-gini:0.281524\n",
      "\n",
      " xgb kfold: 5 of 5 : \n",
      "[0]\ttrain-gini:0.203656\teval-gini:0.190136\n",
      "Multiple eval metrics have been passed: 'eval-gini' will be used for early stopping.\n",
      "\n",
      "Will train until eval-gini hasn't improved in 100 rounds.\n",
      "[50]\ttrain-gini:0.287116\teval-gini:0.257123\n",
      "[100]\ttrain-gini:0.333149\teval-gini:0.278958\n",
      "[150]\ttrain-gini:0.365214\teval-gini:0.282093\n",
      "[200]\ttrain-gini:0.39293\teval-gini:0.282495\n",
      "[250]\ttrain-gini:0.417187\teval-gini:0.283137\n",
      "[300]\ttrain-gini:0.439224\teval-gini:0.281559\n",
      "Stopping. Best iteration:\n",
      "[229]\ttrain-gini:0.407862\teval-gini:0.284161\n",
      "\n"
     ]
    }
   ],
   "source": [
    "kfold = 5\n",
    "nrounds=500\n",
    "params = {\n",
    "    'eta': 0.07,\n",
    "    'max_depth': 5,\n",
    "    'subsample': 0.8, #\n",
    "    'colsample_bytree':0.8,\n",
    "    'objective': 'binary:logistic',\n",
    "    'eval_metric': 'auc',\n",
    "    'silent': True, # ok\n",
    "    'n_jobs':-1 # use all CPU cores\n",
    "}\n",
    "\n",
    "kf = KFold(n_splits=kfold, shuffle=True, random_state=322)\n",
    "\n",
    "for i, (train_index, cv_index) in enumerate(kf.split(X)):\n",
    "\n",
    "    print(' xgb kfold: {} of {} : '.format(i+1, kfold))\n",
    "    X_train, X_eval = XGB[train_index,:], XGB[cv_index,:]\n",
    "    y_train, y_eval = y[train_index], y[cv_index]\n",
    "\n",
    "    d_train = xgb.DMatrix(X_train, y_train) \n",
    "    d_valid = xgb.DMatrix(X_eval, y_eval)\n",
    "\n",
    "    watchlist = [(d_train, 'train'), (d_valid, 'eval')]\n",
    "    xgb_model = xgb.train(params,\n",
    "                          d_train,\n",
    "                          nrounds, # ok\n",
    "                          watchlist,\n",
    "                          early_stopping_rounds=100, # ok\n",
    "                          feval=gini_xgb,\n",
    "                          maximize=True,\n",
    "                          verbose_eval=50)\n",
    "    # Updating prediction by taking the average\n",
    "    submission['target'] += xgb_model.predict(xgb.DMatrix(XGB_test)) / kfold"
   ]
  },
  {
   "cell_type": "code",
   "execution_count": 26,
   "metadata": {
    "collapsed": true
   },
   "outputs": [],
   "source": [
    "submission.id = submission.id.astype(int)\n",
    "submission.to_csv('Submissions/PS-02-01.csv',index=False)"
   ]
  },
  {
   "cell_type": "code",
   "execution_count": 25,
   "metadata": {
    "collapsed": true
   },
   "outputs": [],
   "source": [
    "scores = {'XGBoost' : (0.28208,0.27825)}"
   ]
  },
  {
   "cell_type": "markdown",
   "metadata": {},
   "source": [
    "## Régression logistique simple"
   ]
  },
  {
   "cell_type": "code",
   "execution_count": 28,
   "metadata": {
    "collapsed": true
   },
   "outputs": [],
   "source": [
    "from sklearn.linear_model import LogisticRegression, LogisticRegressionCV\n",
    "logreg_cv = LogisticRegressionCV(penalty='l2', class_weight='balanced',\n",
    "                                 Cs=np.logspace(-3, 7, 10),\n",
    "                                 cv=5, n_jobs=-1, refit=True)\n",
    "logreg_cv.fit(X, y)"
   ]
  },
  {
   "cell_type": "code",
   "execution_count": 29,
   "metadata": {
    "collapsed": true
   },
   "outputs": [],
   "source": [
    "submission['target'] = logreg_cv.predict(X_test)"
   ]
  },
  {
   "cell_type": "code",
   "execution_count": 30,
   "metadata": {
    "collapsed": true
   },
   "outputs": [],
   "source": [
    "submission.id = submission.id.astype(int)\n",
    "submission.to_csv('subl.csv',index=False)"
   ]
  },
  {
   "cell_type": "code",
   "execution_count": 32,
   "metadata": {
    "collapsed": true
   },
   "outputs": [],
   "source": [
    "scores['LogReg'] = (0.18423,0.18040)"
   ]
  },
  {
   "cell_type": "code",
   "execution_count": 33,
   "metadata": {},
   "outputs": [
    {
     "data": {
      "text/plain": [
       "{'LogReg': (0.18423, 0.1804), 'XGBoost': (0.28208, 0.27825)}"
      ]
     },
     "execution_count": 33,
     "metadata": {},
     "output_type": "execute_result"
    }
   ],
   "source": [
    "scores"
   ]
  },
  {
   "cell_type": "code",
   "execution_count": null,
   "metadata": {
    "collapsed": true
   },
   "outputs": [],
   "source": []
  }
 ],
 "metadata": {
  "kernelspec": {
   "display_name": "Python 3",
   "language": "python",
   "name": "python3"
  },
  "language_info": {
   "codemirror_mode": {
    "name": "ipython",
    "version": 3
   },
   "file_extension": ".py",
   "mimetype": "text/x-python",
   "name": "python",
   "nbconvert_exporter": "python",
   "pygments_lexer": "ipython3",
   "version": "3.6.3"
  }
 },
 "nbformat": 4,
 "nbformat_minor": 2
}
