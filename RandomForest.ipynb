{
 "cells": [
  {
   "cell_type": "markdown",
   "metadata": {},
   "source": [
    "# Preliminaries"
   ]
  },
  {
   "cell_type": "code",
   "execution_count": 1,
   "metadata": {
    "collapsed": true
   },
   "outputs": [],
   "source": [
    "import numpy as np\n",
    "import pandas as pd"
   ]
  },
  {
   "cell_type": "code",
   "execution_count": 2,
   "metadata": {
    "collapsed": true
   },
   "outputs": [],
   "source": [
    "from sklearn.metrics import confusion_matrix\n",
    "from sklearn.metrics import precision_score, recall_score\n",
    "from sklearn.model_selection import cross_val_predict\n",
    "from sklearn.model_selection import GridSearchCV\n",
    "from sklearn.metrics.scorer import make_scorer\n",
    "from sklearn.externals import joblib\n",
    "import itertools\n",
    "from sklearn.model_selection import train_test_split\n",
    "from datetime import datetime"
   ]
  },
  {
   "cell_type": "code",
   "execution_count": 3,
   "metadata": {
    "collapsed": true
   },
   "outputs": [],
   "source": [
    "X = np.load('/tmp/X.npy')\n",
    "y = np.load('/tmp/y.npy')\n",
    "X_test = np.load('/tmp/X_test.npy')"
   ]
  },
  {
   "cell_type": "code",
   "execution_count": 4,
   "metadata": {},
   "outputs": [
    {
     "data": {
      "text/plain": [
       "((595212, 218), (595212,))"
      ]
     },
     "execution_count": 4,
     "metadata": {},
     "output_type": "execute_result"
    }
   ],
   "source": [
    "X.shape, y.shape"
   ]
  },
  {
   "cell_type": "code",
   "execution_count": 5,
   "metadata": {
    "collapsed": true
   },
   "outputs": [],
   "source": [
    "X_small = np.load('/tmp/X_small.npy')\n",
    "y_small = np.load('/tmp/y_small.npy')"
   ]
  },
  {
   "cell_type": "code",
   "execution_count": 6,
   "metadata": {},
   "outputs": [
    {
     "data": {
      "text/plain": [
       "((17856, 114), (17856,))"
      ]
     },
     "execution_count": 6,
     "metadata": {},
     "output_type": "execute_result"
    }
   ],
   "source": [
    "X_small.shape, y_small.shape"
   ]
  },
  {
   "cell_type": "code",
   "execution_count": 5,
   "metadata": {
    "collapsed": true
   },
   "outputs": [],
   "source": [
    "def gini(pred, y):\n",
    "    g = np.asarray(np.c_[y, pred, np.arange(len(y)) ], dtype=np.float)\n",
    "    g = g[np.lexsort((g[:,2], -1*g[:,1]))]\n",
    "    gs = g[:,0].cumsum().sum() / g[:,0].sum()\n",
    "    gs -= (len(y) + 1) / 2.\n",
    "    return gs / len(y)\n",
    "\n",
    "def normalized_gini(pred, y):\n",
    "    return gini(pred, y) / gini(y, y)\n",
    "\n",
    "#my_scorer = make_scorer(normalized_gini, greater_is_better=True)"
   ]
  },
  {
   "cell_type": "code",
   "execution_count": 6,
   "metadata": {
    "collapsed": true
   },
   "outputs": [],
   "source": [
    "porto_test_id = pd.read_csv('data/test.csv',usecols=['id'])\n",
    "def make_submission(name, pred):\n",
    "    s = porto_test_id['id'].to_frame()\n",
    "    s['target'] = pred\n",
    "    s.to_csv('Submissions/'+name+'.csv',index=False)"
   ]
  },
  {
   "cell_type": "code",
   "execution_count": 7,
   "metadata": {
    "collapsed": true
   },
   "outputs": [],
   "source": [
    "def binarize(pred,threshold):\n",
    "    s= pred\n",
    "    s[s<threshold] = 0\n",
    "    s[s>=threshold] = 1\n",
    "    s.astype(int)\n",
    "    return s"
   ]
  },
  {
   "cell_type": "markdown",
   "metadata": {},
   "source": [
    "# RandomForest tuning directly by ginion kaggle"
   ]
  },
  {
   "cell_type": "code",
   "execution_count": 7,
   "metadata": {
    "collapsed": true
   },
   "outputs": [],
   "source": [
    "from sklearn.ensemble import RandomForestClassifier"
   ]
  },
  {
   "cell_type": "code",
   "execution_count": 12,
   "metadata": {
    "collapsed": true
   },
   "outputs": [],
   "source": [
    "rnd_clf = RandomForestClassifier(n_estimators=500, max_leaf_nodes=16, n_jobs=-1)"
   ]
  },
  {
   "cell_type": "code",
   "execution_count": 13,
   "metadata": {},
   "outputs": [
    {
     "data": {
      "text/plain": [
       "RandomForestClassifier(bootstrap=True, class_weight=None, criterion='gini',\n",
       "            max_depth=None, max_features='auto', max_leaf_nodes=16,\n",
       "            min_impurity_decrease=0.0, min_impurity_split=None,\n",
       "            min_samples_leaf=1, min_samples_split=2,\n",
       "            min_weight_fraction_leaf=0.0, n_estimators=500, n_jobs=-1,\n",
       "            oob_score=False, random_state=None, verbose=0,\n",
       "            warm_start=False)"
      ]
     },
     "execution_count": 13,
     "metadata": {},
     "output_type": "execute_result"
    }
   ],
   "source": [
    "rnd_clf.fit(X, y) # Data all, na=0, 218 var, dropfirst= false, time around 2m"
   ]
  },
  {
   "cell_type": "code",
   "execution_count": 17,
   "metadata": {},
   "outputs": [
    {
     "data": {
      "text/plain": [
       "['pkl/rndf_clf.pkl']"
      ]
     },
     "execution_count": 17,
     "metadata": {},
     "output_type": "execute_result"
    }
   ],
   "source": [
    "joblib.dump(rnd_clf, \"pkl/RandomForest/rndf_clf.pkl\")"
   ]
  },
  {
   "cell_type": "code",
   "execution_count": 18,
   "metadata": {
    "collapsed": true
   },
   "outputs": [],
   "source": [
    "rnd_clf = joblib.load(\"pkl/RandomForest/rndf_clf.pkl\")"
   ]
  },
  {
   "cell_type": "code",
   "execution_count": 28,
   "metadata": {
    "collapsed": true
   },
   "outputs": [],
   "source": [
    "pred = cross_val_predict(rnd_clf, X, y, cv=5, method='predict_proba')"
   ]
  },
  {
   "cell_type": "code",
   "execution_count": 29,
   "metadata": {},
   "outputs": [
    {
     "data": {
      "text/plain": [
       "0.25167130855006264"
      ]
     },
     "execution_count": 29,
     "metadata": {},
     "output_type": "execute_result"
    }
   ],
   "source": [
    "normalized_gini(pred[:,1],y)"
   ]
  },
  {
   "cell_type": "code",
   "execution_count": 21,
   "metadata": {
    "collapsed": true
   },
   "outputs": [],
   "source": [
    "make_submission('df6', rnd_clf.predict_proba(X_test)[:,1]) \n",
    "# private kaggle :  0.25267, public kaggle : 0.24868"
   ]
  },
  {
   "cell_type": "markdown",
   "metadata": {},
   "source": [
    "# RandomForest train test"
   ]
  },
  {
   "cell_type": "code",
   "execution_count": 13,
   "metadata": {
    "collapsed": true
   },
   "outputs": [],
   "source": [
    "X_train, X_t, y_train, y_t = train_test_split(X, y, stratify=y, test_size=0.3, random_state=42)"
   ]
  },
  {
   "cell_type": "code",
   "execution_count": 27,
   "metadata": {
    "collapsed": true
   },
   "outputs": [],
   "source": [
    "rnd_clf = RandomForestClassifier(n_estimators=500, max_leaf_nodes=16, n_jobs=-1)"
   ]
  },
  {
   "cell_type": "code",
   "execution_count": 30,
   "metadata": {},
   "outputs": [
    {
     "data": {
      "text/plain": [
       "RandomForestClassifier(bootstrap=True, class_weight=None, criterion='gini',\n",
       "            max_depth=None, max_features='auto', max_leaf_nodes=16,\n",
       "            min_impurity_decrease=0.0, min_impurity_split=None,\n",
       "            min_samples_leaf=1, min_samples_split=2,\n",
       "            min_weight_fraction_leaf=0.0, n_estimators=500, n_jobs=-1,\n",
       "            oob_score=False, random_state=None, verbose=0,\n",
       "            warm_start=False)"
      ]
     },
     "execution_count": 30,
     "metadata": {},
     "output_type": "execute_result"
    }
   ],
   "source": [
    "rnd_clf.fit(X_train, y_train)"
   ]
  },
  {
   "cell_type": "code",
   "execution_count": 34,
   "metadata": {},
   "outputs": [
    {
     "data": {
      "text/plain": [
       "0.25756406541813154"
      ]
     },
     "execution_count": 34,
     "metadata": {},
     "output_type": "execute_result"
    }
   ],
   "source": [
    "normalized_gini(rnd_clf.predict_proba(X_t)[:,1],y_t)"
   ]
  },
  {
   "cell_type": "code",
   "execution_count": 36,
   "metadata": {
    "collapsed": true
   },
   "outputs": [],
   "source": [
    "rnd_clf = RandomForestClassifier(n_estimators=500, max_depth=2,max_leaf_nodes=16, n_jobs=-1)"
   ]
  },
  {
   "cell_type": "code",
   "execution_count": 37,
   "metadata": {},
   "outputs": [
    {
     "data": {
      "text/plain": [
       "RandomForestClassifier(bootstrap=True, class_weight=None, criterion='gini',\n",
       "            max_depth=2, max_features='auto', max_leaf_nodes=16,\n",
       "            min_impurity_decrease=0.0, min_impurity_split=None,\n",
       "            min_samples_leaf=1, min_samples_split=2,\n",
       "            min_weight_fraction_leaf=0.0, n_estimators=500, n_jobs=-1,\n",
       "            oob_score=False, random_state=None, verbose=0,\n",
       "            warm_start=False)"
      ]
     },
     "execution_count": 37,
     "metadata": {},
     "output_type": "execute_result"
    }
   ],
   "source": [
    "rnd_clf.fit(X_train, y_train)"
   ]
  },
  {
   "cell_type": "code",
   "execution_count": 38,
   "metadata": {},
   "outputs": [
    {
     "data": {
      "text/plain": [
       "0.25426623509808233"
      ]
     },
     "execution_count": 38,
     "metadata": {},
     "output_type": "execute_result"
    }
   ],
   "source": [
    "normalized_gini(rnd_clf.predict_proba(X_t)[:,1],y_t)"
   ]
  },
  {
   "cell_type": "markdown",
   "metadata": {},
   "source": [
    "#### RandomForestClassifier(n_estimators=500, max_depth=10,max_leaf_nodes=16, n_jobs=-1)"
   ]
  },
  {
   "cell_type": "code",
   "execution_count": 9,
   "metadata": {
    "collapsed": true
   },
   "outputs": [],
   "source": [
    "def rnd_gini(clf):\n",
    "    x = datetime.now()\n",
    "    clf.fit(X_train, y_train)\n",
    "    y = datetime.now()\n",
    "    print('Time to fit : ' + str(x-y))\n",
    "    tr = normalized_gini(clf.predict_proba(X_train)[:,1],y_train)\n",
    "    te = normalized_gini(clf.predict_proba(X_t)[:,1],y_t)\n",
    "    print('Train-gini :', tr)\n",
    "    print('Test-gini :',  te)\n",
    "    print('Difference-gini :', tr-te)\n",
    "    x = str(datetime.now())\n",
    "    joblib.dump(rnd_clf, \"pkl/RandomForest/\"+ x +\".pkl\")\n",
    "    print(\"Model file : pkl/RandomForest/\"+ x +\".pkl\")"
   ]
  },
  {
   "cell_type": "code",
   "execution_count": 13,
   "metadata": {},
   "outputs": [
    {
     "name": "stdout",
     "output_type": "stream",
     "text": [
      "Train-gini : 0.261927659016\n",
      "Test-gini : 0.258120885529\n",
      "Difference-gini : -0.00380677348716\n"
     ]
    }
   ],
   "source": [
    "rnd_clf = RandomForestClassifier(n_estimators=500, max_depth=10,max_leaf_nodes=16, n_jobs=-1)\n",
    "rnd_gini(rnd_clf)"
   ]
  },
  {
   "cell_type": "code",
   "execution_count": 15,
   "metadata": {},
   "outputs": [
    {
     "name": "stdout",
     "output_type": "stream",
     "text": [
      "Train-gini : 0.261860336923\n",
      "Test-gini : 0.258169428921\n",
      "Difference-gini : 0.00369090800209\n"
     ]
    }
   ],
   "source": [
    "rnd_clf = RandomForestClassifier(n_estimators=500, max_depth=10,max_leaf_nodes=16, n_jobs=-1)\n",
    "rnd_gini(rnd_clf)"
   ]
  },
  {
   "cell_type": "code",
   "execution_count": 17,
   "metadata": {},
   "outputs": [
    {
     "name": "stdout",
     "output_type": "stream",
     "text": [
      "2018-01-07 01:18:29.885247\n",
      "2018-01-07 01:20:10.292170\n",
      "Train-gini : 0.260397604716\n",
      "Test-gini : 0.257670990197\n",
      "Difference-gini : 0.00272661451886\n"
     ]
    }
   ],
   "source": [
    "rnd_clf = RandomForestClassifier(n_estimators=500, max_depth=30,max_leaf_nodes=16, n_jobs=-1)\n",
    "rnd_gini(rnd_clf)"
   ]
  },
  {
   "cell_type": "code",
   "execution_count": 42,
   "metadata": {},
   "outputs": [
    {
     "data": {
      "text/plain": [
       "0.25663494295778089"
      ]
     },
     "execution_count": 42,
     "metadata": {},
     "output_type": "execute_result"
    }
   ],
   "source": [
    "rnd_clf = RandomForestClassifier(n_estimators=500, max_depth=30,max_leaf_nodes=16, n_jobs=-1)\n",
    "rnd_gini(rnd_clf)"
   ]
  },
  {
   "cell_type": "code",
   "execution_count": 43,
   "metadata": {},
   "outputs": [
    {
     "data": {
      "text/plain": [
       "0.25880297038265065"
      ]
     },
     "execution_count": 43,
     "metadata": {},
     "output_type": "execute_result"
    }
   ],
   "source": [
    "rnd_clf = RandomForestClassifier(n_estimators=500, max_depth=30,max_leaf_nodes=16, n_jobs=-1)\n",
    "rnd_gini(rnd_clf)"
   ]
  },
  {
   "cell_type": "code",
   "execution_count": 29,
   "metadata": {},
   "outputs": [
    {
     "name": "stdout",
     "output_type": "stream",
     "text": [
      "Time to fit : -1 day, 23:58:20.183056\n",
      "Train-gini : 0.260644307062\n",
      "Test-gini : 0.257805524946\n",
      "Difference-gini : 0.00283878211608\n",
      "Model file file pkl/RandomForest/2018-01-07 02:15:07.259701.pkl\n"
     ]
    }
   ],
   "source": [
    "rnd_clf = RandomForestClassifier(n_estimators=500, max_depth=80,max_leaf_nodes=16, n_jobs=-1)\n",
    "rnd_gini(rnd_clf)"
   ]
  },
  {
   "cell_type": "code",
   "execution_count": 26,
   "metadata": {},
   "outputs": [
    {
     "name": "stdout",
     "output_type": "stream",
     "text": [
      "Time to fit : -1 day, 23:59:05.385189\n",
      "Train-gini : 0.26279929703\n",
      "Test-gini : 0.258453448312\n",
      "Difference-gini : 0.0043458487178\n",
      "Model file file pkl/RandomForest/2018-01-07 02:09:32.891147.pkl\n"
     ]
    }
   ],
   "source": [
    "rnd_clf = RandomForestClassifier(n_estimators=500, max_features=6, max_depth=80,max_leaf_nodes=16, n_jobs=-1)\n",
    "rnd_gini(rnd_clf)"
   ]
  },
  {
   "cell_type": "code",
   "execution_count": 27,
   "metadata": {},
   "outputs": [
    {
     "name": "stdout",
     "output_type": "stream",
     "text": [
      "Time to fit : -1 day, 23:59:05.110706\n",
      "Train-gini : 0.263183328992\n",
      "Test-gini : 0.257546120188\n",
      "Difference-gini : 0.00563720880351\n",
      "Model file file pkl/RandomForest/2018-01-07 02:11:04.863216.pkl\n"
     ]
    }
   ],
   "source": [
    "rnd_clf = RandomForestClassifier(n_estimators=500, max_features=6, max_depth=80,max_leaf_nodes=16, n_jobs=-1)\n",
    "rnd_gini(rnd_clf)"
   ]
  },
  {
   "cell_type": "code",
   "execution_count": 28,
   "metadata": {},
   "outputs": [
    {
     "name": "stdout",
     "output_type": "stream",
     "text": [
      "Time to fit : -1 day, 23:59:02.111062\n",
      "Train-gini : 0.262521498345\n",
      "Test-gini : 0.257351880532\n",
      "Difference-gini : 0.00516961781321\n",
      "Model file file pkl/RandomForest/2018-01-07 02:12:42.979945.pkl\n"
     ]
    }
   ],
   "source": [
    "rnd_clf = RandomForestClassifier(n_estimators=500, max_features=6, max_depth=80,max_leaf_nodes=16, n_jobs=-1)\n",
    "rnd_gini(rnd_clf)"
   ]
  },
  {
   "cell_type": "code",
   "execution_count": 25,
   "metadata": {},
   "outputs": [
    {
     "name": "stdout",
     "output_type": "stream",
     "text": [
      "Time to fit : -1 day, 23:58:32.440399\n",
      "Train-gini : 0.262308628944\n",
      "Test-gini : 0.258140891951\n",
      "Difference-gini : 0.00416773699325\n",
      "Model file file pkl/RandomForest/2018-01-07 02:08:01.219178.pkl\n"
     ]
    }
   ],
   "source": [
    "rnd_clf = RandomForestClassifier(n_estimators=500, max_features=12, max_depth=80,max_leaf_nodes=16, n_jobs=-1)\n",
    "rnd_gini(rnd_clf) # selected"
   ]
  },
  {
   "cell_type": "code",
   "execution_count": 20,
   "metadata": {
    "collapsed": true
   },
   "outputs": [],
   "source": [
    "rnd_clf = joblib.load(\"pkl/RandomForest/f1.pkl\")\n",
    "sub = rnd_clf.predict_proba(X_test)[:,1]\n",
    "make_submission('f1',sub)"
   ]
  },
  {
   "cell_type": "code",
   "execution_count": 23,
   "metadata": {},
   "outputs": [
    {
     "name": "stdout",
     "output_type": "stream",
     "text": [
      "Time to fit : -1 day, 23:57:38.032723\n",
      "2018-01-07 02:00:09.446123\n",
      "Train-gini : 0.259242296878\n",
      "Test-gini : 0.256828821816\n",
      "Difference-gini : 0.00241347506119\n",
      "pkl/RandomForest/2018-01-07 02:00:21.988302.pkl\n"
     ]
    }
   ],
   "source": [
    "rnd_clf = RandomForestClassifier(n_estimators=500, max_features=20, max_depth=80,max_leaf_nodes=16, n_jobs=-1)\n",
    "rnd_gini(rnd_clf)"
   ]
  },
  {
   "cell_type": "code",
   "execution_count": 19,
   "metadata": {},
   "outputs": [
    {
     "name": "stdout",
     "output_type": "stream",
     "text": [
      "2018-01-07 01:41:02.813677\n",
      "2018-01-07 01:46:08.818712\n",
      "Train-gini : 0.251520952016\n",
      "Test-gini : 0.250380593557\n",
      "Difference-gini : 0.00114035845915\n"
     ]
    }
   ],
   "source": [
    "rnd_clf = RandomForestClassifier(n_estimators=500, max_features=50, max_depth=80,max_leaf_nodes=16, n_jobs=-1)\n",
    "rnd_gini(rnd_clf)"
   ]
  },
  {
   "cell_type": "code",
   "execution_count": 22,
   "metadata": {},
   "outputs": [
    {
     "name": "stdout",
     "output_type": "stream",
     "text": [
      "Time to fit : -1 day, 23:50:50.684120\n",
      "2018-01-07 01:57:32.427713\n",
      "Train-gini : 0.24353557253\n",
      "Test-gini : 0.243786109975\n",
      "Difference-gini : -0.0002505374449\n",
      "pkl/RandomForest/2018-01-07 01:57:47.165039.pkl\n"
     ]
    }
   ],
   "source": [
    "rnd_clf = RandomForestClassifier(n_estimators=500, max_features=100, max_depth=80,max_leaf_nodes=16, n_jobs=-1)\n",
    "rnd_gini(rnd_clf)"
   ]
  },
  {
   "cell_type": "code",
   "execution_count": 18,
   "metadata": {},
   "outputs": [
    {
     "name": "stdout",
     "output_type": "stream",
     "text": [
      "2018-01-07 01:26:06.539272\n",
      "2018-01-07 01:39:21.273438\n",
      "Train-gini : 0.238508124726\n",
      "Test-gini : 0.238430168774\n",
      "Difference-gini : 7.79559513794e-05\n"
     ]
    }
   ],
   "source": [
    "rnd_clf = RandomForestClassifier(n_estimators=500, max_features=150, max_depth=80,max_leaf_nodes=16, n_jobs=-1)\n",
    "rnd_gini(rnd_clf)"
   ]
  },
  {
   "cell_type": "code",
   "execution_count": 30,
   "metadata": {},
   "outputs": [
    {
     "name": "stdout",
     "output_type": "stream",
     "text": [
      "Time to fit : -1 day, 23:59:02.967641\n",
      "Train-gini : 0.263193986076\n",
      "Test-gini : 0.258099464493\n",
      "Difference-gini : 0.00509452158267\n",
      "Model file file pkl/RandomForest/2018-01-07 02:18:40.616762.pkl\n"
     ]
    }
   ],
   "source": [
    "rnd_clf = RandomForestClassifier(n_estimators=500, max_features=6, max_depth=200,max_leaf_nodes=16, n_jobs=-1)\n",
    "rnd_gini(rnd_clf)"
   ]
  },
  {
   "cell_type": "code",
   "execution_count": 21,
   "metadata": {},
   "outputs": [
    {
     "name": "stdout",
     "output_type": "stream",
     "text": [
      "Time to fit : -1 day, 23:59:02.277795\n",
      "Train-gini : 0.262543509623\n",
      "Test-gini : 0.257240735132\n",
      "Difference-gini : 0.00530277449123\n",
      "Model file : pkl/RandomForest/2018-01-08 00:57:42.879064.pkl\n"
     ]
    }
   ],
   "source": [
    "rnd_clf = RandomForestClassifier(n_estimators=500, max_features=6, max_depth=10,max_leaf_nodes=16, n_jobs=-1)\n",
    "rnd_gini(rnd_clf) # selected"
   ]
  },
  {
   "cell_type": "code",
   "execution_count": 22,
   "metadata": {
    "collapsed": true
   },
   "outputs": [],
   "source": [
    "sub = rnd_clf.predict_proba(X_test)[:,1]\n",
    "make_submission('f2',sub)"
   ]
  },
  {
   "cell_type": "code",
   "execution_count": 23,
   "metadata": {},
   "outputs": [
    {
     "name": "stdout",
     "output_type": "stream",
     "text": [
      "Time to fit : -1 day, 23:58:57.724715\n",
      "Train-gini : 0.260405155152\n",
      "Test-gini : 0.254705985221\n",
      "Difference-gini : 0.00569916993028\n",
      "Model file : pkl/RandomForest/2018-01-08 00:59:26.104094.pkl\n"
     ]
    }
   ],
   "source": [
    "rnd_clf = RandomForestClassifier(n_estimators=500, max_features=6, max_depth=8,max_leaf_nodes=16, n_jobs=-1)\n",
    "rnd_gini(rnd_clf) # selected"
   ]
  },
  {
   "cell_type": "code",
   "execution_count": 24,
   "metadata": {
    "collapsed": true
   },
   "outputs": [],
   "source": [
    "sub = rnd_clf.predict_proba(X_test)[:,1]\n",
    "make_submission('f3',sub)"
   ]
  },
  {
   "cell_type": "code",
   "execution_count": null,
   "metadata": {
    "collapsed": true
   },
   "outputs": [],
   "source": []
  }
 ],
 "metadata": {
  "kernelspec": {
   "display_name": "Python 3",
   "language": "python",
   "name": "python3"
  },
  "language_info": {
   "codemirror_mode": {
    "name": "ipython",
    "version": 3
   },
   "file_extension": ".py",
   "mimetype": "text/x-python",
   "name": "python",
   "nbconvert_exporter": "python",
   "pygments_lexer": "ipython3",
   "version": "3.6.3"
  }
 },
 "nbformat": 4,
 "nbformat_minor": 2
}
