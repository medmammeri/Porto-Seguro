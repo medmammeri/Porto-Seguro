{
 "cells": [
  {
   "cell_type": "code",
   "execution_count": 1,
   "metadata": {
    "collapsed": true
   },
   "outputs": [],
   "source": [
    "import numpy as np\n",
    "import pandas as pd"
   ]
  },
  {
   "cell_type": "markdown",
   "metadata": {},
   "source": [
    "# The data\n",
    "The data we are going to use here is the following :\n",
    "\n",
    "Categorical variables are transformed with get_dummies\n",
    "\n",
    "ps_car_11_cat is not dropped\n",
    "\n",
    "null values are not transformed"
   ]
  },
  {
   "cell_type": "code",
   "execution_count": 2,
   "metadata": {
    "collapsed": true
   },
   "outputs": [],
   "source": [
    "X = np.load('X.npy')\n",
    "X_test = np.load('X_test.npy')\n",
    "y = np.load('y.npy')"
   ]
  },
  {
   "cell_type": "markdown",
   "metadata": {},
   "source": [
    "# XGBoost"
   ]
  },
  {
   "cell_type": "code",
   "execution_count": 6,
   "metadata": {
    "collapsed": true
   },
   "outputs": [],
   "source": [
    "import xgboost as xgb\n",
    "from sklearn.model_selection import KFold, GridSearchCV"
   ]
  },
  {
   "cell_type": "code",
   "execution_count": 7,
   "metadata": {
    "collapsed": true
   },
   "outputs": [],
   "source": [
    "def gini(pred, y):\n",
    "    g = np.asarray(np.c_[y, pred, np.arange(len(y)) ], dtype=np.float)\n",
    "    g = g[np.lexsort((g[:,2], -1*g[:,1]))]\n",
    "    gs = g[:,0].cumsum().sum() / g[:,0].sum()\n",
    "    gs -= (len(y) + 1) / 2.\n",
    "    return gs / len(y)\n",
    "\n",
    "def normalized_gini(pred, y):\n",
    "    return gini(pred, y) / gini(y, y)\n",
    "\n",
    "# custom normalized gini score for xgb model\n",
    "def gini_xgb(pred, y):\n",
    "    y = y.get_label()\n",
    "    return 'gini_f', normalized_gini(pred, y)"
   ]
  },
  {
   "cell_type": "code",
   "execution_count": 8,
   "metadata": {
    "collapsed": true
   },
   "outputs": [],
   "source": [
    "submission = np.zeros(X_test.shape[0])"
   ]
  },
  {
   "cell_type": "code",
   "execution_count": 11,
   "metadata": {},
   "outputs": [
    {
     "name": "stdout",
     "output_type": "stream",
     "text": [
      " xgb kfold: 1 of 5 : \n",
      "[0]\ttrain_f-gini_f:0.198841\teval-gini_f:0.174244\n",
      "Multiple eval metrics have been passed: 'eval-gini_f' will be used for early stopping.\n",
      "\n",
      "Will train until eval-gini_f hasn't improved in 100 rounds.\n",
      "[50]\ttrain_f-gini_f:0.274279\teval-gini_f:0.237939\n",
      "[100]\ttrain_f-gini_f:0.308353\teval-gini_f:0.259246\n",
      "[150]\ttrain_f-gini_f:0.327653\teval-gini_f:0.263725\n",
      "[200]\ttrain_f-gini_f:0.342632\teval-gini_f:0.263689\n",
      "[250]\ttrain_f-gini_f:0.354656\teval-gini_f:0.264048\n",
      "[300]\ttrain_f-gini_f:0.366592\teval-gini_f:0.263808\n",
      "Stopping. Best iteration:\n",
      "[240]\ttrain_f-gini_f:0.352256\teval-gini_f:0.264606\n",
      "\n",
      " xgb kfold: 2 of 5 : \n",
      "[0]\ttrain_f-gini_f:0.206068\teval-gini_f:0.195686\n",
      "Multiple eval metrics have been passed: 'eval-gini_f' will be used for early stopping.\n",
      "\n",
      "Will train until eval-gini_f hasn't improved in 100 rounds.\n",
      "[50]\ttrain_f-gini_f:0.270441\teval-gini_f:0.250905\n",
      "[100]\ttrain_f-gini_f:0.304832\teval-gini_f:0.273319\n",
      "[150]\ttrain_f-gini_f:0.325364\teval-gini_f:0.279364\n",
      "[200]\ttrain_f-gini_f:0.341372\teval-gini_f:0.281615\n",
      "[250]\ttrain_f-gini_f:0.35524\teval-gini_f:0.280901\n",
      "[300]\ttrain_f-gini_f:0.367147\teval-gini_f:0.280394\n",
      "Stopping. Best iteration:\n",
      "[220]\ttrain_f-gini_f:0.347294\teval-gini_f:0.281797\n",
      "\n",
      " xgb kfold: 3 of 5 : \n",
      "[0]\ttrain_f-gini_f:0.196351\teval-gini_f:0.195429\n",
      "Multiple eval metrics have been passed: 'eval-gini_f' will be used for early stopping.\n",
      "\n",
      "Will train until eval-gini_f hasn't improved in 100 rounds.\n",
      "[50]\ttrain_f-gini_f:0.269293\teval-gini_f:0.260101\n",
      "[100]\ttrain_f-gini_f:0.303284\teval-gini_f:0.280065\n",
      "[150]\ttrain_f-gini_f:0.323466\teval-gini_f:0.28417\n",
      "[200]\ttrain_f-gini_f:0.338329\teval-gini_f:0.287294\n",
      "[250]\ttrain_f-gini_f:0.352502\teval-gini_f:0.289102\n",
      "[300]\ttrain_f-gini_f:0.364736\teval-gini_f:0.288652\n",
      "[350]\ttrain_f-gini_f:0.376309\teval-gini_f:0.287928\n",
      "Stopping. Best iteration:\n",
      "[259]\ttrain_f-gini_f:0.354911\teval-gini_f:0.289375\n",
      "\n",
      " xgb kfold: 4 of 5 : \n",
      "[0]\ttrain_f-gini_f:0.190419\teval-gini_f:0.188365\n",
      "Multiple eval metrics have been passed: 'eval-gini_f' will be used for early stopping.\n",
      "\n",
      "Will train until eval-gini_f hasn't improved in 100 rounds.\n",
      "[50]\ttrain_f-gini_f:0.267331\teval-gini_f:0.258543\n",
      "[100]\ttrain_f-gini_f:0.303727\teval-gini_f:0.278174\n",
      "[150]\ttrain_f-gini_f:0.323225\teval-gini_f:0.282316\n",
      "[200]\ttrain_f-gini_f:0.338275\teval-gini_f:0.283768\n",
      "[250]\ttrain_f-gini_f:0.351836\teval-gini_f:0.283661\n",
      "Stopping. Best iteration:\n",
      "[195]\ttrain_f-gini_f:0.337244\teval-gini_f:0.284405\n",
      "\n",
      " xgb kfold: 5 of 5 : \n",
      "[0]\ttrain_f-gini_f:0.189844\teval-gini_f:0.191867\n",
      "Multiple eval metrics have been passed: 'eval-gini_f' will be used for early stopping.\n",
      "\n",
      "Will train until eval-gini_f hasn't improved in 100 rounds.\n",
      "[50]\ttrain_f-gini_f:0.270421\teval-gini_f:0.254282\n",
      "[100]\ttrain_f-gini_f:0.303322\teval-gini_f:0.278437\n",
      "[150]\ttrain_f-gini_f:0.321259\teval-gini_f:0.283334\n",
      "[200]\ttrain_f-gini_f:0.33607\teval-gini_f:0.285417\n",
      "[250]\ttrain_f-gini_f:0.348785\teval-gini_f:0.287014\n",
      "[300]\ttrain_f-gini_f:0.360969\teval-gini_f:0.286588\n",
      "[350]\ttrain_f-gini_f:0.372828\teval-gini_f:0.287467\n",
      "[400]\ttrain_f-gini_f:0.383152\teval-gini_f:0.287713\n",
      "[450]\ttrain_f-gini_f:0.393657\teval-gini_f:0.286475\n"
     ]
    }
   ],
   "source": [
    "kfold = 5\n",
    "nrounds=500\n",
    "params = {\n",
    "    'eta': 0.07,\n",
    "    'max_depth': 4,\n",
    "    'min_child_weight': 6,\n",
    "    'subsample': 0.8,\n",
    "    'colsample_bytree':0.8,\n",
    "    'objective': 'binary:logistic',\n",
    "    'eval_metric': 'auc',\n",
    "    'silent': True,\n",
    "    'n_jobs':-1\n",
    "}\n",
    "\n",
    "kf = KFold(n_splits=kfold, shuffle=True, random_state=322)\n",
    "\n",
    "for i, (train_index, cv_index) in enumerate(kf.split(X)):\n",
    "\n",
    "    print(' xgb kfold: {} of {} : '.format(i+1, kfold))\n",
    "    X_train, X_eval = X[train_index,:], X[cv_index,:]\n",
    "    y_train, y_eval = y[train_index], y[cv_index]\n",
    "\n",
    "    d_train = xgb.DMatrix(X_train, y_train) \n",
    "    d_valid = xgb.DMatrix(X_eval, y_eval)\n",
    "\n",
    "    watchlist = [(d_train, 'train_f'), (d_valid, 'eval')]\n",
    "    xgb_model = xgb.train(params,\n",
    "                          d_train,\n",
    "                          nrounds,\n",
    "                          watchlist,\n",
    "                          early_stopping_rounds=100,\n",
    "                          feval=gini_xgb,\n",
    "                          maximize=True,\n",
    "                          verbose_eval=50)\n",
    "    # Updating prediction by taking the average\n",
    "    submission += xgb_model.predict(xgb.DMatrix(X_test)) / kfold"
   ]
  },
  {
   "cell_type": "code",
   "execution_count": 12,
   "metadata": {
    "collapsed": true
   },
   "outputs": [],
   "source": [
    "porto_test_id = pd.read_csv('data/test.csv',usecols=['id'])\n",
    "def make_submission(name, pred):\n",
    "    s = porto_test_id['id'].to_frame()\n",
    "    s['target'] = pred\n",
    "    s.to_csv('Submissions/'+name+'.csv',index=False)"
   ]
  },
  {
   "cell_type": "code",
   "execution_count": 14,
   "metadata": {
    "collapsed": true
   },
   "outputs": [],
   "source": [
    "make_submission('fxgb',submission)"
   ]
  },
  {
   "cell_type": "markdown",
   "metadata": {},
   "source": [
    "This gives a Kaggle private score of 0.28593"
   ]
  }
 ],
 "metadata": {
  "kernelspec": {
   "display_name": "Python 3",
   "language": "python",
   "name": "python3"
  },
  "language_info": {
   "codemirror_mode": {
    "name": "ipython",
    "version": 3
   },
   "file_extension": ".py",
   "mimetype": "text/x-python",
   "name": "python",
   "nbconvert_exporter": "python",
   "pygments_lexer": "ipython3",
   "version": "3.6.3"
  }
 },
 "nbformat": 4,
 "nbformat_minor": 2
}
