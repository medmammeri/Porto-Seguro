{
 "cells": [
  {
   "cell_type": "markdown",
   "metadata": {},
   "source": [
    "# Kaggle Project "
   ]
  },
  {
   "cell_type": "code",
   "execution_count": 1,
   "metadata": {
    "collapsed": true
   },
   "outputs": [],
   "source": [
    "import numpy as np\n",
    "import pandas as pd"
   ]
  },
  {
   "cell_type": "markdown",
   "metadata": {},
   "source": [
    "## Métrique de performance"
   ]
  },
  {
   "cell_type": "code",
   "execution_count": 18,
   "metadata": {
    "collapsed": true
   },
   "outputs": [],
   "source": [
    "#Indice de gini normalisé comme métrique pour mesurer la précision\n",
    "from sklearn.metrics import roc_curve, auc\n",
    "from sklearn.metrics import make_scorer\n",
    "\n",
    "def gini(y, y_pred_prob):\n",
    "    fpr, tpr, thr = roc_curve(y, y_pred_prob, pos_label=1)\n",
    "    g = 2 * auc(fpr, tpr) - 1\n",
    "    return g\n",
    "\n",
    "    \n",
    "def normalized_gini(y, y_pred_prob):\n",
    "    return gini(y, y_pred_prob) / gini(y, y)\n",
    "\n",
    "\n",
    "norm_gini = make_scorer(normalized_gini)"
   ]
  },
  {
   "cell_type": "code",
   "execution_count": 23,
   "metadata": {
    "collapsed": true
   },
   "outputs": [],
   "source": [
    "def gini(y, pred):\n",
    "    g = np.asarray(np.c_[y, pred, np.arange(len(y)) ], dtype=np.float)\n",
    "    g = g[np.lexsort((g[:,2], -1*g[:,1]))]\n",
    "    gs = g[:,0].cumsum().sum() / g[:,0].sum()\n",
    "    gs -= (len(y) + 1) / 2.\n",
    "    return gs / len(y)\n",
    "\n",
    "def normalized_gini(y, pred):\n",
    "    return gini(y, pred) / gini(y, y)\n",
    "\n",
    "# custom normalized gini score for xgb model\n",
    "def gini_xgb(y, pred):\n",
    "    y = y.get_label()\n",
    "    return 'gini', normalized_gini(y, pred)\n",
    "\n",
    "norm_gini = make_scorer(normalized_gini)"
   ]
  },
  {
   "cell_type": "markdown",
   "metadata": {},
   "source": [
    "## Reading Data"
   ]
  },
  {
   "cell_type": "code",
   "execution_count": 3,
   "metadata": {
    "collapsed": true
   },
   "outputs": [],
   "source": [
    "train = pd.read_csv('train.csv')\n",
    "test = pd.read_csv('test.csv')"
   ]
  },
  {
   "cell_type": "markdown",
   "metadata": {},
   "source": [
    "## Data Analysis"
   ]
  },
  {
   "cell_type": "code",
   "execution_count": 3,
   "metadata": {
    "collapsed": true
   },
   "outputs": [],
   "source": [
    "X = train.drop('target',axis = 1)\n",
    "y = train['target']"
   ]
  },
  {
   "cell_type": "code",
   "execution_count": 16,
   "metadata": {},
   "outputs": [
    {
     "data": {
      "text/plain": [
       "0    573518\n",
       "1     21694\n",
       "Name: target, dtype: int64"
      ]
     },
     "execution_count": 16,
     "metadata": {},
     "output_type": "execute_result"
    }
   ],
   "source": [
    "y.value_counts()"
   ]
  },
  {
   "cell_type": "markdown",
   "metadata": {},
   "source": [
    "On a beaucoup plus de valeurs 0 que de 1, donc on s'attend à ce que les prédictions de proba pour la classe 1 soient faibles\n",
    "et on va privilégier donc l'utilisation de la métrique roc_auc_score vu que le nombre de 0 et de 1 n'est pas équilibré."
   ]
  },
  {
   "cell_type": "code",
   "execution_count": 5,
   "metadata": {},
   "outputs": [
    {
     "data": {
      "text/plain": [
       "Index(['id', 'target', 'ps_ind_01', 'ps_ind_02_cat', 'ps_ind_03',\n",
       "       'ps_ind_04_cat', 'ps_ind_05_cat', 'ps_ind_06_bin', 'ps_ind_07_bin',\n",
       "       'ps_ind_08_bin', 'ps_ind_09_bin', 'ps_ind_10_bin', 'ps_ind_11_bin',\n",
       "       'ps_ind_12_bin', 'ps_ind_13_bin', 'ps_ind_14', 'ps_ind_15',\n",
       "       'ps_ind_16_bin', 'ps_ind_17_bin', 'ps_ind_18_bin', 'ps_reg_01',\n",
       "       'ps_reg_02', 'ps_reg_03', 'ps_car_01_cat', 'ps_car_02_cat',\n",
       "       'ps_car_03_cat', 'ps_car_04_cat', 'ps_car_05_cat', 'ps_car_06_cat',\n",
       "       'ps_car_07_cat', 'ps_car_08_cat', 'ps_car_09_cat', 'ps_car_10_cat',\n",
       "       'ps_car_11_cat', 'ps_car_11', 'ps_car_12', 'ps_car_13', 'ps_car_14',\n",
       "       'ps_car_15', 'ps_calc_01', 'ps_calc_02', 'ps_calc_03', 'ps_calc_04',\n",
       "       'ps_calc_05', 'ps_calc_06', 'ps_calc_07', 'ps_calc_08', 'ps_calc_09',\n",
       "       'ps_calc_10', 'ps_calc_11', 'ps_calc_12', 'ps_calc_13', 'ps_calc_14',\n",
       "       'ps_calc_15_bin', 'ps_calc_16_bin', 'ps_calc_17_bin', 'ps_calc_18_bin',\n",
       "       'ps_calc_19_bin', 'ps_calc_20_bin'],\n",
       "      dtype='object')"
      ]
     },
     "execution_count": 5,
     "metadata": {},
     "output_type": "execute_result"
    }
   ],
   "source": [
    "train.columns"
   ]
  },
  {
   "cell_type": "code",
   "execution_count": 5,
   "metadata": {},
   "outputs": [
    {
     "name": "stdout",
     "output_type": "stream",
     "text": [
      "id\n",
      "[      7       9      13 ..., 1488017 1488021 1488027]\n",
      "target\n",
      "[0 1]\n",
      "ps_ind_01\n",
      "[0 1 2 3 4 5 6 7]\n",
      "ps_ind_02_cat\n",
      "[-1  1  2  3  4]\n",
      "ps_ind_03\n",
      "[ 0  1  2  3  4  5  6  7  8  9 10 11]\n",
      "ps_ind_04_cat\n",
      "[-1  0  1]\n",
      "ps_ind_05_cat\n",
      "[-1  0  1  2  3  4  5  6]\n",
      "ps_ind_06_bin\n",
      "[0 1]\n",
      "ps_ind_07_bin\n",
      "[0 1]\n",
      "ps_ind_08_bin\n",
      "[0 1]\n",
      "ps_ind_09_bin\n",
      "[0 1]\n",
      "ps_ind_10_bin\n",
      "[0 1]\n",
      "ps_ind_11_bin\n",
      "[0 1]\n",
      "ps_ind_12_bin\n",
      "[0 1]\n",
      "ps_ind_13_bin\n",
      "[0 1]\n",
      "ps_ind_14\n",
      "[0 1 2 3 4]\n",
      "ps_ind_15\n",
      "[ 0  1  2  3  4  5  6  7  8  9 10 11 12 13]\n",
      "ps_ind_16_bin\n",
      "[0 1]\n",
      "ps_ind_17_bin\n",
      "[0 1]\n",
      "ps_ind_18_bin\n",
      "[0 1]\n",
      "ps_reg_01\n",
      "[ 0.   0.1  0.2  0.3  0.4  0.5  0.6  0.7  0.8  0.9]\n",
      "ps_reg_02\n",
      "[ 0.   0.1  0.2  0.3  0.4  0.5  0.6  0.7  0.8  0.9  1.   1.1  1.2  1.3  1.4\n",
      "  1.5  1.6  1.7  1.8]\n",
      "ps_reg_03\n",
      "[-1.          0.06123724  0.075      ...,  3.49079146  3.78772689\n",
      "  4.03794502]\n",
      "ps_car_01_cat\n",
      "[-1  0  1  2  3  4  5  6  7  8  9 10 11]\n",
      "ps_car_02_cat\n",
      "[-1  0  1]\n",
      "ps_car_03_cat\n",
      "[-1  0  1]\n",
      "ps_car_04_cat\n",
      "[0 1 2 3 4 5 6 7 8 9]\n",
      "ps_car_05_cat\n",
      "[-1  0  1]\n",
      "ps_car_06_cat\n",
      "[ 0  1  2  3  4  5  6  7  8  9 10 11 12 13 14 15 16 17]\n",
      "ps_car_07_cat\n",
      "[-1  0  1]\n",
      "ps_car_08_cat\n",
      "[0 1]\n",
      "ps_car_09_cat\n",
      "[-1  0  1  2  3  4]\n",
      "ps_car_10_cat\n",
      "[0 1 2]\n",
      "ps_car_11_cat\n",
      "[  1   2   3   4   5   6   7   8   9  10  11  12  13  14  15  16  17  18\n",
      "  19  20  21  22  23  24  25  26  27  28  29  30  31  32  33  34  35  36\n",
      "  37  38  39  40  41  42  43  44  45  46  47  48  49  50  51  52  53  54\n",
      "  55  56  57  58  59  60  61  62  63  64  65  66  67  68  69  70  71  72\n",
      "  73  74  75  76  77  78  79  80  81  82  83  84  85  86  87  88  89  90\n",
      "  91  92  93  94  95  96  97  98  99 100 101 102 103 104]\n",
      "ps_car_11\n",
      "[-1  0  1  2  3]\n",
      "ps_car_12\n",
      "[-1.          0.1         0.14142136  0.14832397  0.17320508  0.28284271\n",
      "  0.3088689   0.31527766  0.31559468  0.31575307  0.31606961  0.31622777\n",
      "  0.33166248  0.34641016  0.35199432  0.3524202   0.36        0.36041643\n",
      "  0.36055513  0.36878178  0.37040518  0.37255872  0.3726929   0.37416574\n",
      "  0.38639358  0.38691084  0.38729833  0.39433488  0.39471509  0.39522146\n",
      "  0.39560081  0.39724048  0.39749214  0.39761791  0.39799497  0.39812058\n",
      "  0.39837169  0.39862263  0.39874804  0.39899875  0.39937451  0.39949969\n",
      "  0.39962482  0.39974992  0.39987498  0.4         0.40841156  0.41231056\n",
      "  0.41797129  0.41964271  0.42178193  0.42201896  0.42355637  0.4236744\n",
      "  0.4237924   0.4240283   0.4241462   0.42426407  0.42825226  0.43566042\n",
      "  0.43588989  0.44384682  0.44418465  0.44542115  0.44553339  0.44586994\n",
      "  0.44598206  0.44620623  0.44654227  0.44665423  0.44676616  0.44687806\n",
      "  0.44698993  0.44710178  0.4472136   0.46368092  0.46432747  0.46518813\n",
      "  0.46529561  0.46593991  0.46882833  0.46904158  0.4747631   0.47539457\n",
      "  0.47822589  0.47906158  0.47958315  0.48        0.48487112  0.48518038\n",
      "  0.48969378  0.48989795  0.49457052  0.49568135  0.49638695  0.49769469\n",
      "  0.49929951  0.49939964  0.49949975  0.49969991  0.49979996  0.5\n",
      "  0.50049975  0.50990195  0.5105879   0.51536395  0.51961524  0.52640289\n",
      "  0.52763624  0.52810984  0.52848841  0.52896125  0.52905576  0.52915026\n",
      "  0.53244718  0.53786615  0.53851648  0.54378304  0.54424259  0.54470175\n",
      "  0.54516053  0.54580216  0.54607692  0.54644304  0.54662601  0.54726593\n",
      "  0.54735729  0.54744863  0.54772256  0.56249444  0.56559703  0.56568542\n",
      "  0.57445626  0.5745433   0.58120564  0.58309519  0.59143892  0.59160798\n",
      "  0.6         0.60506198  0.60827625  0.61465437  0.61571097  0.6164414\n",
      "  0.6244998   0.62498     0.62609903  0.62912638  0.63087241  0.63213923\n",
      "  0.63245553  0.63976558  0.64007812  0.64031242  0.64591021  0.6476882\n",
      "  0.64776539  0.64791975  0.64799691  0.64807407  0.65559134  0.6556676\n",
      "  0.65574385  0.66317419  0.66332496  0.67082039  0.678233    0.68563839\n",
      "  0.69282032  0.69942834  0.70092796  0.70469852  0.70519501  0.70710678\n",
      "  0.72111026  0.72318739  0.74161985  0.75498344  0.76811457  0.77278716\n",
      "  0.78102497  0.78740079  0.81853528  1.26491106]\n",
      "ps_car_13\n",
      "[ 0.25061907  0.28733601  0.29041151 ...,  3.44256295  3.51580258  3.720626  ]\n",
      "ps_car_14\n",
      "[-1.          0.10954451  0.1183216   0.13601471  0.2         0.2078461\n",
      "  0.20976177  0.21095023  0.21307276  0.21794495  0.22135944  0.22315914\n",
      "  0.2236068   0.22427661  0.23021729  0.23323808  0.23345235  0.23452079\n",
      "  0.24899799  0.26172505  0.26457513  0.27386128  0.27748874  0.2792848\n",
      "  0.28195744  0.28284271  0.28372522  0.28548205  0.28600699  0.28635642\n",
      "  0.28722813  0.28809721  0.28827071  0.28879058  0.28982753  0.29257478\n",
      "  0.29325757  0.29410882  0.29444864  0.29495762  0.29512709  0.29529646\n",
      "  0.29614186  0.29664794  0.29732137  0.29832868  0.29916551  0.3\n",
      "  0.30033315  0.30066593  0.30083218  0.30166206  0.30199338  0.30248967\n",
      "  0.30331502  0.30413813  0.30495901  0.30561414  0.3057777   0.30610456\n",
      "  0.30659419  0.30708305  0.30740852  0.30773365  0.30805844  0.3082207\n",
      "  0.30854497  0.30870698  0.30903074  0.30967725  0.31032241  0.31064449\n",
      "  0.31112698  0.31144823  0.31256999  0.31304952  0.3132092   0.31352831\n",
      "  0.3138471   0.31400637  0.3144837   0.31464265  0.31527766  0.31622777\n",
      "  0.31654384  0.31670175  0.31701735  0.31733263  0.31749016  0.3176476\n",
      "  0.31780497  0.31811947  0.31827661  0.31859065  0.31906112  0.31921779\n",
      "  0.31937439  0.31953091  0.31968735  0.31984371  0.32        0.32015621\n",
      "  0.32046841  0.32062439  0.3207803   0.32093613  0.32109189  0.32124757\n",
      "  0.32140317  0.3215587   0.32171416  0.32186954  0.32249031  0.32264532\n",
      "  0.3232646   0.32403703  0.3241913   0.32434549  0.32465366  0.32480764\n",
      "  0.32496154  0.32557641  0.32572995  0.32603681  0.32619013  0.32634338\n",
      "  0.32649655  0.32664966  0.32680269  0.32695565  0.32710854  0.32726136\n",
      "  0.32741411  0.32756679  0.32787193  0.32802439  0.32817678  0.32848135\n",
      "  0.32863353  0.32878564  0.32893768  0.32924155  0.32939338  0.32969683\n",
      "  0.32984845  0.33        0.33015148  0.33030289  0.33045423  0.33060551\n",
      "  0.33075671  0.33090784  0.33136083  0.33151169  0.33166248  0.33211444\n",
      "  0.33226495  0.3324154   0.33316662  0.33361655  0.33376639  0.33391616\n",
      "  0.33406586  0.3342155   0.33466401  0.33481338  0.33496268  0.3354102\n",
      "  0.33555923  0.33570821  0.33585711  0.33600595  0.33615473  0.33689761\n",
      "  0.33734256  0.33749074  0.33763886  0.33778692  0.33793491  0.33808283\n",
      "  0.33837849  0.33867388  0.33882149  0.3391165   0.33955854  0.33985291\n",
      "  0.34044089  0.34058773  0.34088121  0.34117444  0.34132096  0.34146742\n",
      "  0.34176015  0.34205263  0.34219877  0.34234486  0.34249088  0.34278273\n",
      "  0.34292856  0.34351128  0.34365681  0.34394767  0.34409301  0.34423829\n",
      "  0.34438351  0.34452866  0.34467376  0.34496377  0.34539832  0.34554305\n",
      "  0.34568772  0.34583233  0.34597688  0.34626579  0.34641016  0.34669872\n",
      "  0.3468429   0.3471311   0.34727511  0.34741906  0.34785054  0.34799425\n",
      "  0.3481379   0.3485685   0.34871192  0.34885527  0.34899857  0.34928498\n",
      "  0.34985711  0.35        0.35014283  0.35042831  0.35071356  0.3508561\n",
      "  0.35099858  0.35142567  0.35171011  0.35185224  0.35213634  0.35284558\n",
      "  0.35312887  0.35341194  0.35355339  0.35425979  0.35454196  0.35468296\n",
      "  0.3548239   0.35496479  0.35566838  0.35608988  0.35623026  0.35637059\n",
      "  0.35679126  0.35707142  0.35721142  0.35749126  0.35777088  0.35818989\n",
      "  0.35832946  0.35846897  0.35860842  0.35888717  0.3591657   0.35944402\n",
      "  0.35958309  0.35972212  0.35986108  0.36        0.36013886  0.36055513\n",
      "  0.36083237  0.36097091  0.36124784  0.36138622  0.36152455  0.36166283\n",
      "  0.36180105  0.36193922  0.36221541  0.36262929  0.36290495  0.3630427\n",
      "  0.36331804  0.36373067  0.36386811  0.36400549  0.36414283  0.36469165\n",
      "  0.36496575  0.36510273  0.36537652  0.36551334  0.36565011  0.36578682\n",
      "  0.36592349  0.3660601   0.36633318  0.36646964  0.36660606  0.36674242\n",
      "  0.36742346  0.36769553  0.36783148  0.36810325  0.36837481  0.36851052\n",
      "  0.36878178  0.3691883   0.36959437  0.36986484  0.37        0.37013511\n",
      "  0.37027017  0.37040518  0.37067506  0.37080992  0.37107951  0.37134889\n",
      "  0.37148351  0.37161808  0.3720215   0.37215588  0.37242449  0.37255872\n",
      "  0.3726929   0.37282704  0.37296112  0.37309516  0.37349699  0.37363083\n",
      "  0.37403208  0.37416574  0.37429935  0.3744329   0.37456642  0.37469988\n",
      "  0.3748333   0.37536649  0.37549967  0.37603191  0.37616486  0.3764306\n",
      "  0.37656341  0.37682887  0.37735925  0.37749172  0.37802116  0.37815341\n",
      "  0.37841776  0.37854986  0.37881394  0.37894591  0.37934153  0.37947332\n",
      "  0.37960506  0.3798684   0.38013156  0.38026307  0.38078866  0.38091994\n",
      "  0.38131352  0.38144462  0.38157568  0.38170669  0.38196859  0.38209946\n",
      "  0.38236109  0.38249183  0.38262253  0.38275318  0.38327536  0.38340579\n",
      "  0.38353618  0.38366652  0.38392708  0.38405729  0.38418745  0.38457769\n",
      "  0.38470768  0.38483763  0.38496753  0.38509739  0.38522721  0.38535698\n",
      "  0.38548671  0.38561639  0.38587563  0.38600518  0.38613469  0.3866523\n",
      "  0.38678159  0.38691084  0.38704005  0.38729833  0.38742741  0.38794329\n",
      "  0.38832976  0.38845849  0.38858718  0.38871583  0.38884444  0.38897301\n",
      "  0.38923001  0.38935845  0.38961519  0.38974351  0.38987177  0.39\n",
      "  0.39012818  0.39025633  0.39038443  0.39051248  0.3906405   0.39076847\n",
      "  0.39089641  0.3910243   0.39115214  0.39140772  0.39179076  0.39204592\n",
      "  0.39242834  0.39268308  0.39293765  0.39306488  0.39319206  0.39331921\n",
      "  0.39344631  0.39370039  0.39382737  0.39408121  0.39433488  0.39496835\n",
      "  0.39522146  0.39534795  0.39560081  0.39572718  0.39585351  0.3959798\n",
      "  0.39623226  0.39635842  0.39648455  0.3968627   0.39698866  0.39724048\n",
      "  0.39749214  0.39761791  0.39774364  0.39812058  0.39837169  0.39849718\n",
      "  0.39862263  0.39874804  0.39887341  0.39912404  0.3992493   0.39937451\n",
      "  0.39962482  0.39987498  0.4         0.40037482  0.40049969  0.40062451\n",
      "  0.40087405  0.40099875  0.40124805  0.40137264  0.40162171  0.40174619\n",
      "  0.40187063  0.40224371  0.40236799  0.40249224  0.40261644  0.40274061\n",
      "  0.40311289  0.40348482  0.40373258  0.40385641  0.4039802   0.40435133\n",
      "  0.40459857  0.40472213  0.40484565  0.40496913  0.40521599  0.40533936\n",
      "  0.405586    0.40570926  0.40620192  0.40632499  0.40669399  0.40681691\n",
      "  0.40743098  0.40804412  0.40841156  0.40865633  0.40914545  0.40926764\n",
      "  0.40938979  0.40975603  0.40987803  0.41012193  0.41024383  0.41036569\n",
      "  0.41048752  0.41073106  0.4110961   0.41146081  0.41170378  0.41218928\n",
      "  0.41231056  0.41243181  0.41255303  0.41291646  0.41303753  0.41352146\n",
      "  0.41412558  0.41448764  0.41460825  0.41472883  0.41509035  0.41533119\n",
      "  0.41545156  0.41581246  0.41593269  0.41653331  0.41665333  0.41677332\n",
      "  0.41713307  0.41749251  0.41761226  0.41773197  0.41785165  0.41797129\n",
      "  0.4180909   0.41821047  0.41833001  0.41856899  0.4189272   0.41904654\n",
      "  0.41916584  0.41928511  0.41952354  0.41964271  0.42011903  0.42071368\n",
      "  0.42083251  0.42107007  0.42118879  0.42130749  0.42154478  0.42166337\n",
      "  0.42190046  0.4224926   0.42284749  0.42308392  0.42320208  0.42332021\n",
      "  0.42343831  0.4236744   0.4237924   0.4241462   0.42426407  0.42449971\n",
      "  0.42461747  0.42473521  0.42485292  0.42520583  0.42532341  0.42544095\n",
      "  0.42567593  0.42602817  0.42661458  0.42684892  0.42696604  0.42720019\n",
      "  0.42731721  0.42743421  0.42778499  0.42790186  0.428369    0.42860238\n",
      "  0.42895221  0.42918527  0.42930176  0.42953463  0.42976738  0.43\n",
      "  0.43011626  0.4302325   0.43046486  0.430581    0.43069711  0.43081318\n",
      "  0.43116122  0.43127717  0.43162484  0.43185646  0.43197222  0.43208795\n",
      "  0.43243497  0.4327817   0.43289722  0.4330127   0.43358967  0.43393548\n",
      "  0.43416587  0.4347413   0.4348563   0.43497126  0.43531598  0.43543082\n",
      "  0.43588989  0.43634848  0.43646306  0.43669211  0.43703547  0.43749286\n",
      "  0.43772137  0.43817805  0.43829214  0.4384062   0.43852024  0.43874822\n",
      "  0.43943145  0.43954522  0.43988635  0.44022721  0.44045431  0.44068129\n",
      "  0.44090815  0.44102154  0.44124823  0.44158804  0.4419276   0.44215382\n",
      "  0.44271887  0.4428318   0.44362146  0.44384682  0.44395946  0.44407207\n",
      "  0.44440972  0.44452222  0.44463468  0.44497191  0.44542115  0.44553339\n",
      "  0.44586994  0.44609416  0.44665423  0.44676616  0.44687806  0.4472136\n",
      "  0.44777226  0.44799554  0.4482187   0.44833024  0.44888751  0.44899889\n",
      "  0.4494441   0.44977772  0.4501111   0.45022217  0.45033321  0.45055521\n",
      "  0.45110974  0.45144213  0.45166359  0.45199558  0.45221676  0.45243784\n",
      "  0.45265881  0.45276926  0.45332108  0.45343136  0.45387223  0.45442271\n",
      "  0.45464272  0.45497253  0.4553021   0.45607017  0.45628938  0.45639895\n",
      "  0.45672749  0.45716518  0.4577117   0.45814845  0.45825757  0.45880279\n",
      "  0.45912961  0.45934736  0.45978256  0.46        0.46043458  0.46151923\n",
      "  0.46173586  0.4620606   0.46260134  0.46314145  0.46335731  0.46368092\n",
      "  0.46421978  0.464758    0.46529561  0.46540305  0.46583259  0.4669047\n",
      "  0.46743984  0.46797436  0.46850827  0.46904158  0.46957428  0.47\n",
      "  0.47010637  0.47116876  0.47159304  0.47222876  0.47275787  0.47328638\n",
      "  0.47381431  0.47434165  0.47465777  0.4748684   0.47539457  0.47623524\n",
      "  0.4769696   0.47749346  0.47853944  0.47927028  0.47979162  0.48062459\n",
      "  0.48135226  0.48166378  0.48332184  0.48373546  0.48414874  0.48476799\n",
      "  0.48528342  0.48579831  0.48631266  0.48785244  0.48887626  0.48928519\n",
      "  0.48989795  0.49345719  0.49396356  0.49446941  0.49497475  0.49517674\n",
      "  0.49598387  0.49648766  0.49678969  0.49699095  0.49759421  0.49799598\n",
      "  0.49879856  0.498999    0.49949975  0.50049975  0.500999    0.50149776\n",
      "  0.50199602  0.50249378  0.50358713  0.50398413  0.50497525  0.50547008\n",
      "  0.50576674  0.50596443  0.50655701  0.50675438  0.50714889  0.507937\n",
      "  0.5105879   0.51117512  0.51137071  0.51185936  0.51254268  0.51283526\n",
      "  0.51652686  0.51691392  0.51768716  0.5186521   0.51961524  0.52048055\n",
      "  0.5205766   0.52105662  0.52134442  0.52153619  0.52249402  0.52297227\n",
      "  0.52345009  0.52440442  0.52678269  0.52725705  0.52773099  0.52820451\n",
      "  0.5286776   0.52915026  0.53009433  0.53103672  0.53150729  0.53197744\n",
      "  0.53244718  0.5329165   0.53385391  0.53478968  0.53525695  0.53619026\n",
      "  0.53665631  0.53851648  0.53944416  0.5399074   0.5417564   0.54267854\n",
      "  0.54313902  0.54350713  0.54405882  0.54543561  0.54863467  0.54954527\n",
      "  0.55045436  0.55090834  0.55136195  0.55226805  0.55407581  0.55434646\n",
      "  0.55452683  0.55497748  0.55677644  0.55901699  0.56035703  0.56124861\n",
      "  0.56568542  0.56595053  0.56656862  0.56789083  0.56833089  0.57008771\n",
      "  0.57445626  0.57532599  0.58309519  0.58736701  0.59160798  0.59581876\n",
      "  0.60332413  0.60991803  0.63166447  0.6363961 ]\n",
      "ps_car_15\n"
     ]
    },
    {
     "name": "stdout",
     "output_type": "stream",
     "text": [
      "[ 0.          1.          1.41421356  1.73205081  2.          2.23606798\n",
      "  2.44948974  2.64575131  2.82842712  3.          3.16227766  3.31662479\n",
      "  3.46410162  3.60555128  3.74165739]\n",
      "ps_calc_01\n",
      "[ 0.   0.1  0.2  0.3  0.4  0.5  0.6  0.7  0.8  0.9]\n",
      "ps_calc_02\n",
      "[ 0.   0.1  0.2  0.3  0.4  0.5  0.6  0.7  0.8  0.9]\n",
      "ps_calc_03\n",
      "[ 0.   0.1  0.2  0.3  0.4  0.5  0.6  0.7  0.8  0.9]\n",
      "ps_calc_04\n",
      "[0 1 2 3 4 5]\n",
      "ps_calc_05\n",
      "[0 1 2 3 4 5 6]\n",
      "ps_calc_06\n",
      "[ 0  1  2  3  4  5  6  7  8  9 10]\n",
      "ps_calc_07\n",
      "[0 1 2 3 4 5 6 7 8 9]\n",
      "ps_calc_08\n",
      "[ 2  3  4  5  6  7  8  9 10 11 12]\n",
      "ps_calc_09\n",
      "[0 1 2 3 4 5 6 7]\n",
      "ps_calc_10\n",
      "[ 0  1  2  3  4  5  6  7  8  9 10 11 12 13 14 15 16 17 18 19 20 21 22 23 24\n",
      " 25]\n",
      "ps_calc_11\n",
      "[ 0  1  2  3  4  5  6  7  8  9 10 11 12 13 14 15 16 17 18 19]\n",
      "ps_calc_12\n",
      "[ 0  1  2  3  4  5  6  7  8  9 10]\n",
      "ps_calc_13\n",
      "[ 0  1  2  3  4  5  6  7  8  9 10 11 12 13]\n",
      "ps_calc_14\n",
      "[ 0  1  2  3  4  5  6  7  8  9 10 11 12 13 14 15 16 17 18 19 20 21 22 23]\n",
      "ps_calc_15_bin\n",
      "[0 1]\n",
      "ps_calc_16_bin\n",
      "[0 1]\n",
      "ps_calc_17_bin\n",
      "[0 1]\n",
      "ps_calc_18_bin\n",
      "[0 1]\n",
      "ps_calc_19_bin\n",
      "[0 1]\n",
      "ps_calc_20_bin\n",
      "[0 1]\n"
     ]
    }
   ],
   "source": [
    "#Toutes les valeurs possibles de chaque variable\n",
    "for i in range(0,train.shape[1]):\n",
    "    print(train.columns[i])\n",
    "    print(np.unique(train.iloc[:,i]))"
   ]
  },
  {
   "cell_type": "markdown",
   "metadata": {},
   "source": [
    "## Gestion des variables catégorielles"
   ]
  },
  {
   "cell_type": "code",
   "execution_count": 4,
   "metadata": {
    "collapsed": true
   },
   "outputs": [],
   "source": [
    "#train.filter = matrice contenant les variables catégorielles \n",
    "categorical_features = train.filter(like='cat', axis=1).columns.values.tolist()\n",
    "#categorical_features.remove('ps_car_11_cat') # cette variable catégorie possède beaucoup de catégories, il faut la traiter à part"
   ]
  },
  {
   "cell_type": "code",
   "execution_count": 5,
   "metadata": {
    "collapsed": true
   },
   "outputs": [],
   "source": [
    "#Les variables catégorielles sont déjà des integers il nous reste plus qu'à utiliser la technique du one-hot encoding\n",
    "#columns = colonnes sélectionnées pour faire la transformation\n",
    "porto_train = pd.get_dummies(train, columns=categorical_features)\n",
    "porto_test = pd.get_dummies(test, columns=categorical_features)"
   ]
  },
  {
   "cell_type": "code",
   "execution_count": 8,
   "metadata": {},
   "outputs": [
    {
     "name": "stdout",
     "output_type": "stream",
     "text": [
      "229\n",
      "228\n"
     ]
    }
   ],
   "source": [
    "#Nombre de variables après transformation avec get_dummies: 126 pour train et 125 pour test sans le target\n",
    "print(porto_train.shape[1])\n",
    "print(porto_test.shape[1])"
   ]
  },
  {
   "cell_type": "code",
   "execution_count": 6,
   "metadata": {
    "collapsed": true
   },
   "outputs": [],
   "source": [
    "#On supprime toutes les colonnes contenant -1 dans le nom car elles ne sont pas pertinentes\n",
    "cols = [c for c in porto_train.columns if c[-2:] == '-1']"
   ]
  },
  {
   "cell_type": "code",
   "execution_count": 7,
   "metadata": {
    "collapsed": true
   },
   "outputs": [],
   "source": [
    "#Nous avons enfin réussi à nous débarrasser des valeurs manquantes de la bonne manière\n",
    "porto_train = porto_train.drop(cols,1)\n",
    "porto_test = porto_test.drop(cols,1)"
   ]
  },
  {
   "cell_type": "code",
   "execution_count": 11,
   "metadata": {},
   "outputs": [
    {
     "name": "stdout",
     "output_type": "stream",
     "text": [
      "220\n",
      "219\n"
     ]
    }
   ],
   "source": [
    "#Il nous reste 117 et 116 variables pour train et test respectivement\n",
    "print(porto_train.shape[1])\n",
    "print(porto_test.shape[1])"
   ]
  },
  {
   "cell_type": "markdown",
   "metadata": {},
   "source": [
    "## Gestion des valeurs manquantes"
   ]
  },
  {
   "cell_type": "code",
   "execution_count": 12,
   "metadata": {},
   "outputs": [
    {
     "data": {
      "text/plain": [
       "ps_reg_03            18.106490\n",
       "ps_car_14             7.160474\n",
       "ps_car_11             0.000840\n",
       "ps_car_12             0.000168\n",
       "ps_car_11_cat_104     0.000000\n",
       "ps_car_04_cat_8       0.000000\n",
       "ps_car_04_cat_6       0.000000\n",
       "ps_car_04_cat_5       0.000000\n",
       "ps_car_04_cat_4       0.000000\n",
       "ps_car_04_cat_3       0.000000\n",
       "ps_car_04_cat_2       0.000000\n",
       "ps_car_04_cat_1       0.000000\n",
       "ps_car_04_cat_0       0.000000\n",
       "ps_car_03_cat_1       0.000000\n",
       "ps_car_03_cat_0       0.000000\n",
       "ps_car_02_cat_1       0.000000\n",
       "ps_car_02_cat_0       0.000000\n",
       "ps_car_01_cat_11      0.000000\n",
       "ps_car_01_cat_10      0.000000\n",
       "ps_car_01_cat_9       0.000000\n",
       "ps_car_01_cat_8       0.000000\n",
       "ps_car_01_cat_7       0.000000\n",
       "ps_car_01_cat_6       0.000000\n",
       "ps_car_01_cat_5       0.000000\n",
       "ps_car_01_cat_4       0.000000\n",
       "ps_car_01_cat_3       0.000000\n",
       "ps_car_01_cat_2       0.000000\n",
       "ps_car_01_cat_1       0.000000\n",
       "ps_car_01_cat_0       0.000000\n",
       "ps_car_04_cat_7       0.000000\n",
       "                       ...    \n",
       "ps_car_10_cat_0       0.000000\n",
       "ps_car_09_cat_4       0.000000\n",
       "ps_car_11_cat_21      0.000000\n",
       "ps_car_11_cat_22      0.000000\n",
       "ps_car_11_cat_23      0.000000\n",
       "ps_car_11_cat_24      0.000000\n",
       "ps_car_11_cat_47      0.000000\n",
       "ps_car_11_cat_46      0.000000\n",
       "ps_car_11_cat_45      0.000000\n",
       "ps_car_11_cat_44      0.000000\n",
       "ps_car_11_cat_43      0.000000\n",
       "ps_car_11_cat_42      0.000000\n",
       "ps_car_11_cat_41      0.000000\n",
       "ps_car_11_cat_40      0.000000\n",
       "ps_car_11_cat_39      0.000000\n",
       "ps_car_11_cat_38      0.000000\n",
       "ps_car_11_cat_37      0.000000\n",
       "ps_car_11_cat_36      0.000000\n",
       "ps_car_11_cat_35      0.000000\n",
       "ps_car_11_cat_34      0.000000\n",
       "ps_car_11_cat_33      0.000000\n",
       "ps_car_11_cat_32      0.000000\n",
       "ps_car_11_cat_31      0.000000\n",
       "ps_car_11_cat_30      0.000000\n",
       "ps_car_11_cat_29      0.000000\n",
       "ps_car_11_cat_28      0.000000\n",
       "ps_car_11_cat_27      0.000000\n",
       "ps_car_11_cat_26      0.000000\n",
       "ps_car_11_cat_25      0.000000\n",
       "id                    0.000000\n",
       "Length: 220, dtype: float64"
      ]
     },
     "execution_count": 12,
     "metadata": {},
     "output_type": "execute_result"
    }
   ],
   "source": [
    "#Il reste à manipuler les valeurs manquantes des variables binaires (bin) et des variables continues\n",
    "#Regardons d'abord le nombre de valeurs manquantes par variable\n",
    "(np.sum(porto_train == -1)/595212*100).sort_values(ascending=False)"
   ]
  },
  {
   "cell_type": "code",
   "execution_count": 13,
   "metadata": {
    "collapsed": true
   },
   "outputs": [],
   "source": [
    "from sklearn.preprocessing import Imputer\n",
    "\n",
    "imp = Imputer(missing_values=-1, strategy='mean', axis=0, verbose=0)\n",
    "\n",
    "porto_train2 = imp.fit_transform(porto_train)\n",
    "porto_test2 = imp.fit_transform(porto_test)"
   ]
  },
  {
   "cell_type": "code",
   "execution_count": 14,
   "metadata": {
    "collapsed": true
   },
   "outputs": [],
   "source": [
    "#Convert ndarray to pandas dataframe\n",
    "porto_train2 = pd.DataFrame(porto_train2)\n",
    "porto_test2 = pd.DataFrame(porto_test2)"
   ]
  },
  {
   "cell_type": "code",
   "execution_count": 15,
   "metadata": {
    "collapsed": true
   },
   "outputs": [],
   "source": [
    "porto_train2.columns = porto_train.columns\n",
    "porto_test2.columns = porto_test.columns"
   ]
  },
  {
   "cell_type": "code",
   "execution_count": 16,
   "metadata": {
    "collapsed": true
   },
   "outputs": [],
   "source": [
    "X = porto_train2.drop('target', axis=1).values\n",
    "y = porto_train2['target'].values\n",
    "test = porto_test2.values"
   ]
  },
  {
   "cell_type": "markdown",
   "metadata": {},
   "source": [
    "## Features selection : http://scikit-learn.org/stable/modules/feature_selection.html#univariate-feature-selection"
   ]
  },
  {
   "cell_type": "code",
   "execution_count": 8,
   "metadata": {
    "collapsed": true
   },
   "outputs": [],
   "source": [
    "X = porto_train.drop('target',axis = 1)\n",
    "y = porto_train['target']"
   ]
  },
  {
   "cell_type": "markdown",
   "metadata": {},
   "source": [
    "### a) Method 1: F-score"
   ]
  },
  {
   "cell_type": "code",
   "execution_count": 66,
   "metadata": {},
   "outputs": [
    {
     "name": "stdout",
     "output_type": "stream",
     "text": [
      "Feature ranking:\n",
      "0.ps_car_13(0.120172)\n",
      "1.ps_ind_03(0.100143)\n",
      "2.ps_reg_03(0.087268)\n",
      "3.ps_ind_05_cat_0(0.072961)\n",
      "4.ps_ind_17_bin(0.067239)\n",
      "5.ps_ind_15(0.052933)\n",
      "6.ps_reg_01(0.045780)\n",
      "7.ps_ind_01(0.040057)\n",
      "8.ps_reg_02(0.034335)\n",
      "9.ps_car_07_cat_1(0.031474)\n",
      "10.ps_car_14(0.022890)\n",
      "11.ps_car_09_cat_1(0.018598)\n",
      "12.ps_ind_09_bin(0.018598)\n",
      "13.ps_ind_16_bin(0.018598)\n",
      "14.ps_car_01_cat_7(0.017167)\n",
      "15.ps_car_15(0.015737)\n",
      "16.ps_ind_06_bin(0.015737)\n",
      "17.ps_ind_07_bin(0.014306)\n",
      "18.ps_car_03_cat_1(0.011445)\n",
      "19.ps_ind_05_cat_2(0.011445)\n",
      "20.id(0.011445)\n",
      "21.ps_car_11(0.010014)\n",
      "22.ps_car_12(0.010014)\n",
      "23.ps_ind_05_cat_6(0.010014)\n",
      "24.ps_car_01_cat_6(0.008584)\n",
      "25.ps_car_09_cat_0(0.008584)\n",
      "26.ps_car_04_cat_0(0.008584)\n",
      "27.ps_car_04_cat_2(0.008584)\n",
      "28.ps_ind_04_cat_0(0.007153)\n",
      "29.ps_car_06_cat_9(0.007153)\n",
      "30.ps_car_11_cat(0.007153)\n",
      "31.ps_car_01_cat_9(0.007153)\n",
      "32.ps_ind_02_cat_1(0.007153)\n",
      "33.ps_car_07_cat_0(0.005722)\n",
      "34.ps_ind_02_cat_2(0.005722)\n",
      "35.ps_calc_02(0.005722)\n",
      "36.ps_car_06_cat_15(0.004292)\n",
      "37.ps_ind_04_cat_1(0.004292)\n",
      "38.ps_car_01_cat_10(0.004292)\n",
      "39.ps_car_06_cat_17(0.004292)\n",
      "40.ps_calc_05(0.004292)\n",
      "41.ps_ind_08_bin(0.004292)\n",
      "42.ps_calc_15_bin(0.002861)\n",
      "43.ps_ind_05_cat_3(0.002861)\n",
      "44.ps_calc_01(0.002861)\n",
      "45.ps_ind_02_cat_3(0.001431)\n",
      "46.ps_calc_07(0.001431)\n",
      "47.ps_car_01_cat_0(0.001431)\n",
      "48.ps_car_06_cat_3(0.001431)\n",
      "49.ps_calc_08(0.001431)\n",
      "50.ps_calc_10(0.001431)\n",
      "51.ps_calc_11(0.001431)\n",
      "52.ps_car_10_cat_0(0.001431)\n",
      "53.ps_calc_04(0.001431)\n",
      "54.ps_calc_14(0.001431)\n",
      "55.ps_calc_13(0.001431)\n",
      "56.ps_car_06_cat_6(0.001431)\n",
      "57.ps_ind_12_bin(0.001431)\n",
      "58.ps_car_05_cat_0(0.001431)\n",
      "59.ps_ind_10_bin(0.000000)\n",
      "60.ps_ind_11_bin(0.000000)\n",
      "61.ps_ind_13_bin(0.000000)\n",
      "62.ps_ind_14(0.000000)\n",
      "63.ps_calc_09(0.000000)\n",
      "64.ps_car_08_cat_1(0.000000)\n",
      "65.ps_calc_06(0.000000)\n",
      "66.ps_car_09_cat_2(0.000000)\n",
      "67.ps_car_08_cat_0(0.000000)\n",
      "68.ps_car_06_cat_12(0.000000)\n",
      "69.ps_ind_18_bin(0.000000)\n",
      "70.ps_car_09_cat_3(0.000000)\n",
      "71.ps_car_06_cat_16(0.000000)\n",
      "72.ps_calc_12(0.000000)\n",
      "73.ps_calc_03(0.000000)\n",
      "74.ps_car_09_cat_4(0.000000)\n",
      "75.ps_car_06_cat_14(0.000000)\n",
      "76.ps_car_06_cat_13(0.000000)\n",
      "77.ps_car_06_cat_10(0.000000)\n",
      "78.ps_car_06_cat_11(0.000000)\n",
      "79.ps_car_06_cat_5(0.000000)\n",
      "80.ps_calc_16_bin(0.000000)\n",
      "81.ps_calc_17_bin(0.000000)\n",
      "82.ps_car_02_cat_0(0.000000)\n",
      "83.ps_car_02_cat_1(0.000000)\n",
      "84.ps_car_03_cat_0(0.000000)\n",
      "85.ps_car_04_cat_1(0.000000)\n",
      "86.ps_car_04_cat_3(0.000000)\n",
      "87.ps_car_04_cat_4(0.000000)\n",
      "88.ps_car_04_cat_5(0.000000)\n",
      "89.ps_car_04_cat_6(0.000000)\n",
      "90.ps_car_04_cat_7(0.000000)\n",
      "91.ps_car_04_cat_8(0.000000)\n",
      "92.ps_car_04_cat_9(0.000000)\n",
      "93.ps_car_05_cat_1(0.000000)\n",
      "94.ps_car_06_cat_0(0.000000)\n",
      "95.ps_car_06_cat_1(0.000000)\n",
      "96.ps_car_06_cat_2(0.000000)\n",
      "97.ps_car_01_cat_11(0.000000)\n",
      "98.ps_car_01_cat_8(0.000000)\n",
      "99.ps_car_06_cat_7(0.000000)\n",
      "100.ps_car_06_cat_8(0.000000)\n",
      "101.ps_calc_18_bin(0.000000)\n",
      "102.ps_calc_19_bin(0.000000)\n",
      "103.ps_calc_20_bin(0.000000)\n",
      "104.ps_car_06_cat_4(0.000000)\n",
      "105.ps_ind_02_cat_4(0.000000)\n",
      "106.ps_ind_05_cat_1(0.000000)\n",
      "107.ps_ind_05_cat_4(0.000000)\n",
      "108.ps_car_01_cat_5(0.000000)\n",
      "109.ps_ind_05_cat_5(0.000000)\n",
      "110.ps_car_10_cat_1(0.000000)\n",
      "111.ps_car_01_cat_1(0.000000)\n",
      "112.ps_car_01_cat_2(0.000000)\n",
      "113.ps_car_01_cat_3(0.000000)\n",
      "114.ps_car_01_cat_4(0.000000)\n",
      "115.ps_car_10_cat_2(0.000000)\n"
     ]
    }
   ],
   "source": [
    "from xgboost import XGBClassifier\n",
    "from matplotlib import pyplot\n",
    "\n",
    "xgb = XGBClassifier()\n",
    "xgb.fit(X, y)\n",
    "# feature importance\n",
    "importances = xgb.feature_importances_ #calcule les F-score (feature scores)\n",
    "indices = np.argsort(importances)[::-1]\n",
    "colonnesX = X.columns\n",
    "\n",
    "# Print the feature ranking\n",
    "print(\"Feature ranking:\")\n",
    "\n",
    "for f in range(X.shape[1]):\n",
    "#    print(\"%d. feature %d (%f)\" % (f, indices[f], importances[indices[f]]))\n",
    "    print(\"%d.%s(%f)\" % (f,colonnesX[indices[f]],importances[indices[f]]))"
   ]
  },
  {
   "cell_type": "markdown",
   "metadata": {},
   "source": [
    "In statistical analysis of binary classification, the F1 score (also F-score or F-measure) is a measure of a test's accuracy. It considers both the precision p and the recall r of the test to compute the score: p is the number of correct positive results divided by the number of all positive results returned by the classifier, and r is the number of correct positive results divided by the number of all true positives. The F1 score is the harmonic average of the precision and recall, where an F1 score reaches its best value at 1 (perfect precision and recall) and worst at 0."
   ]
  },
  {
   "cell_type": "code",
   "execution_count": 67,
   "metadata": {},
   "outputs": [
    {
     "data": {
      "image/png": "[encoded data removed]",
      "text/plain": [
       "<matplotlib.figure.Figure at 0xb4dca90>"
      ]
     },
     "metadata": {},
     "output_type": "display_data"
    }
   ],
   "source": [
    "# plot feature importances for xgboost\n",
    "from xgboost import XGBClassifier\n",
    "from matplotlib import pyplot\n",
    "xgb = XGBClassifier()\n",
    "xgb.fit(X, y)\n",
    "def feat_imp(df, model, n_features):\n",
    "\n",
    "    d = dict(zip(df.columns, model.feature_importances_))\n",
    "    ss = sorted(d, key=d.get, reverse=True)\n",
    "    top_names = ss[0:n_features]\n",
    "\n",
    "    pyplot.figure(figsize=(14,8))\n",
    "    pyplot.title(\"Feature importances\")\n",
    "    pyplot.bar(range(n_features), [d[i] for i in top_names], color=\"r\", align=\"center\")\n",
    "    pyplot.xlim(-1, n_features)\n",
    "    pyplot.xticks(range(n_features), top_names, rotation='vertical')\n",
    "    pyplot.show()\n",
    "\n",
    "feat_imp(X, xgb, 58)\n"
   ]
  },
  {
   "cell_type": "markdown",
   "metadata": {},
   "source": [
    "### b) Method 2: SelectKBest"
   ]
  },
  {
   "cell_type": "markdown",
   "metadata": {},
   "source": [
    "The methods based on F-test estimate the degree of linear dependency between two random variables. On the other hand, mutual information methods can capture any kind of statistical dependency, but being nonparametric, they require more samples for accurate estimation. For classification: chi2, f_classif, mutual_info_classif"
   ]
  },
  {
   "cell_type": "code",
   "execution_count": 9,
   "metadata": {
    "collapsed": true
   },
   "outputs": [],
   "source": [
    "from sklearn.model_selection import train_test_split\n",
    "\n",
    "X_train, X_test, y_train, y_test = train_test_split(X, y, stratify=y, test_size=0.3)"
   ]
  },
  {
   "cell_type": "code",
   "execution_count": 69,
   "metadata": {
    "collapsed": true
   },
   "outputs": [],
   "source": [
    "import sklearn.feature_selection\n",
    "\n",
    "def KBest(k):\n",
    "    select = sklearn.feature_selection.SelectKBest(k=k)\n",
    "    selected_features = select.fit(X_train,y_train)\n",
    "    indices_selected = selected_features.get_support(indices = True)\n",
    "    colnames_selected = [X.columns[i] for i in indices_selected]\n",
    "    return colnames_selected"
   ]
  },
  {
   "cell_type": "code",
   "execution_count": 21,
   "metadata": {
    "collapsed": true
   },
   "outputs": [],
   "source": [
    "#from sklearn.metrics import roc_auc_score\n",
    "\n",
    "def find_model_perf(X_train,y_train,X_test,y_test, model):\n",
    "    model.fit(X_train,y_train)\n",
    "    y_pred_prob = model.predict_proba(X_test)[:,1]\n",
    "#    auc = roc_auc_score(y_test,y_pred_prob)\n",
    "#    return auc\n",
    "\n",
    "    gini = normalized_gini(y_test,y_pred_prob)\n",
    "    return gini\n"
   ]
  },
  {
   "cell_type": "code",
   "execution_count": 102,
   "metadata": {},
   "outputs": [
    {
     "name": "stdout",
     "output_type": "stream",
     "text": [
      "50\n",
      "51\n",
      "52\n",
      "53\n",
      "54\n",
      "55\n",
      "56\n",
      "57\n",
      "58\n",
      "59\n",
      "60\n",
      "61\n",
      "62\n",
      "63\n",
      "64\n",
      "65\n",
      "66\n",
      "67\n",
      "68\n",
      "69\n",
      "70\n",
      "71\n",
      "72\n",
      "73\n",
      "74\n",
      "75\n",
      "76\n",
      "77\n",
      "78\n",
      "79\n",
      "80\n",
      "81\n",
      "82\n",
      "83\n",
      "84\n",
      "85\n",
      "86\n",
      "87\n",
      "88\n",
      "89\n",
      "90\n",
      "91\n",
      "92\n",
      "93\n",
      "94\n",
      "95\n",
      "96\n",
      "97\n",
      "98\n",
      "99\n",
      "100\n",
      "101\n",
      "102\n",
      "103\n",
      "104\n",
      "105\n",
      "106\n",
      "107\n",
      "108\n",
      "109\n",
      "110\n",
      "111\n",
      "112\n",
      "113\n",
      "114\n",
      "115\n",
      "[0.96355368383324747, 0.96355368383324747, 0.96355368383324747, 0.96355368383324747, 0.96355368383324747, 0.96355368383324747, 0.96355368383324747, 0.96355368383324747, 0.96355368383324747, 0.96355368383324747, 0.96355368383324747, 0.96355368383324747, 0.96355368383324747, 0.96355368383324747, 0.96355368383324747, 0.96355368383324747, 0.96355368383324747, 0.96355368383324747, 0.96355368383324747, 0.96355368383324747, 0.96355368383324747, 0.96355368383324747, 0.96355368383324747, 0.96355368383324747, 0.96355368383324747, 0.96355368383324747, 0.96355368383324747, 0.96355368383324747, 0.96355368383324747, 0.96355368383324747, 0.96355368383324747, 0.96355368383324747, 0.96355368383324747, 0.96355368383324747, 0.96355368383324747, 0.96355368383324747, 0.96355368383324747, 0.96355368383324747, 0.96355368383324747, 0.96355368383324747, 0.96355368383324747, 0.96355368383324747, 0.96355368383324747, 0.96355368383324747, 0.96355368383324747, 0.96355368383324747, 0.96355368383324747, 0.96355368383324747, 0.96355368383324747, 0.96355368383324747, 0.96355368383324747, 0.96355368383324747, 0.96355368383324747, 0.96355368383324747, 0.96355368383324747, 0.96355368383324747, 0.96355368383324747, 0.96355368383324747, 0.96355368383324747, 0.96355368383324747, 0.96355368383324747, 0.96355368383324747, 0.96355368383324747, 0.96355368383324747, 0.96355368383324747, 0.96355368383324747]\n"
     ]
    }
   ],
   "source": [
    "from xgboost import XGBClassifier\n",
    "\n",
    "model = XGBClassifier()\n",
    "auc = []\n",
    "i = 50\n",
    "for k in range(50,X_train.shape[1]):\n",
    "    X_train_selected = X_train[KBest(k)]\n",
    "    X_test_selected = X_test[KBest(k)]\n",
    "    auc.append(find_model_perf(X_train_selected, y_train, X_test_selected, y_test, model))\n",
    "    print(i)\n",
    "    i = i + 1\n",
    "print(auc)"
   ]
  },
  {
   "cell_type": "code",
   "execution_count": 98,
   "metadata": {},
   "outputs": [
    {
     "name": "stdout",
     "output_type": "stream",
     "text": [
      "['ps_ind_01', 'ps_ind_06_bin', 'ps_ind_07_bin', 'ps_ind_15', 'ps_ind_16_bin', 'ps_ind_17_bin', 'ps_reg_01', 'ps_reg_02', 'ps_reg_03', 'ps_car_12', 'ps_car_13', 'ps_car_15', 'ps_ind_05_cat_0', 'ps_ind_05_cat_2', 'ps_ind_05_cat_6', 'ps_car_01_cat_7', 'ps_car_01_cat_9', 'ps_car_01_cat_11', 'ps_car_02_cat_0', 'ps_car_02_cat_1', 'ps_car_03_cat_1', 'ps_car_04_cat_0', 'ps_car_04_cat_9', 'ps_car_06_cat_9', 'ps_car_06_cat_15', 'ps_car_07_cat_0', 'ps_car_07_cat_1', 'ps_car_08_cat_0', 'ps_car_08_cat_1', 'ps_car_09_cat_1']\n"
     ]
    }
   ],
   "source": [
    "best_features = KBest(k = 30)\n",
    "print(best_features)"
   ]
  },
  {
   "cell_type": "markdown",
   "metadata": {},
   "source": [
    "### c) Analyse de la variance"
   ]
  },
  {
   "cell_type": "code",
   "execution_count": 96,
   "metadata": {},
   "outputs": [
    {
     "data": {
      "text/plain": [
       "id                  1.843582e+11\n",
       "ps_car_11_cat       1.089764e+03\n",
       "ps_ind_15           1.257971e+01\n",
       "ps_calc_10          8.439194e+00\n",
       "ps_calc_14          7.546598e+00\n",
       "ps_ind_03           7.285226e+00\n",
       "ps_calc_11          5.437532e+00\n",
       "ps_ind_01           3.941089e+00\n",
       "ps_calc_13          2.875740e+00\n",
       "ps_calc_08          2.130212e+00\n",
       "ps_calc_07          1.999525e+00\n",
       "ps_calc_06          1.780735e+00\n",
       "ps_calc_09          1.555248e+00\n",
       "ps_calc_12          1.447914e+00\n",
       "ps_calc_05          1.289045e+00\n",
       "ps_calc_04          1.248740e+00\n",
       "ps_car_11           6.934660e-01\n",
       "ps_reg_03           6.301632e-01\n",
       "ps_car_15           5.359944e-01\n",
       "ps_calc_17_bin      2.470762e-01\n",
       "ps_ind_04_cat_0     2.431947e-01\n",
       "ps_ind_04_cat_1     2.431713e-01\n",
       "ps_car_09_cat_2     2.413091e-01\n",
       "ps_ind_06_bin       2.386925e-01\n",
       "ps_calc_16_bin      2.335200e-01\n",
       "ps_calc_19_bin      2.272489e-01\n",
       "ps_car_01_cat_11    2.271467e-01\n",
       "ps_ind_16_bin       2.240050e-01\n",
       "ps_car_09_cat_0     2.202245e-01\n",
       "ps_car_01_cat_7     2.101579e-01\n",
       "                        ...     \n",
       "ps_ind_14           1.630309e-02\n",
       "ps_ind_05_cat_1     1.376884e-02\n",
       "ps_ind_05_cat_3     1.347945e-02\n",
       "ps_car_01_cat_3     1.105472e-02\n",
       "ps_car_06_cat_13    1.041606e-02\n",
       "ps_car_01_cat_0     9.861236e-03\n",
       "ps_ind_12_bin       9.409383e-03\n",
       "ps_car_10_cat_1     8.428911e-03\n",
       "ps_car_06_cat_17    8.195284e-03\n",
       "ps_car_10_cat_0     8.143351e-03\n",
       "ps_car_06_cat_16    7.569362e-03\n",
       "ps_ind_05_cat_2     6.871630e-03\n",
       "ps_car_09_cat_4     4.667816e-03\n",
       "ps_car_06_cat_12    4.134945e-03\n",
       "ps_car_01_cat_2     3.506177e-03\n",
       "ps_car_12           3.405616e-03\n",
       "ps_ind_05_cat_5     2.690443e-03\n",
       "ps_car_06_cat_2     2.671346e-03\n",
       "ps_car_04_cat_6     2.671346e-03\n",
       "ps_car_06_cat_8     2.363294e-03\n",
       "ps_car_06_cat_5     2.348962e-03\n",
       "ps_car_01_cat_1     2.262957e-03\n",
       "ps_ind_11_bin       1.713132e-03\n",
       "ps_car_04_cat_3     1.078882e-03\n",
       "ps_ind_13_bin       9.351658e-04\n",
       "ps_car_04_cat_5     8.992302e-04\n",
       "ps_car_04_cat_4     3.814715e-04\n",
       "ps_ind_10_bin       3.718783e-04\n",
       "ps_car_10_cat_2     2.903287e-04\n",
       "ps_car_04_cat_7     2.375542e-04\n",
       "Length: 116, dtype: float64"
      ]
     },
     "execution_count": 96,
     "metadata": {},
     "output_type": "execute_result"
    }
   ],
   "source": [
    "np.var(X_train).sort_values(ascending = False)\n",
    "#variance très grande pour ps_car_11_cat car bcp de valeurs comme on l'a vu précedemment\n",
    "#on fixe un seuil pour la variance? on supprime les features avec une variance trop grande ou trop petite ?"
   ]
  },
  {
   "cell_type": "markdown",
   "metadata": {},
   "source": [
    "## Comparaison des modèles "
   ]
  },
  {
   "cell_type": "code",
   "execution_count": null,
   "metadata": {
    "collapsed": true
   },
   "outputs": [],
   "source": [
    "from sklearn.model_selection import train_test_split\n",
    "\n",
    "X_train, X_test, y_train, y_test = train_test_split(X, y, stratify=y, test_size=0.3)"
   ]
  },
  {
   "cell_type": "code",
   "execution_count": null,
   "metadata": {
    "collapsed": true
   },
   "outputs": [],
   "source": [
    "#from sklearn.metrics import roc_auc_score\n",
    "\n",
    "def find_model_perf(X_train,y_train,X_test,y_test, model):\n",
    "    model.fit(X_train,y_train)\n",
    "    y_pred_prob = model.predict_proba(X_test)[:,1]\n",
    "#    auc = roc_auc_score(y_test,y_pred_prob)\n",
    "#    return auc\n",
    "\n",
    "#    gini = normalized_gini(y_test,y_pred_prob) #gini normalisé classique (voir tout en haut)\n",
    "#    return gini\n",
    "\n",
    "    gini2 = normalized_gini(y_pred_prob,y_test) #gini normalisé de BINH (voir tout en haut)\n",
    "    return gini2"
   ]
  },
  {
   "cell_type": "markdown",
   "metadata": {},
   "source": [
    "### ROC AUC SCORE"
   ]
  },
  {
   "cell_type": "code",
   "execution_count": 16,
   "metadata": {},
   "outputs": [
    {
     "name": "stdout",
     "output_type": "stream",
     "text": [
      "[0.6357625655762682, 0.49852723458999315, 0.53789798080063633, 0.53539510747404917, 0.53423516679108118, 0.50583652578744753]\n"
     ]
    }
   ],
   "source": [
    "from xgboost import XGBClassifier\n",
    "from sklearn.linear_model import LogisticRegression\n",
    "from sklearn.naive_bayes import GaussianNB\n",
    "from sklearn.ensemble import RandomForestClassifier\n",
    "from sklearn.ensemble import ExtraTreesClassifier\n",
    "from sklearn.tree import DecisionTreeClassifier\n",
    "#from sklearn.neighbors import KNeighborsClassifier\n",
    "#from sklearn.svm import SVC (trop long)\n",
    "\n",
    "scores = []\n",
    "models = [XGBClassifier(), LogisticRegression(), GaussianNB(), RandomForestClassifier(), ExtraTreesClassifier(), DecisionTreeClassifier()]\n",
    "for i in models:\n",
    "    scores.append(find_model_perf(X_train, y_train, X_test, y_test, i))\n",
    "print(scores)"
   ]
  },
  {
   "cell_type": "code",
   "execution_count": 17,
   "metadata": {},
   "outputs": [
    {
     "name": "stdout",
     "output_type": "stream",
     "text": [
      "0.505214502174\n"
     ]
    }
   ],
   "source": [
    "from sklearn.neighbors import KNeighborsClassifier\n",
    "\n",
    "score = find_model_perf(X_train, y_train, X_test, y_test, KNeighborsClassifier())\n",
    "print(score)"
   ]
  },
  {
   "cell_type": "markdown",
   "metadata": {},
   "source": [
    "Avec get_dummies pour toutes les variables catégorielles, le meilleur modèle est XGBClassifier pour la métrique roc_auc_score.\n",
    "[XGBClassifier(), LogisticRegression(), GaussianNB(), RandomForestClassifier(), ExtraTreesClassifier(), DecisionTreeClassifier(), KNeighborsClassifier()]\n",
    "[0.6357625655762682, 0.49852723458999315, 0.53789798080063633, 0.53539510747404917, 0.53423516679108118, 0.50583652578744753, 0.505214502174]"
   ]
  },
  {
   "cell_type": "markdown",
   "metadata": {},
   "source": [
    "### GINI NORMALISE 1"
   ]
  },
  {
   "cell_type": "code",
   "execution_count": 16,
   "metadata": {},
   "outputs": [
    {
     "name": "stdout",
     "output_type": "stream",
     "text": [
      "0.269367659745\n"
     ]
    }
   ],
   "source": [
    "from xgboost import XGBClassifier\n",
    "\n",
    "score = find_model_perf(X_train, y_train, X_test, y_test, XGBClassifier())\n",
    "print(score)"
   ]
  },
  {
   "cell_type": "code",
   "execution_count": 20,
   "metadata": {},
   "outputs": [
    {
     "name": "stdout",
     "output_type": "stream",
     "text": [
      "-0.00206741125065\n"
     ]
    }
   ],
   "source": [
    "from sklearn.linear_model import LogisticRegression\n",
    "\n",
    "score = find_model_perf(X_train, y_train, X_test, y_test, LogisticRegression())\n",
    "print(score)"
   ]
  },
  {
   "cell_type": "code",
   "execution_count": 11,
   "metadata": {},
   "outputs": [
    {
     "name": "stdout",
     "output_type": "stream",
     "text": [
      "0.0807680281279\n"
     ]
    }
   ],
   "source": [
    "from sklearn.naive_bayes import GaussianNB\n",
    "\n",
    "score = find_model_perf(X_train, y_train, X_test, y_test, GaussianNB())\n",
    "print(score)"
   ]
  },
  {
   "cell_type": "code",
   "execution_count": 12,
   "metadata": {},
   "outputs": [
    {
     "name": "stdout",
     "output_type": "stream",
     "text": [
      "0.0661300921408\n"
     ]
    }
   ],
   "source": [
    "from sklearn.ensemble import RandomForestClassifier\n",
    "\n",
    "score = find_model_perf(X_train, y_train, X_test, y_test, RandomForestClassifier())\n",
    "print(score)"
   ]
  },
  {
   "cell_type": "code",
   "execution_count": 13,
   "metadata": {},
   "outputs": [
    {
     "name": "stdout",
     "output_type": "stream",
     "text": [
      "0.0799807706866\n"
     ]
    }
   ],
   "source": [
    "from sklearn.ensemble import ExtraTreesClassifier\n",
    "\n",
    "score = find_model_perf(X_train, y_train, X_test, y_test, ExtraTreesClassifier())\n",
    "print(score)"
   ]
  },
  {
   "cell_type": "code",
   "execution_count": 14,
   "metadata": {},
   "outputs": [
    {
     "name": "stdout",
     "output_type": "stream",
     "text": [
      "0.0121590892106\n"
     ]
    }
   ],
   "source": [
    "from sklearn.tree import DecisionTreeClassifier\n",
    "\n",
    "score = find_model_perf(X_train, y_train, X_test, y_test, DecisionTreeClassifier())\n",
    "print(score)"
   ]
  },
  {
   "cell_type": "code",
   "execution_count": 15,
   "metadata": {},
   "outputs": [
    {
     "name": "stdout",
     "output_type": "stream",
     "text": [
      "0.00270552698655\n"
     ]
    }
   ],
   "source": [
    "from sklearn.neighbors import KNeighborsClassifier\n",
    "\n",
    "score = find_model_perf(X_train, y_train, X_test, y_test, KNeighborsClassifier())\n",
    "print(score)"
   ]
  },
  {
   "cell_type": "markdown",
   "metadata": {},
   "source": [
    "Avec get_dummies pour toutes les variables catégorielles, le meilleur modèle est XGBClassifier pour la métrique gini normalisé\n",
    "[XGBClassifier(), LogisticRegression(), GaussianNB(), RandomForestClassifier(), ExtraTreesClassifier(), DecisionTreeClassifier(), KNeighborsClassifier()]\n",
    "[0.269367659745, -0.00206741125065, 0.0807680281279, 0.0661300921408, 0.0799807706866, 0.0121590892106, 0.00270552698655]"
   ]
  },
  {
   "cell_type": "markdown",
   "metadata": {},
   "source": [
    "### GINI NORMALISE 2 (BINH)"
   ]
  },
  {
   "cell_type": "code",
   "execution_count": 13,
   "metadata": {},
   "outputs": [
    {
     "name": "stderr",
     "output_type": "stream",
     "text": [
      "C:\\Users\\richard\\Anaconda3\\lib\\site-packages\\sklearn\\cross_validation.py:41: DeprecationWarning: This module was deprecated in version 0.18 in favor of the model_selection module into which all the refactored classes and functions are moved. Also note that the interface of the new CV iterators are different from that of this module. This module will be removed in 0.20.\n",
      "  \"This module will be removed in 0.20.\", DeprecationWarning)\n"
     ]
    },
    {
     "name": "stdout",
     "output_type": "stream",
     "text": [
      "0.262092598802\n"
     ]
    }
   ],
   "source": [
    "from xgboost import XGBClassifier\n",
    "\n",
    "score = find_model_perf(X_train, y_train, X_test, y_test, XGBClassifier())\n",
    "print(score)"
   ]
  },
  {
   "cell_type": "code",
   "execution_count": 14,
   "metadata": {},
   "outputs": [
    {
     "name": "stdout",
     "output_type": "stream",
     "text": [
      "0.00939402699866\n"
     ]
    }
   ],
   "source": [
    "from sklearn.linear_model import LogisticRegression\n",
    "\n",
    "score = find_model_perf(X_train, y_train, X_test, y_test, LogisticRegression())\n",
    "print(score)"
   ]
  },
  {
   "cell_type": "code",
   "execution_count": 11,
   "metadata": {},
   "outputs": [
    {
     "name": "stdout",
     "output_type": "stream",
     "text": [
      "0.0927778773961\n"
     ]
    }
   ],
   "source": [
    "from sklearn.naive_bayes import GaussianNB\n",
    "\n",
    "score = find_model_perf(X_train, y_train, X_test, y_test, GaussianNB())\n",
    "print(score)"
   ]
  },
  {
   "cell_type": "code",
   "execution_count": 12,
   "metadata": {},
   "outputs": [
    {
     "name": "stdout",
     "output_type": "stream",
     "text": [
      "0.0583219139012\n"
     ]
    }
   ],
   "source": [
    "from sklearn.ensemble import RandomForestClassifier\n",
    "\n",
    "score = find_model_perf(X_train, y_train, X_test, y_test, RandomForestClassifier())\n",
    "print(score)"
   ]
  },
  {
   "cell_type": "code",
   "execution_count": 13,
   "metadata": {},
   "outputs": [
    {
     "name": "stdout",
     "output_type": "stream",
     "text": [
      "0.048320981971\n"
     ]
    }
   ],
   "source": [
    "from sklearn.ensemble import ExtraTreesClassifier\n",
    "\n",
    "score = find_model_perf(X_train, y_train, X_test, y_test, ExtraTreesClassifier())\n",
    "print(score)"
   ]
  },
  {
   "cell_type": "code",
   "execution_count": 14,
   "metadata": {},
   "outputs": [
    {
     "name": "stdout",
     "output_type": "stream",
     "text": [
      "0.00612834520023\n"
     ]
    }
   ],
   "source": [
    "from sklearn.tree import DecisionTreeClassifier\n",
    "\n",
    "score = find_model_perf(X_train, y_train, X_test, y_test, DecisionTreeClassifier())\n",
    "print(score)"
   ]
  },
  {
   "cell_type": "code",
   "execution_count": 15,
   "metadata": {},
   "outputs": [
    {
     "name": "stdout",
     "output_type": "stream",
     "text": [
      "-0.00756881473304\n"
     ]
    }
   ],
   "source": [
    "from sklearn.neighbors import KNeighborsClassifier\n",
    "\n",
    "score = find_model_perf(X_train, y_train, X_test, y_test, KNeighborsClassifier())\n",
    "print(score)"
   ]
  },
  {
   "cell_type": "markdown",
   "metadata": {},
   "source": [
    "Avec get_dummies pour toutes les variables catégorielles, le meilleur modèle est XGBClassifier pour la métrique gini normalisé de BINH[XGBClassifier(), LogisticRegression(), GaussianNB(), RandomForestClassifier(), ExtraTreesClassifier(), DecisionTreeClassifier(), KNeighborsClassifier()] [0.262092598802, 0.00939402699866, 0.0927778773961\n",
    ", 0.0583219139012, 0.048320981971, 0.00612834520023, -0.00756881473304]"
   ]
  },
  {
   "cell_type": "markdown",
   "metadata": {},
   "source": [
    "## Recherche des paramètres optimaux"
   ]
  },
  {
   "cell_type": "code",
   "execution_count": null,
   "metadata": {},
   "outputs": [
    {
     "name": "stdout",
     "output_type": "stream",
     "text": [
      "Fitting 5 folds for each of 7 candidates, totalling 35 fits\n",
      "[CV] max_depth=2 .....................................................\n",
      "[CV] ............................................ max_depth=2 - 1.6min\n"
     ]
    },
    {
     "name": "stderr",
     "output_type": "stream",
     "text": [
      "[Parallel(n_jobs=1)]: Done   1 out of   1 | elapsed:  1.6min remaining:    0.0s\n"
     ]
    },
    {
     "name": "stdout",
     "output_type": "stream",
     "text": [
      "[CV] max_depth=2 .....................................................\n",
      "[CV] ............................................ max_depth=2 - 1.2min\n",
      "[CV] max_depth=2 .....................................................\n",
      "[CV] ............................................ max_depth=2 - 1.1min\n",
      "[CV] max_depth=2 .....................................................\n",
      "[CV] ............................................ max_depth=2 -  59.3s\n",
      "[CV] max_depth=2 .....................................................\n",
      "[CV] ............................................ max_depth=2 - 1.0min\n",
      "[CV] max_depth=3 .....................................................\n",
      "[CV] ............................................ max_depth=3 - 1.4min\n",
      "[CV] max_depth=3 .....................................................\n",
      "[CV] ............................................ max_depth=3 - 1.4min\n",
      "[CV] max_depth=3 .....................................................\n",
      "[CV] ............................................ max_depth=3 - 1.4min\n",
      "[CV] max_depth=3 .....................................................\n",
      "[CV] ............................................ max_depth=3 - 1.4min\n",
      "[CV] max_depth=3 .....................................................\n",
      "[CV] ............................................ max_depth=3 - 1.4min\n",
      "[CV] max_depth=4 .....................................................\n",
      "[CV] ............................................ max_depth=4 - 1.8min\n",
      "[CV] max_depth=4 .....................................................\n",
      "[CV] ............................................ max_depth=4 - 1.8min\n",
      "[CV] max_depth=4 .....................................................\n",
      "[CV] ............................................ max_depth=4 - 1.8min\n",
      "[CV] max_depth=4 .....................................................\n",
      "[CV] ............................................ max_depth=4 - 1.8min\n",
      "[CV] max_depth=4 .....................................................\n",
      "[CV] ............................................ max_depth=4 - 1.8min\n",
      "[CV] max_depth=5 .....................................................\n",
      "[CV] ............................................ max_depth=5 - 2.2min\n",
      "[CV] max_depth=5 .....................................................\n",
      "[CV] ............................................ max_depth=5 - 2.2min\n",
      "[CV] max_depth=5 .....................................................\n",
      "[CV] ............................................ max_depth=5 - 2.2min\n",
      "[CV] max_depth=5 .....................................................\n",
      "[CV] ............................................ max_depth=5 - 2.2min\n",
      "[CV] max_depth=5 .....................................................\n",
      "[CV] ............................................ max_depth=5 - 2.2min\n",
      "[CV] max_depth=6 .....................................................\n",
      "[CV] ............................................ max_depth=6 - 2.6min\n",
      "[CV] max_depth=6 .....................................................\n",
      "[CV] ............................................ max_depth=6 - 2.6min\n",
      "[CV] max_depth=6 .....................................................\n",
      "[CV] ............................................ max_depth=6 - 2.8min\n",
      "[CV] max_depth=6 .....................................................\n",
      "[CV] ............................................ max_depth=6 - 3.5min\n",
      "[CV] max_depth=6 .....................................................\n",
      "[CV] ............................................ max_depth=6 - 3.4min\n",
      "[CV] max_depth=7 .....................................................\n",
      "[CV] ............................................ max_depth=7 - 3.6min\n",
      "[CV] max_depth=7 .....................................................\n",
      "[CV] ............................................ max_depth=7 - 3.7min\n",
      "[CV] max_depth=7 .....................................................\n",
      "[CV] ............................................ max_depth=7 - 3.4min\n",
      "[CV] max_depth=7 .....................................................\n",
      "[CV] ............................................ max_depth=7 - 3.5min\n",
      "[CV] max_depth=7 .....................................................\n",
      "[CV] ............................................ max_depth=7 - 3.7min\n",
      "[CV] max_depth=8 .....................................................\n",
      "[CV] ............................................ max_depth=8 - 4.3min\n",
      "[CV] max_depth=8 .....................................................\n",
      "[CV] ............................................ max_depth=8 - 4.3min\n",
      "[CV] max_depth=8 .....................................................\n"
     ]
    }
   ],
   "source": [
    "from sklearn.grid_search import GridSearchCV\n",
    "from xgboost import XGBClassifier\n",
    "params_grid={\n",
    "    'max_depth': [2,3,4,5,6,7,8],\n",
    "#    'subsample': [0.4,0.5,0.6,0.7,0.8,0.9,1.0], \n",
    "#    'colsample_bytree': [0.5,0.6,0.7,0.8], \n",
    "#    'min_child_weight'=1\n",
    "#    'gamma' : [0,0.5,1],\n",
    "#    'n_estimators' : [200],\n",
    "#    'learning_rate' : [0.20,0.21,0.22,0.23,0.24,0.25,0.26,0.27,0.28,0.29,0.3],\n",
    "#    'subsample' : [0.5],\n",
    "#    'colsample_bytree' : [0.5],\n",
    "#    'learning_rate' : [0.05,0.06,0.07],\n",
    "}\n",
    "\n",
    "params_fixed = {\n",
    "    'objective' : 'binary:logistic'\n",
    "}\n",
    "\n",
    "seed = 342\n",
    "np.random.seed(seed)\n",
    "best_grid = GridSearchCV(XGBClassifier(**params_fixed, seed = seed),\n",
    "                  params_grid,\n",
    "                  scoring='roc_auc',\n",
    "                  cv = 5,\n",
    "                  verbose=2)\n",
    "best_grid.fit(X_train, y_train)\n",
    "accuracy = best_grid.best_score_\n",
    "print(\"Best gini obtained: {0}\".format(accuracy))\n",
    "print(\"Parameters: \")\n",
    "for key,value in best_grid.best_params_.items():\n",
    "    print(\"\\t{}:{}\".format(key,value))"
   ]
  },
  {
   "cell_type": "code",
   "execution_count": null,
   "metadata": {
    "collapsed": true
   },
   "outputs": [],
   "source": [
    "# Convert train & test to numpy arrays\n",
    "X = porto_train.drop('target', axis=1).values\n",
    "y = porto_train['target'].values\n",
    "test = porto_test.values\n",
    "\n",
    "# Create submission dataframe\n",
    "submission = porto_test['id'].to_frame()\n",
    "submission['target'] = 0"
   ]
  },
  {
   "cell_type": "code",
   "execution_count": null,
   "metadata": {
    "collapsed": true
   },
   "outputs": [],
   "source": [
    "kfold = 5\n",
    "nrounds=500\n",
    "params = {\n",
    "    'eta': 0.07,\n",
    "    'max_depth': 5,\n",
    "    'subsample': 0.8,\n",
    "    'colsample_bytree':0.8,\n",
    "    'objective': 'binary:logistic',\n",
    "    'eval_metric': 'auc',\n",
    "    'silent': True,\n",
    "    'n_jobs':1 # use all CPU cores\n",
    "}\n",
    "\n",
    "kf = KFold(n_splits=kfold, shuffle=True, random_state=322)\n",
    "\n",
    "for i, (train_index, cv_index) in enumerate(kf.split(X)):\n",
    "\n",
    "    print(' xgb kfold: {} of {} : '.format(i+1, kfold))\n",
    "    X_train, X_eval = X[train_index,:], X[cv_index,:]\n",
    "    y_train, y_eval = y[train_index], y[cv_index]\n",
    "\n",
    "    d_train = xgb.DMatrix(X_train, y_train) \n",
    "    d_valid = xgb.DMatrix(X_eval, y_eval)\n",
    "\n",
    "    watchlist = [(d_train, 'train'), (d_valid, 'eval')]\n",
    "    xgb_model = xgb.train(params,\n",
    "                          d_train,\n",
    "                          nrounds,\n",
    "                          watchlist,\n",
    "                          early_stopping_rounds=100,\n",
    "                          feval=gini_xgb,\n",
    "                          maximize=True,\n",
    "                          verbose_eval=50)\n",
    "    # Updating prediction by taking the average\n",
    "    submission['target'] += xgb_model.predict(xgb.DMatrix(test)) / kfold\n"
   ]
  }
 ],
 "metadata": {
  "kernelspec": {
   "display_name": "Python 3",
   "language": "python",
   "name": "python3"
  },
  "language_info": {
   "codemirror_mode": {
    "name": "ipython",
    "version": 3
   },
   "file_extension": ".py",
   "mimetype": "text/x-python",
   "name": "python",
   "nbconvert_exporter": "python",
   "pygments_lexer": "ipython3",
   "version": "3.6.3"
  }
 },
 "nbformat": 4,
 "nbformat_minor": 2
}
