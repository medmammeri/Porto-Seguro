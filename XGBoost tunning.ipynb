{
 "cells": [
  {
   "cell_type": "markdown",
   "metadata": {},
   "source": [
    "# Preparing data"
   ]
  },
  {
   "cell_type": "code",
   "execution_count": 26,
   "metadata": {
    "collapsed": true
   },
   "outputs": [],
   "source": [
    "import pandas as pd\n",
    "import numpy as np"
   ]
  },
  {
   "cell_type": "code",
   "execution_count": 3,
   "metadata": {
    "collapsed": true
   },
   "outputs": [],
   "source": [
    "data_train = pd.read_csv('data/train.csv',index_col='id',na_values=-1)\n",
    "data_test = pd.read_csv('data/test.csv',index_col='id',na_values=-1)"
   ]
  },
  {
   "cell_type": "code",
   "execution_count": 4,
   "metadata": {
    "collapsed": true
   },
   "outputs": [],
   "source": [
    "cat_feat = data_test.filter(like='cat', axis=1).columns.values.tolist()\n",
    "bin_feat = data_test.filter(like='bin', axis=1).columns.values.tolist()\n",
    "num_feat = list(set(list(data_test)) - set(cat_feat)- set(bin_feat))\n",
    "\n",
    "features_names = cat_feat + bin_feat + num_feat"
   ]
  },
  {
   "cell_type": "code",
   "execution_count": 5,
   "metadata": {
    "collapsed": true
   },
   "outputs": [],
   "source": [
    "def Transform(train, fill_na=0, drop_first= False, drop_ps_car_11_cat=False):\n",
    "    \n",
    "    cat_f = ['ps_ind_02_cat', 'ps_ind_04_cat', 'ps_ind_05_cat', 'ps_car_01_cat', 'ps_car_02_cat', 'ps_car_03_cat', 'ps_car_04_cat', 'ps_car_05_cat', 'ps_car_06_cat', 'ps_car_07_cat', 'ps_car_08_cat', 'ps_car_09_cat', 'ps_car_10_cat', 'ps_car_11_cat']\n",
    "    bin_f = ['ps_ind_06_bin', 'ps_ind_07_bin', 'ps_ind_08_bin', 'ps_ind_09_bin', 'ps_ind_10_bin', 'ps_ind_11_bin', 'ps_ind_12_bin', 'ps_ind_13_bin', 'ps_ind_16_bin', 'ps_ind_17_bin', 'ps_ind_18_bin', 'ps_calc_15_bin', 'ps_calc_16_bin', 'ps_calc_17_bin', 'ps_calc_18_bin', 'ps_calc_19_bin', 'ps_calc_20_bin']\n",
    "    # Becarefull here we let the target in the training set\n",
    "    num_f = ['target','ps_car_12', 'ps_calc_12', 'ps_calc_09', 'ps_calc_03', 'ps_calc_11', 'ps_calc_13', 'ps_reg_01', 'ps_calc_06', 'ps_calc_04', 'ps_car_14', 'ps_calc_08', 'ps_car_13', 'ps_calc_01', 'ps_reg_02', 'ps_calc_10', 'ps_calc_05', 'ps_reg_03', 'ps_ind_01', 'ps_calc_02', 'ps_car_15', 'ps_car_11', 'ps_calc_14', 'ps_ind_03', 'ps_ind_14', 'ps_ind_15', 'ps_calc_07']\n",
    "    \n",
    "    if drop_ps_car_11_cat : cat_f.remove('ps_car_11_cat')\n",
    "        \n",
    "    for var in bin_feat + cat_feat:\n",
    "        train[var] = train[var].astype('float')\n",
    "        \n",
    "    train_cnt = train[num_f].fillna(fill_na) # On remlace les valeurs manquantes par 0 (Il semblerait que xgboost les gère mieux comme ça).\n",
    "    train_bin = train[bin_f]\n",
    "    train_cat = pd.get_dummies(train[cat_f],\n",
    "                              prefix_sep='#',\n",
    "                              drop_first=drop_first)\n",
    "\n",
    "    return pd.concat([train_cnt, train_bin, train_cat], axis=1);"
   ]
  },
  {
   "cell_type": "code",
   "execution_count": 6,
   "metadata": {
    "collapsed": true
   },
   "outputs": [],
   "source": [
    "Train_mod = Transform(data_train, fill_na=0, drop_first= False, drop_ps_car_11_cat= True)\n",
    "#Test_mod = Transform(data_test, fill_na=0, drop_first= False, drop_ps_car_11_cat= True)"
   ]
  },
  {
   "cell_type": "code",
   "execution_count": 7,
   "metadata": {
    "collapsed": true
   },
   "outputs": [],
   "source": [
    "y = data_train['target']"
   ]
  },
  {
   "cell_type": "code",
   "execution_count": 8,
   "metadata": {
    "collapsed": true
   },
   "outputs": [],
   "source": [
    "from sklearn.model_selection import train_test_split\n",
    "train, X_t, y_train, y_t = train_test_split(Train_mod, y, stratify=y, test_size=0.95, random_state=42)"
   ]
  },
  {
   "cell_type": "code",
   "execution_count": 9,
   "metadata": {
    "collapsed": true
   },
   "outputs": [],
   "source": [
    "target = 'target'"
   ]
  },
  {
   "cell_type": "code",
   "execution_count": 10,
   "metadata": {
    "collapsed": true
   },
   "outputs": [],
   "source": [
    "predictors = [x for x in train.columns if x not in [target]]"
   ]
  },
  {
   "cell_type": "markdown",
   "metadata": {},
   "source": [
    "# XGBoost tunning on a small trainning set"
   ]
  },
  {
   "cell_type": "code",
   "execution_count": 11,
   "metadata": {},
   "outputs": [
    {
     "name": "stderr",
     "output_type": "stream",
     "text": [
      "/Users/rafik/anaconda/lib/python3.6/site-packages/sklearn/cross_validation.py:41: DeprecationWarning: This module was deprecated in version 0.18 in favor of the model_selection module into which all the refactored classes and functions are moved. Also note that the interface of the new CV iterators are different from that of this module. This module will be removed in 0.20.\n",
      "  \"This module will be removed in 0.20.\", DeprecationWarning)\n",
      "/Users/rafik/anaconda/lib/python3.6/site-packages/sklearn/grid_search.py:42: DeprecationWarning: This module was deprecated in version 0.18 in favor of the model_selection module into which all the refactored classes and functions are moved. This module will be removed in 0.20.\n",
      "  DeprecationWarning)\n"
     ]
    }
   ],
   "source": [
    "import xgboost as xgb\n",
    "from xgboost.sklearn import XGBClassifier\n",
    "from sklearn import cross_validation, metrics   #Additional scklearn functions\n",
    "from sklearn.grid_search import GridSearchCV   #Perforing grid search"
   ]
  },
  {
   "cell_type": "code",
   "execution_count": 12,
   "metadata": {
    "collapsed": true
   },
   "outputs": [],
   "source": [
    "import matplotlib.pylab as plt\n",
    "%matplotlib inline\n",
    "from matplotlib.pylab import rcParams\n",
    "rcParams['figure.figsize'] = 12, 4"
   ]
  },
  {
   "cell_type": "code",
   "execution_count": 13,
   "metadata": {
    "collapsed": true
   },
   "outputs": [],
   "source": [
    "def gini(pred, y):\n",
    "    g = np.asarray(np.c_[y, pred, np.arange(len(y)) ], dtype=np.float)\n",
    "    g = g[np.lexsort((g[:,2], -1*g[:,1]))]\n",
    "    gs = g[:,0].cumsum().sum() / g[:,0].sum()\n",
    "    gs -= (len(y) + 1) / 2.\n",
    "    return gs / len(y)\n",
    "\n",
    "def normalized_gini(pred, y):\n",
    "    return gini(pred, y) / gini(y, y)\n",
    "\n",
    "# custom normalized gini score for xgb model\n",
    "def gini_xgb(pred, y):\n",
    "    y = y.get_label()\n",
    "    return 'gini', normalized_gini(pred, y)"
   ]
  },
  {
   "cell_type": "code",
   "execution_count": 30,
   "metadata": {
    "collapsed": true
   },
   "outputs": [],
   "source": [
    "alg = XGBClassifier(\n",
    "    learning_rate =0.1,\n",
    "    n_estimators=1000,\n",
    "    max_depth=5,\n",
    "    min_child_weight=1,\n",
    "    gamma=0,\n",
    "    subsample=0.8,\n",
    "    colsample_bytree=0.8,\n",
    "    objective= 'binary:logistic',\n",
    "    nthread=4,\n",
    "    scale_pos_weight=1,\n",
    "    seed=27)"
   ]
  },
  {
   "cell_type": "code",
   "execution_count": 34,
   "metadata": {},
   "outputs": [
    {
     "name": "stdout",
     "output_type": "stream",
     "text": [
      "[0]\ttrain-gini:0.138362+0.0238683\ttest-gini:0.106939+0.0407998\n",
      "[10]\ttrain-gini:0.356099+0.013853\ttest-gini:0.19083+0.0528064\n",
      "[20]\ttrain-gini:0.443891+0.0124959\ttest-gini:0.195588+0.0459765\n",
      "[30]\ttrain-gini:0.538193+0.0113344\ttest-gini:0.197254+0.0469281\n",
      "[40]\ttrain-gini:0.614086+0.012138\ttest-gini:0.192323+0.0506466\n",
      "[50]\ttrain-gini:0.676309+0.00408656\ttest-gini:0.200599+0.0443999\n",
      "[60]\ttrain-gini:0.718812+0.012155\ttest-gini:0.192349+0.0509973\n",
      "[70]\ttrain-gini:0.764518+0.0164875\ttest-gini:0.189501+0.0514858\n",
      "[80]\ttrain-gini:0.794007+0.0182592\ttest-gini:0.185709+0.0465329\n",
      "[90]\ttrain-gini:0.819854+0.0179896\ttest-gini:0.180469+0.0480905\n"
     ]
    }
   ],
   "source": [
    "dtrain = train\n",
    "cv_folds = 5\n",
    "early_stopping_rounds=50\n",
    "\n",
    "xgb_param = alg.get_xgb_params()\n",
    "xgtrain = xgb.DMatrix(dtrain[predictors].values, label=dtrain[target].values)\n",
    "cvresult = xgb.cv(xgb_param,\n",
    "                          xgtrain,\n",
    "                          num_boost_round = alg.get_params()['n_estimators'],\n",
    "                          nfold = cv_folds,\n",
    "                          #metrics='auc',\n",
    "                          feval = gini_xgb,\n",
    "                          maximize = True,\n",
    "                          early_stopping_rounds = early_stopping_rounds,\n",
    "                          verbose_eval = 10,\n",
    "                          #show_progress=False\n",
    "                         )"
   ]
  },
  {
   "cell_type": "code",
   "execution_count": 36,
   "metadata": {},
   "outputs": [
    {
     "ename": "SyntaxError",
     "evalue": "invalid syntax (<ipython-input-36-eec732182d3c>, line 2)",
     "output_type": "error",
     "traceback": [
      "\u001b[0;36m  File \u001b[0;32m\"<ipython-input-36-eec732182d3c>\"\u001b[0;36m, line \u001b[0;32m2\u001b[0m\n\u001b[0;31m    cvresult.shape[0])\u001b[0m\n\u001b[0m                     ^\u001b[0m\n\u001b[0;31mSyntaxError\u001b[0m\u001b[0;31m:\u001b[0m invalid syntax\n"
     ]
    }
   ],
   "source": []
  },
  {
   "cell_type": "code",
   "execution_count": 22,
   "metadata": {
    "collapsed": true
   },
   "outputs": [],
   "source": [
    "def modelfit(alg, dtrain, predictors,useTrainCV=True, cv_folds=5, early_stopping_rounds=50):\n",
    "    \n",
    "    if useTrainCV:\n",
    "        xgb_param = alg.get_xgb_params()\n",
    "        xgtrain = xgb.DMatrix(dtrain[predictors].values, label=dtrain[target].values)\n",
    "        cvresult = xgb.cv(xgb_param,\n",
    "                          xgtrain,\n",
    "                          num_boost_round = alg.get_params()['n_estimators'],\n",
    "                          nfold = cv_folds,\n",
    "                          #metrics='auc',\n",
    "                          feval = gini_xgb,\n",
    "                          maximize = True,\n",
    "                          early_stopping_rounds = early_stopping_rounds,\n",
    "                          verbose_eval = 10,\n",
    "                          #show_progress=False\n",
    "                         )\n",
    "        alg.set_params(n_estimators=cvresult.shape[0])\n",
    "    \n",
    "    #Fit the algorithm on the data\n",
    "    alg.fit(dtrain[predictors], dtrain['target'],eval_metric='auc')\n",
    "        \n",
    "    #Predict training set:\n",
    "    dtrain_predictions = alg.predict(dtrain[predictors])\n",
    "    dtrain_predprob = alg.predict_proba(dtrain[predictors])[:,1]\n",
    "        \n",
    "    #Print model report:\n",
    "    print (\"\\nModel Report\")\n",
    "    print (\"Accuracy : %.4g\" % metrics.accuracy_score(dtrain['target'].values, dtrain_predictions))\n",
    "    print (\"AUC Score (Train): %f\" % metrics.roc_auc_score(dtrain['target'], dtrain_predprob))\n",
    "    print (\"gini Score (Train): %f\" % normalized_gini(dtrain['target'], dtrain_predprob))\n",
    "                    \n",
    "    feat_imp = pd.Series(alg.booster().get_fscore()).sort_values(ascending=False)\n",
    "    feat_imp.plot(kind='bar', title='Feature Importances')\n",
    "    plt.ylabel('Feature Importance Score')"
   ]
  },
  {
   "cell_type": "code",
   "execution_count": 24,
   "metadata": {},
   "outputs": [],
   "source": [
    "xgb1 = XGBClassifier(\n",
    "    learning_rate =0.1,\n",
    "    n_estimators=1000,\n",
    "    max_depth=5,\n",
    "    min_child_weight=1,\n",
    "    gamma=0,\n",
    "    subsample=0.8,\n",
    "    colsample_bytree=0.8,\n",
    "    objective= 'binary:logistic',\n",
    "    nthread=4,\n",
    "    scale_pos_weight=1,\n",
    "    seed=27)"
   ]
  },
  {
   "cell_type": "code",
   "execution_count": 29,
   "metadata": {},
   "outputs": [
    {
     "name": "stdout",
     "output_type": "stream",
     "text": [
      "\n",
      "Model Report\n",
      "Accuracy : 0.9637\n",
      "AUC Score (Train): 0.814033\n",
      "gini Score (Train): 0.164522\n"
     ]
    },
    {
     "data": {
      "image/png": "[encoded data removed]",
      "text/plain": [
       "<matplotlib.figure.Figure at 0x10ed871d0>"
      ]
     },
     "metadata": {},
     "output_type": "display_data"
    }
   ],
   "source": [
    "modelfit(xgb1, train, predictors,useTrainCV=False)"
   ]
  },
  {
   "cell_type": "code",
   "execution_count": 58,
   "metadata": {},
   "outputs": [
    {
     "data": {
      "text/plain": [
       "([mean: 0.60691, std: 0.01548, params: {'max_depth': 3, 'min_child_weight': 1},\n",
       "  mean: 0.60998, std: 0.01269, params: {'max_depth': 3, 'min_child_weight': 6},\n",
       "  mean: 0.61044, std: 0.01589, params: {'max_depth': 3, 'min_child_weight': 2},\n",
       "  mean: 0.56585, std: 0.02289, params: {'max_depth': 10, 'min_child_weight': 1},\n",
       "  mean: 0.56234, std: 0.00984, params: {'max_depth': 10, 'min_child_weight': 6},\n",
       "  mean: 0.56524, std: 0.01804, params: {'max_depth': 10, 'min_child_weight': 2},\n",
       "  mean: 0.61365, std: 0.01539, params: {'max_depth': 2, 'min_child_weight': 1},\n",
       "  mean: 0.61134, std: 0.01496, params: {'max_depth': 2, 'min_child_weight': 6},\n",
       "  mean: 0.61624, std: 0.01474, params: {'max_depth': 2, 'min_child_weight': 2}],\n",
       " {'max_depth': 2, 'min_child_weight': 2},\n",
       " 0.6162432954732642)"
      ]
     },
     "execution_count": 58,
     "metadata": {},
     "output_type": "execute_result"
    }
   ],
   "source": [
    "param_test1 = {\n",
    " 'max_depth':[3,10,2],\n",
    " 'min_child_weight':[1,6,2]\n",
    "}\n",
    "gsearch1 = GridSearchCV(estimator = XGBClassifier(learning_rate =0.1,\n",
    "                                                  n_estimators=140,\n",
    "                                                  max_depth=5,\n",
    "                                                  min_child_weight=1,\n",
    "                                                  gamma=0,\n",
    "                                                  subsample=0.8,\n",
    "                                                  colsample_bytree=0.8,\n",
    "                                                  objective= 'binary:logistic',\n",
    "                                                  nthread=4,\n",
    "                                                  scale_pos_weight=1,\n",
    "                                                  seed=27),\n",
    "                        param_grid = param_test1,\n",
    "                        scoring='roc_auc',\n",
    "                        n_jobs=4,\n",
    "                        iid=False,\n",
    "                        cv=5)\n",
    "\n",
    "gsearch1.fit(train[predictors],train[target])\n",
    "gsearch1.grid_scores_, gsearch1.best_params_, gsearch1.best_score_\n"
   ]
  },
  {
   "cell_type": "code",
   "execution_count": null,
   "metadata": {
    "collapsed": true
   },
   "outputs": [],
   "source": []
  }
 ],
 "metadata": {
  "kernelspec": {
   "display_name": "Python 3",
   "language": "python",
   "name": "python3"
  },
  "language_info": {
   "codemirror_mode": {
    "name": "ipython",
    "version": 3
   },
   "file_extension": ".py",
   "mimetype": "text/x-python",
   "name": "python",
   "nbconvert_exporter": "python",
   "pygments_lexer": "ipython3",
   "version": "3.6.3"
  }
 },
 "nbformat": 4,
 "nbformat_minor": 2
}
