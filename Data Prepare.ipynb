{
 "cells": [
  {
   "cell_type": "markdown",
   "metadata": {},
   "source": [
    "# Reading data"
   ]
  },
  {
   "cell_type": "code",
   "execution_count": 26,
   "metadata": {
    "collapsed": true
   },
   "outputs": [],
   "source": [
    "import numpy as np\n",
    "import pandas as pd"
   ]
  },
  {
   "cell_type": "code",
   "execution_count": 16,
   "metadata": {
    "collapsed": true
   },
   "outputs": [],
   "source": [
    "data_train = pd.read_csv('data/train.csv',index_col='id',na_values=-1)\n",
    "data_test = pd.read_csv('data/test.csv',index_col='id',na_values=-1)"
   ]
  },
  {
   "cell_type": "markdown",
   "metadata": {},
   "source": [
    "# Getting features names"
   ]
  },
  {
   "cell_type": "code",
   "execution_count": 17,
   "metadata": {
    "collapsed": true
   },
   "outputs": [],
   "source": [
    "cat_feat = data_test.filter(like='cat', axis=1).columns.values.tolist()\n",
    "bin_feat = data_test.filter(like='bin', axis=1).columns.values.tolist()\n",
    "num_feat = list(set(list(data_test)) - set(cat_feat)- set(bin_feat))\n",
    "\n",
    "features_names = cat_feat + bin_feat + num_feat"
   ]
  },
  {
   "cell_type": "markdown",
   "metadata": {},
   "source": [
    "# Transforming data"
   ]
  },
  {
   "cell_type": "code",
   "execution_count": 18,
   "metadata": {
    "collapsed": true
   },
   "outputs": [],
   "source": [
    "def Transform(train, fill_na=0, drop_first= False, drop_ps_car_11_cat=False):\n",
    "    \n",
    "    cat_f = ['ps_ind_02_cat', 'ps_ind_04_cat', 'ps_ind_05_cat', 'ps_car_01_cat', 'ps_car_02_cat', 'ps_car_03_cat', 'ps_car_04_cat', 'ps_car_05_cat', 'ps_car_06_cat', 'ps_car_07_cat', 'ps_car_08_cat', 'ps_car_09_cat', 'ps_car_10_cat', 'ps_car_11_cat']\n",
    "    bin_f = ['ps_ind_06_bin', 'ps_ind_07_bin', 'ps_ind_08_bin', 'ps_ind_09_bin', 'ps_ind_10_bin', 'ps_ind_11_bin', 'ps_ind_12_bin', 'ps_ind_13_bin', 'ps_ind_16_bin', 'ps_ind_17_bin', 'ps_ind_18_bin', 'ps_calc_15_bin', 'ps_calc_16_bin', 'ps_calc_17_bin', 'ps_calc_18_bin', 'ps_calc_19_bin', 'ps_calc_20_bin']\n",
    "    num_f = ['ps_car_12', 'ps_calc_12', 'ps_calc_09', 'ps_calc_03', 'ps_calc_11', 'ps_calc_13', 'ps_reg_01', 'ps_calc_06', 'ps_calc_04', 'ps_car_14', 'ps_calc_08', 'ps_car_13', 'ps_calc_01', 'ps_reg_02', 'ps_calc_10', 'ps_calc_05', 'ps_reg_03', 'ps_ind_01', 'ps_calc_02', 'ps_car_15', 'ps_car_11', 'ps_calc_14', 'ps_ind_03', 'ps_ind_14', 'ps_ind_15', 'ps_calc_07']\n",
    "    \n",
    "    if drop_ps_car_11_cat : cat_f.remove('ps_car_11_cat')\n",
    "        \n",
    "    for var in bin_feat + cat_feat:\n",
    "        train[var] = train[var].astype('category')\n",
    "        \n",
    "    train_cnt = train[num_f].fillna(fill_na) # On remlace les valeurs manquantes par 0 (Il semblerait que xgboost les gère mieux comme ça).\n",
    "    train_bin = train[bin_f]\n",
    "    train_cat = pd.get_dummies(train[cat_f],\n",
    "                              prefix_sep='#',\n",
    "                              drop_first=drop_first)\n",
    "\n",
    "    return pd.concat([train_cnt, train_bin, train_cat], axis=1);"
   ]
  },
  {
   "cell_type": "code",
   "execution_count": 27,
   "metadata": {
    "collapsed": true
   },
   "outputs": [],
   "source": [
    "Train_mod = Transform(data_train, fill_na=0, drop_first= False, drop_ps_car_11_cat= False)\n",
    "Test_mod = Transform(data_test, fill_na=0, drop_first= False, drop_ps_car_11_cat= False)"
   ]
  },
  {
   "cell_type": "code",
   "execution_count": 28,
   "metadata": {
    "collapsed": true
   },
   "outputs": [],
   "source": [
    "X = Train_mod.as_matrix()\n",
    "X_test = Test_mod.as_matrix()\n",
    "y = data_train['target']"
   ]
  },
  {
   "cell_type": "code",
   "execution_count": 29,
   "metadata": {
    "collapsed": true
   },
   "outputs": [],
   "source": [
    "np.save('/tmp/X', X)\n",
    "np.save('/tmp/y', y)\n",
    "np.save('/tmp/X_test', X_test)"
   ]
  },
  {
   "cell_type": "markdown",
   "metadata": {},
   "source": [
    "#### We take a small subsample for learning"
   ]
  },
  {
   "cell_type": "code",
   "execution_count": 22,
   "metadata": {
    "collapsed": true
   },
   "outputs": [],
   "source": [
    "from sklearn.model_selection import train_test_split\n",
    "X_train, X_t, y_train, y_t = train_test_split(X, y, stratify=y, test_size=0.97, random_state=42)"
   ]
  },
  {
   "cell_type": "code",
   "execution_count": 23,
   "metadata": {},
   "outputs": [
    {
     "data": {
      "text/plain": [
       "((17856, 114), (17856,))"
      ]
     },
     "execution_count": 23,
     "metadata": {},
     "output_type": "execute_result"
    }
   ],
   "source": [
    "X_train.shape, y_train.shape"
   ]
  },
  {
   "cell_type": "code",
   "execution_count": 24,
   "metadata": {},
   "outputs": [
    {
     "data": {
      "text/plain": [
       "0.036458333333333336"
      ]
     },
     "execution_count": 24,
     "metadata": {},
     "output_type": "execute_result"
    }
   ],
   "source": [
    "y_train.value_counts()[1]/len(y_train)"
   ]
  },
  {
   "cell_type": "code",
   "execution_count": 25,
   "metadata": {},
   "outputs": [],
   "source": [
    "np.save('/tmp/X_small', X_train)\n",
    "np.save('/tmp/y_small', y_train)"
   ]
  },
  {
   "cell_type": "code",
   "execution_count": null,
   "metadata": {
    "collapsed": true
   },
   "outputs": [],
   "source": []
  }
 ],
 "metadata": {
  "kernelspec": {
   "display_name": "Python 3",
   "language": "python",
   "name": "python3"
  },
  "language_info": {
   "codemirror_mode": {
    "name": "ipython",
    "version": 3
   },
   "file_extension": ".py",
   "mimetype": "text/x-python",
   "name": "python",
   "nbconvert_exporter": "python",
   "pygments_lexer": "ipython3",
   "version": "3.6.3"
  }
 },
 "nbformat": 4,
 "nbformat_minor": 2
}
