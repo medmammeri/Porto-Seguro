{
 "cells": [
  {
   "cell_type": "markdown",
   "metadata": {},
   "source": [
    "# Loading libraries"
   ]
  },
  {
   "cell_type": "code",
   "execution_count": 1,
   "metadata": {
    "collapsed": true
   },
   "outputs": [],
   "source": [
    "import numpy as np\n",
    "import pandas as pd"
   ]
  },
  {
   "cell_type": "code",
   "execution_count": 2,
   "metadata": {},
   "outputs": [
    {
     "name": "stderr",
     "output_type": "stream",
     "text": [
      "/Users/rafik/anaconda/lib/python3.6/site-packages/sklearn/cross_validation.py:41: DeprecationWarning: This module was deprecated in version 0.18 in favor of the model_selection module into which all the refactored classes and functions are moved. Also note that the interface of the new CV iterators are different from that of this module. This module will be removed in 0.20.\n",
      "  \"This module will be removed in 0.20.\", DeprecationWarning)\n",
      "/Users/rafik/anaconda/lib/python3.6/site-packages/sklearn/grid_search.py:42: DeprecationWarning: This module was deprecated in version 0.18 in favor of the model_selection module into which all the refactored classes and functions are moved. This module will be removed in 0.20.\n",
      "  DeprecationWarning)\n"
     ]
    }
   ],
   "source": [
    "from sklearn.model_selection import train_test_split\n",
    "from datetime import datetime\n",
    "from sklearn.externals import joblib\n",
    "from sklearn import cross_validation, metrics\n",
    "from sklearn.grid_search import GridSearchCV "
   ]
  },
  {
   "cell_type": "code",
   "execution_count": 3,
   "metadata": {
    "collapsed": true
   },
   "outputs": [],
   "source": [
    "import xgboost as xgb\n",
    "from xgboost.sklearn import XGBClassifier"
   ]
  },
  {
   "cell_type": "code",
   "execution_count": 4,
   "metadata": {
    "collapsed": true
   },
   "outputs": [],
   "source": [
    "import matplotlib.pylab as plt\n",
    "%matplotlib inline\n",
    "from matplotlib.pylab import rcParams\n",
    "rcParams['figure.figsize'] = 12, 4"
   ]
  },
  {
   "cell_type": "markdown",
   "metadata": {},
   "source": [
    "# Preparing data"
   ]
  },
  {
   "cell_type": "code",
   "execution_count": 5,
   "metadata": {
    "collapsed": true
   },
   "outputs": [],
   "source": [
    "dtrain = pd.read_csv('data/train.csv',index_col='id',na_values=-1)\n",
    "Kaggle_test = pd.read_csv('data/test.csv',index_col='id',na_values=-1)"
   ]
  },
  {
   "cell_type": "code",
   "execution_count": 6,
   "metadata": {
    "collapsed": true
   },
   "outputs": [],
   "source": [
    "def Transform(data, fill_na=-1, drop_first= False, drop_ps_car_11_cat=False):\n",
    "    \n",
    "    cat_f = ['ps_ind_02_cat', 'ps_ind_04_cat', 'ps_ind_05_cat', 'ps_car_01_cat', 'ps_car_02_cat', 'ps_car_03_cat', 'ps_car_04_cat', 'ps_car_05_cat', 'ps_car_06_cat', 'ps_car_07_cat', 'ps_car_08_cat', 'ps_car_09_cat', 'ps_car_10_cat', 'ps_car_11_cat']\n",
    "    bin_f = ['ps_ind_06_bin', 'ps_ind_07_bin', 'ps_ind_08_bin', 'ps_ind_09_bin', 'ps_ind_10_bin', 'ps_ind_11_bin', 'ps_ind_12_bin', 'ps_ind_13_bin', 'ps_ind_16_bin', 'ps_ind_17_bin', 'ps_ind_18_bin', 'ps_calc_15_bin', 'ps_calc_16_bin', 'ps_calc_17_bin', 'ps_calc_18_bin', 'ps_calc_19_bin', 'ps_calc_20_bin']\n",
    "    num_f = list(set(list(data)) - set(cat_f)- set(bin_f))\n",
    "    \n",
    "    if drop_ps_car_11_cat : cat_f.remove('ps_car_11_cat')\n",
    "        \n",
    "    for var in cat_f:\n",
    "        data[var] = data[var].astype('category')\n",
    "        \n",
    "    data_cnt = data[num_f].fillna(fill_na)\n",
    "    data_bin = data[bin_f]\n",
    "    data_cat = pd.get_dummies(data[cat_f],\n",
    "                              prefix_sep='#',\n",
    "                              drop_first=drop_first)\n",
    "\n",
    "    return pd.concat([data_cnt, data_bin, data_cat], axis=1);"
   ]
  },
  {
   "cell_type": "code",
   "execution_count": 7,
   "metadata": {
    "collapsed": true
   },
   "outputs": [],
   "source": [
    "dtrain = Transform(dtrain, drop_first= False, drop_ps_car_11_cat= False)\n",
    "Kaggle_test = Transform(Kaggle_test, drop_first= False, drop_ps_car_11_cat= False)"
   ]
  },
  {
   "cell_type": "code",
   "execution_count": 8,
   "metadata": {
    "collapsed": true
   },
   "outputs": [],
   "source": [
    "predictors = list(Kaggle_test)"
   ]
  },
  {
   "cell_type": "code",
   "execution_count": 9,
   "metadata": {
    "collapsed": true
   },
   "outputs": [],
   "source": [
    "X_train, X_test, y_train, y_test = train_test_split(dtrain[predictors], dtrain['target'], stratify=dtrain['target'], test_size=0.3, random_state=42)"
   ]
  },
  {
   "cell_type": "markdown",
   "metadata": {},
   "source": [
    "# Gini"
   ]
  },
  {
   "cell_type": "code",
   "execution_count": 10,
   "metadata": {
    "collapsed": true
   },
   "outputs": [],
   "source": [
    "def gini(pred, y):\n",
    "    g = np.asarray(np.c_[y, pred, np.arange(len(y)) ], dtype=np.float)\n",
    "    g = g[np.lexsort((g[:,2], -1*g[:,1]))]\n",
    "    gs = g[:,0].cumsum().sum() / g[:,0].sum()\n",
    "    gs -= (len(y) + 1) / 2.\n",
    "    return gs / len(y)\n",
    "\n",
    "def normalized_gini(pred, y):\n",
    "    return gini(pred, y) / gini(y, y)\n",
    "\n",
    "# custom normalized gini score for xgb model\n",
    "def gini_xgb(pred, y):\n",
    "    y = y.get_label()\n",
    "    return 'gini', normalized_gini(pred, y)"
   ]
  },
  {
   "cell_type": "markdown",
   "metadata": {},
   "source": [
    "# Usefull functions"
   ]
  },
  {
   "cell_type": "code",
   "execution_count": 11,
   "metadata": {
    "collapsed": true
   },
   "outputs": [],
   "source": [
    "porto_test_id = pd.read_csv('data/test.csv',usecols=['id'])\n",
    "def make_submission(name, pred):\n",
    "    s = porto_test_id['id'].to_frame()\n",
    "    s['target'] = pred\n",
    "    s.to_csv('Submissions/'+name+'.csv',index=False)"
   ]
  },
  {
   "cell_type": "code",
   "execution_count": 17,
   "metadata": {
    "collapsed": true
   },
   "outputs": [],
   "source": [
    "def rnd_gini(clf):\n",
    "    x = datetime.now()\n",
    "    clf.fit(X_train, y_train, eval_metric='auc')\n",
    "    y = datetime.now()\n",
    "    print('Time to fit : ' + str(x-y))\n",
    "    tr = normalized_gini(clf.predict_proba(X_train)[:,1],y_train)\n",
    "    te = normalized_gini(clf.predict_proba(X_test)[:,1],y_test)\n",
    "    print('Train-gini :', tr)\n",
    "    print('Test-gini :',  te)\n",
    "    print('Difference-gini :', tr-te)\n",
    "    x = str(datetime.now())\n",
    "    joblib.dump(clf, \"pkl/\"+ x +\".pkl\")\n",
    "    print(\"Model file : pkl/\"+ x +\".pkl\")"
   ]
  },
  {
   "cell_type": "markdown",
   "metadata": {},
   "source": [
    "# xgb Tunning"
   ]
  },
  {
   "cell_type": "code",
   "execution_count": 31,
   "metadata": {
    "collapsed": true
   },
   "outputs": [],
   "source": [
    "def modelfit(alg, dtrain, predictors,useTrainCV=True, cv_folds=5, early_stopping_rounds=50, target='target'):\n",
    "    if useTrainCV:\n",
    "        xgb_param = alg.get_xgb_params()\n",
    "        xgtrain = xgb.DMatrix(dtrain[predictors].values, label=dtrain[target].values)\n",
    "        cvresult = xgb.cv(xgb_param,\n",
    "                          xgtrain,\n",
    "                          num_boost_round = alg.get_params()['n_estimators'],\n",
    "                          nfold = cv_folds,\n",
    "                          metrics='auc',\n",
    "                          feval=gini_xgb,\n",
    "                          maximize = True,\n",
    "                          early_stopping_rounds = early_stopping_rounds,\n",
    "                          verbose_eval = 50,\n",
    "                          #show_progress=False\n",
    "                         )\n",
    "        alg.set_params(n_estimators=cvresult.shape[0])\n",
    "        \n",
    "    alg.fit(dtrain[predictors], dtrain['target'],eval_metric='auc')\n",
    "    # dtrain_predictions = alg.predict(dtrain[predictors])\n",
    "    dtrain_predprob = alg.predict_proba(dtrain[predictors])[:,1]\n",
    "    \n",
    "    print (\"\\nModel Report\")\n",
    "    print('n_estimators :', cvresult.shape[0])\n",
    "    print (\"gini Score (Train): %f\" % normalized_gini(dtrain_predprob, dtrain['target']))\n",
    "    \n",
    "    feat_imp = pd.Series(alg.booster().get_fscore()).sort_values(ascending=False)\n",
    "    feat_imp.plot(kind='bar', title='Feature Importances')\n",
    "    plt.ylabel('Feature Importance Score')"
   ]
  },
  {
   "cell_type": "code",
   "execution_count": 32,
   "metadata": {},
   "outputs": [
    {
     "name": "stdout",
     "output_type": "stream",
     "text": [
      "[0]\ttrain-gini:0.21533+0.00323095\ttest-gini:0.204464+0.00616712\n",
      "[50]\ttrain-gini:0.310716+0.002451\ttest-gini:0.269956+0.00742025\n",
      "[100]\ttrain-gini:0.361378+0.00219121\ttest-gini:0.278935+0.00673339\n",
      "[150]\ttrain-gini:0.396117+0.00230822\ttest-gini:0.279967+0.00687031\n",
      "\n",
      "Model Report\n",
      "n_estimators : 142\n",
      "gini Score (Train): 0.373179\n"
     ]
    },
    {
     "data": {
      "image/png": "[encoded data removed]",
      "text/plain": [
       "<matplotlib.figure.Figure at 0x108c51b70>"
      ]
     },
     "metadata": {},
     "output_type": "display_data"
    }
   ],
   "source": [
    "xgb1 = XGBClassifier(learning_rate =0.1,\n",
    "                     n_estimators=500,\n",
    "                     max_depth=5,\n",
    "                     min_child_weight=1,\n",
    "                     gamma=0,\n",
    "                     subsample=0.8,\n",
    "                     colsample_bytree=0.8,\n",
    "                     objective= 'binary:logistic',\n",
    "                     nthread=4,\n",
    "                     scale_pos_weight=1,\n",
    "                     seed=27)\n",
    "\n",
    "modelfit(xgb1, dtrain, predictors,early_stopping_rounds=50)"
   ]
  },
  {
   "cell_type": "code",
   "execution_count": null,
   "metadata": {
    "collapsed": true
   },
   "outputs": [],
   "source": [
    "param_test1 = {\n",
    " 'max_depth':[3,5],\n",
    " 'min_child_weight':[3,5]\n",
    "}\n",
    "\n",
    "clf = XGBClassifier(learning_rate =0.1,\n",
    "                    n_estimators=142,\n",
    "                    max_depth=5,\n",
    "                    min_child_weight=1,\n",
    "                    gamma=0,\n",
    "                    subsample=0.8,\n",
    "                    colsample_bytree=0.8,\n",
    "                    objective= 'binary:logistic',\n",
    "                    nthread=4,\n",
    "                    scale_pos_weight=1,\n",
    "                    seed=27)\n",
    "\n",
    "gsearch1 = GridSearchCV(estimator = clf,\n",
    "                        param_grid = param_test1,\n",
    "                        scoring='roc_auc',\n",
    "                        n_jobs=-1,\n",
    "                        iid=False,\n",
    "                        cv=5,\n",
    "                        verbose=2)\n",
    "\n",
    "gsearch1.fit(dtrain[predictors],dtrain['target'])\n",
    "gsearch1.grid_scores_, gsearch1.best_params_, gsearch1.best_score_"
   ]
  },
  {
   "cell_type": "markdown",
   "metadata": {},
   "source": [
    "# Tunning max_depth and min_child_weight"
   ]
  },
  {
   "cell_type": "code",
   "execution_count": 18,
   "metadata": {},
   "outputs": [
    {
     "name": "stdout",
     "output_type": "stream",
     "text": [
      "Time to fit : -1 day, 23:55:20.608350\n",
      "Train-gini : 0.309210035529\n",
      "Test-gini : 0.285614632008\n",
      "Difference-gini : 0.023595403521\n",
      "Model file : pkl/2018-01-12 11:44:58.143628.pkl\n"
     ]
    }
   ],
   "source": [
    "clf = XGBClassifier(learning_rate =0.1,\n",
    "                    n_estimators=142,\n",
    "                    max_depth=3,\n",
    "                    min_child_weight=3,\n",
    "                    gamma=0,\n",
    "                    subsample=0.8,\n",
    "                    colsample_bytree=0.8,\n",
    "                    objective= 'binary:logistic',\n",
    "                    nthread=4,\n",
    "                    scale_pos_weight=1,\n",
    "                    seed=27)\n",
    "\n",
    "\n",
    "rnd_gini(clf)"
   ]
  },
  {
   "cell_type": "code",
   "execution_count": 19,
   "metadata": {},
   "outputs": [
    {
     "name": "stdout",
     "output_type": "stream",
     "text": [
      "Time to fit : -1 day, 23:55:13.772748\n",
      "Train-gini : 0.30909295621\n",
      "Test-gini : 0.286052692454\n",
      "Difference-gini : 0.0230402637565\n",
      "Model file : pkl/2018-01-12 11:50:29.175052.pkl\n"
     ]
    }
   ],
   "source": [
    "clf = XGBClassifier(learning_rate =0.1,\n",
    "                    n_estimators=142,\n",
    "                    max_depth=3,\n",
    "                    min_child_weight=5,\n",
    "                    gamma=0,\n",
    "                    subsample=0.8,\n",
    "                    colsample_bytree=0.8,\n",
    "                    objective= 'binary:logistic',\n",
    "                    nthread=4,\n",
    "                    scale_pos_weight=1,\n",
    "                    seed=27)\n",
    "\n",
    "\n",
    "rnd_gini(clf)"
   ]
  },
  {
   "cell_type": "code",
   "execution_count": 20,
   "metadata": {},
   "outputs": [
    {
     "name": "stdout",
     "output_type": "stream",
     "text": [
      "Time to fit : -1 day, 23:52:34.558502\n",
      "Train-gini : 0.394361187563\n",
      "Test-gini : 0.284801209575\n",
      "Difference-gini : 0.109559977988\n",
      "Model file : pkl/2018-01-12 11:58:04.393804.pkl\n"
     ]
    }
   ],
   "source": [
    "clf = XGBClassifier(learning_rate =0.1,\n",
    "                    n_estimators=142,\n",
    "                    max_depth=5,\n",
    "                    min_child_weight=3,\n",
    "                    gamma=0,\n",
    "                    subsample=0.8,\n",
    "                    colsample_bytree=0.8,\n",
    "                    objective= 'binary:logistic',\n",
    "                    nthread=4,\n",
    "                    scale_pos_weight=1,\n",
    "                    seed=27)\n",
    "\n",
    "\n",
    "rnd_gini(clf)"
   ]
  },
  {
   "cell_type": "code",
   "execution_count": 21,
   "metadata": {},
   "outputs": [
    {
     "name": "stdout",
     "output_type": "stream",
     "text": [
      "Time to fit : -1 day, 23:52:18.288253\n",
      "Train-gini : 0.390383082994\n",
      "Test-gini : 0.28524190456\n",
      "Difference-gini : 0.105141178434\n",
      "Model file : pkl/2018-01-12 12:05:56.074664.pkl\n"
     ]
    }
   ],
   "source": [
    "clf = XGBClassifier(learning_rate =0.1,\n",
    "                    n_estimators=142,\n",
    "                    max_depth=5,\n",
    "                    min_child_weight=5,\n",
    "                    gamma=0,\n",
    "                    subsample=0.8,\n",
    "                    colsample_bytree=0.8,\n",
    "                    objective= 'binary:logistic',\n",
    "                    nthread=4,\n",
    "                    scale_pos_weight=1,\n",
    "                    seed=27)\n",
    "\n",
    "\n",
    "rnd_gini(clf)"
   ]
  },
  {
   "cell_type": "code",
   "execution_count": 22,
   "metadata": {},
   "outputs": [
    {
     "name": "stdout",
     "output_type": "stream",
     "text": [
      "Time to fit : -1 day, 23:52:15.220556\n",
      "Train-gini : 0.388170000337\n",
      "Test-gini : 0.285406526638\n",
      "Difference-gini : 0.102763473699\n",
      "Model file : pkl/2018-01-12 12:14:19.636535.pkl\n"
     ]
    }
   ],
   "source": [
    "clf = XGBClassifier(learning_rate =0.1,\n",
    "                    n_estimators=142,\n",
    "                    max_depth=5,\n",
    "                    min_child_weight=6,\n",
    "                    gamma=0,\n",
    "                    subsample=0.8,\n",
    "                    colsample_bytree=0.8,\n",
    "                    objective= 'binary:logistic',\n",
    "                    nthread=4,\n",
    "                    scale_pos_weight=1,\n",
    "                    seed=27)\n",
    "\n",
    "\n",
    "rnd_gini(clf)"
   ]
  },
  {
   "cell_type": "code",
   "execution_count": 23,
   "metadata": {},
   "outputs": [
    {
     "name": "stdout",
     "output_type": "stream",
     "text": [
      "Time to fit : -1 day, 23:53:42.422612\n",
      "Train-gini : 0.343126776413\n",
      "Test-gini : 0.288112957406\n",
      "Difference-gini : 0.0550138190073\n",
      "Model file : pkl/2018-01-12 12:20:59.873228.pkl\n"
     ]
    }
   ],
   "source": [
    "clf = XGBClassifier(learning_rate =0.1,\n",
    "                    n_estimators=142,\n",
    "                    max_depth=4,\n",
    "                    min_child_weight=6,\n",
    "                    gamma=0,\n",
    "                    subsample=0.8,\n",
    "                    colsample_bytree=0.8,\n",
    "                    objective= 'binary:logistic',\n",
    "                    nthread=4,\n",
    "                    scale_pos_weight=1,\n",
    "                    seed=27)\n",
    "\n",
    "\n",
    "rnd_gini(clf)"
   ]
  },
  {
   "cell_type": "code",
   "execution_count": 25,
   "metadata": {},
   "outputs": [
    {
     "name": "stdout",
     "output_type": "stream",
     "text": [
      "Time to fit : -1 day, 23:55:12.087251\n",
      "Train-gini : 0.308873376514\n",
      "Test-gini : 0.286637411887\n",
      "Difference-gini : 0.0222359646271\n",
      "Model file : pkl/2018-01-12 12:26:17.326665.pkl\n"
     ]
    }
   ],
   "source": [
    "clf = XGBClassifier(learning_rate =0.1,\n",
    "                    n_estimators=142,\n",
    "                    max_depth=3,\n",
    "                    min_child_weight=6,\n",
    "                    gamma=0,\n",
    "                    subsample=0.8,\n",
    "                    colsample_bytree=0.8,\n",
    "                    objective= 'binary:logistic',\n",
    "                    nthread=4,\n",
    "                    scale_pos_weight=1,\n",
    "                    seed=27)\n",
    "\n",
    "\n",
    "rnd_gini(clf)"
   ]
  },
  {
   "cell_type": "markdown",
   "metadata": {},
   "source": [
    "Best max_depth = 4\n",
    "Best min_child_weight = 6"
   ]
  },
  {
   "cell_type": "markdown",
   "metadata": {},
   "source": [
    "# Tunning gamma"
   ]
  },
  {
   "cell_type": "code",
   "execution_count": 36,
   "metadata": {
    "collapsed": true
   },
   "outputs": [],
   "source": [
    "gamma = [0.5/10,1.5/10,2.0/10]"
   ]
  },
  {
   "cell_type": "code",
   "execution_count": 37,
   "metadata": {},
   "outputs": [
    {
     "name": "stdout",
     "output_type": "stream",
     "text": [
      "Gamma = 0.05\n",
      "Time to fit : -1 day, 23:53:20.529972\n",
      "Train-gini : 0.343126776413\n",
      "Test-gini : 0.288112957406\n",
      "Difference-gini : 0.0550138190073\n",
      "Model file : pkl/2018-01-12 12:47:52.877094.pkl\n",
      "Gamma = 0.15\n",
      "Time to fit : -1 day, 23:53:59.644725\n",
      "Train-gini : 0.343126776413\n",
      "Test-gini : 0.288112957406\n",
      "Difference-gini : 0.0550138190073\n",
      "Model file : pkl/2018-01-12 12:54:02.981429.pkl\n",
      "Gamma = 0.2\n",
      "Time to fit : -1 day, 23:54:03.212516\n",
      "Train-gini : 0.343126776413\n",
      "Test-gini : 0.288112957406\n",
      "Difference-gini : 0.0550138190073\n",
      "Model file : pkl/2018-01-12 13:00:08.655522.pkl\n"
     ]
    }
   ],
   "source": [
    "for g in gamma :\n",
    "    print('Gamma =',g)\n",
    "    clf = XGBClassifier(learning_rate =0.1,\n",
    "                        n_estimators=142,\n",
    "                        max_depth=4,\n",
    "                        min_child_weight=6,\n",
    "                        gamma=g,\n",
    "                        subsample=0.8,\n",
    "                        colsample_bytree=0.8,\n",
    "                        objective= 'binary:logistic',\n",
    "                        nthread=4,\n",
    "                        scale_pos_weight=1,\n",
    "                        seed=27)\n",
    "\n",
    "\n",
    "    rnd_gini(clf)"
   ]
  },
  {
   "cell_type": "code",
   "execution_count": 38,
   "metadata": {
    "collapsed": true
   },
   "outputs": [],
   "source": [
    "subsample = [0.6,0.7,0.9]\n",
    "colsample_bytree = [0.6,0.7,0.9]"
   ]
  },
  {
   "cell_type": "code",
   "execution_count": 40,
   "metadata": {},
   "outputs": [
    {
     "name": "stdout",
     "output_type": "stream",
     "text": [
      "subsample = 0.6\n",
      "colsample_bytree = 0.6\n",
      "Time to fit : -1 day, 23:53:38.281347\n",
      "Train-gini : 0.35048467291\n",
      "Test-gini : 0.286607735367\n",
      "Difference-gini : 0.0638769375432\n",
      "Model file : pkl/2018-01-12 13:50:35.487329.pkl\n",
      "subsample = 0.6\n",
      "colsample_bytree = 0.7\n",
      "Time to fit : -1 day, 23:52:48.174875\n",
      "Train-gini : 0.351482699691\n",
      "Test-gini : 0.282153872859\n",
      "Difference-gini : 0.0693288268319\n",
      "Model file : pkl/2018-01-12 13:57:57.733296.pkl\n",
      "subsample = 0.6\n",
      "colsample_bytree = 0.9\n",
      "Time to fit : -1 day, 23:50:41.792320\n",
      "Train-gini : 0.357009201565\n",
      "Test-gini : 0.282985938899\n",
      "Difference-gini : 0.0740232626659\n",
      "Model file : pkl/2018-01-12 14:07:26.016969.pkl\n",
      "subsample = 0.7\n",
      "colsample_bytree = 0.6\n",
      "Time to fit : -1 day, 23:53:57.504696\n",
      "Train-gini : 0.353592430676\n",
      "Test-gini : 0.284184379129\n",
      "Difference-gini : 0.0694080515475\n",
      "Model file : pkl/2018-01-12 14:13:39.389759.pkl\n",
      "subsample = 0.7\n",
      "colsample_bytree = 0.7\n",
      "Time to fit : -1 day, 23:52:39.005192\n",
      "Train-gini : 0.354801996936\n",
      "Test-gini : 0.284375644882\n",
      "Difference-gini : 0.0704263520548\n",
      "Model file : pkl/2018-01-12 14:21:10.110019.pkl\n",
      "subsample = 0.7\n",
      "colsample_bytree = 0.9\n",
      "Time to fit : -1 day, 23:51:11.426424\n",
      "Train-gini : 0.360140522949\n",
      "Test-gini : 0.284220246369\n",
      "Difference-gini : 0.0759202765795\n",
      "Model file : pkl/2018-01-12 14:30:08.389720.pkl\n",
      "subsample = 0.9\n",
      "colsample_bytree = 0.6\n",
      "Time to fit : -1 day, 23:54:16.063706\n",
      "Train-gini : 0.354425621699\n",
      "Test-gini : 0.284783544767\n",
      "Difference-gini : 0.0696420769323\n",
      "Model file : pkl/2018-01-12 14:36:01.935169.pkl\n",
      "subsample = 0.9\n",
      "colsample_bytree = 0.7\n",
      "Time to fit : -1 day, 23:53:32.331972\n",
      "Train-gini : 0.354784708617\n",
      "Test-gini : 0.285401936289\n",
      "Difference-gini : 0.0693827723285\n",
      "Model file : pkl/2018-01-12 14:42:39.391662.pkl\n",
      "subsample = 0.9\n",
      "colsample_bytree = 0.9\n",
      "Time to fit : -1 day, 23:51:37.056548\n",
      "Train-gini : 0.358231577584\n",
      "Test-gini : 0.285041261634\n",
      "Difference-gini : 0.0731903159502\n",
      "Model file : pkl/2018-01-12 14:51:13.794908.pkl\n"
     ]
    }
   ],
   "source": [
    "for s in subsample :\n",
    "    for c in colsample_bytree : \n",
    "        print('subsample =', s)\n",
    "        print('colsample_bytree =', c)\n",
    "        clf = XGBClassifier(learning_rate =0.1,\n",
    "                            n_estimators=180,\n",
    "                            max_depth=4,\n",
    "                            min_child_weight=6,\n",
    "                            gamma=g,\n",
    "                            subsample=s,\n",
    "                            colsample_bytree=c,\n",
    "                            objective= 'binary:logistic',\n",
    "                            nthread=4,\n",
    "                            scale_pos_weight=1,\n",
    "                            seed=27)\n",
    "\n",
    "\n",
    "        rnd_gini(clf)"
   ]
  },
  {
   "cell_type": "markdown",
   "metadata": {},
   "source": [
    "Best subsample = 0.8\n",
    "\n",
    "Best colsample_bytree = 0.8"
   ]
  },
  {
   "cell_type": "code",
   "execution_count": 48,
   "metadata": {
    "collapsed": true
   },
   "outputs": [],
   "source": [
    "reg_alpha = [1e-5, 1e-2, 0.1]"
   ]
  },
  {
   "cell_type": "code",
   "execution_count": 49,
   "metadata": {},
   "outputs": [
    {
     "name": "stdout",
     "output_type": "stream",
     "text": [
      "reg_alpha = 1e-05\n",
      "Time to fit : -1 day, 23:51:36.014272\n",
      "Train-gini : 0.358302698842\n",
      "Test-gini : 0.28813743272\n",
      "Difference-gini : 0.0701652661214\n",
      "Model file : pkl/2018-01-12 18:03:41.251860.pkl\n",
      "reg_alpha = 0.01\n",
      "Time to fit : -1 day, 23:51:31.912306\n",
      "Train-gini : 0.358396180425\n",
      "Test-gini : 0.287503648345\n",
      "Difference-gini : 0.0708925320794\n",
      "Model file : pkl/2018-01-12 18:12:20.266563.pkl\n",
      "reg_alpha = 0.1\n",
      "Time to fit : -1 day, 23:51:40.485897\n",
      "Train-gini : 0.356497591321\n",
      "Test-gini : 0.28718261502\n",
      "Difference-gini : 0.0693149763011\n",
      "Model file : pkl/2018-01-12 18:20:50.537883.pkl\n"
     ]
    }
   ],
   "source": [
    "for r in reg_alpha : \n",
    "    print('reg_alpha =', r)\n",
    "    clf = XGBClassifier(learning_rate =0.1,\n",
    "                        n_estimators=180,\n",
    "                        max_depth=4,\n",
    "                        min_child_weight=6,\n",
    "                        gamma=0,\n",
    "                        subsample=0.8,\n",
    "                        colsample_bytree=0.8,\n",
    "                        reg_alpha = r,\n",
    "                        objective= 'binary:logistic',\n",
    "                        nthread=4,\n",
    "                        scale_pos_weight=1,\n",
    "                        seed=27)\n",
    "\n",
    "\n",
    "    rnd_gini(clf)"
   ]
  },
  {
   "cell_type": "code",
   "execution_count": null,
   "metadata": {
    "collapsed": true
   },
   "outputs": [],
   "source": [
    "clf = XGBClassifier(learning_rate =0.01,\n",
    "                        n_estimators=5000,\n",
    "                        max_depth=4,\n",
    "                        min_child_weight=6,\n",
    "                        gamma=0,\n",
    "                        subsample=0.8,\n",
    "                        colsample_bytree=0.8,\n",
    "                        reg_alpha = 0.005,\n",
    "                        objective= 'binary:logistic',\n",
    "                        nthread=4,\n",
    "                        scale_pos_weight=1,\n",
    "                        seed=27)\n",
    "\n",
    "\n",
    "rnd_gini(clf)"
   ]
  }
 ],
 "metadata": {
  "kernelspec": {
   "display_name": "Python 3",
   "language": "python",
   "name": "python3"
  },
  "language_info": {
   "codemirror_mode": {
    "name": "ipython",
    "version": 3
   },
   "file_extension": ".py",
   "mimetype": "text/x-python",
   "name": "python",
   "nbconvert_exporter": "python",
   "pygments_lexer": "ipython3",
   "version": "3.6.3"
  }
 },
 "nbformat": 4,
 "nbformat_minor": 2
}
