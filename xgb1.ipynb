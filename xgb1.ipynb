{
 "cells": [
  {
   "cell_type": "markdown",
   "metadata": {},
   "source": [
    "# Preliminaries"
   ]
  },
  {
   "cell_type": "code",
   "execution_count": null,
   "metadata": {
    "collapsed": true
   },
   "outputs": [],
   "source": [
    "import numpy as np\n",
    "import pandas as pd"
   ]
  },
  {
   "cell_type": "code",
   "execution_count": 3,
   "metadata": {
    "collapsed": true
   },
   "outputs": [],
   "source": [
    "from sklearn.model_selection import train_test_split\n",
    "from datetime import datetime\n",
    "from sklearn.externals import joblib"
   ]
  },
  {
   "cell_type": "code",
   "execution_count": 3,
   "metadata": {
    "collapsed": true
   },
   "outputs": [],
   "source": [
    "X_test = np.load('X_test.npy')"
   ]
  },
  {
   "cell_type": "code",
   "execution_count": 4,
   "metadata": {
    "collapsed": true
   },
   "outputs": [],
   "source": [
    "X = np.load('X.npy')\n",
    "y = np.load('y.npy')"
   ]
  },
  {
   "cell_type": "code",
   "execution_count": 5,
   "metadata": {
    "collapsed": true
   },
   "outputs": [],
   "source": [
    "X_train, X_t, y_train, y_t = train_test_split(X, y, stratify=y, test_size=0.3, random_state=42)"
   ]
  },
  {
   "cell_type": "code",
   "execution_count": 19,
   "metadata": {
    "collapsed": true
   },
   "outputs": [],
   "source": [
    "def gini(pred, y):\n",
    "    g = np.asarray(np.c_[y, pred, np.arange(len(y)) ], dtype=np.float)\n",
    "    g = g[np.lexsort((g[:,2], -1*g[:,1]))]\n",
    "    gs = g[:,0].cumsum().sum() / g[:,0].sum()\n",
    "    gs -= (len(y) + 1) / 2.\n",
    "    return gs / len(y)\n",
    "\n",
    "def normalized_gini(pred, y):\n",
    "    return gini(pred, y) / gini(y, y)\n",
    "\n",
    "#my_scorer = make_scorer(normalized_gini, greater_is_better=True)"
   ]
  },
  {
   "cell_type": "code",
   "execution_count": 7,
   "metadata": {
    "collapsed": true
   },
   "outputs": [],
   "source": [
    "porto_test_id = pd.read_csv('data/test.csv',usecols=['id'])\n",
    "def make_submission(name, pred):\n",
    "    s = porto_test_id['id'].to_frame()\n",
    "    s['target'] = pred\n",
    "    s.to_csv('Submissions/'+name+'.csv',index=False)"
   ]
  },
  {
   "cell_type": "code",
   "execution_count": 26,
   "metadata": {
    "collapsed": true
   },
   "outputs": [],
   "source": [
    "def rnd_gini(clf):\n",
    "    x = datetime.now()\n",
    "    clf.fit(X_train, y_train, eval_metric='auc')\n",
    "    y = datetime.now()\n",
    "    print('Time to fit : ' + str(x-y))\n",
    "    tr = normalized_gini(clf.predict_proba(X_train)[:,1],y_train)\n",
    "    te = normalized_gini(clf.predict_proba(X_t)[:,1],y_t)\n",
    "    print('Train-gini :', tr)\n",
    "    print('Test-gini :',  te)\n",
    "    print('Difference-gini :', tr-te)\n",
    "    x = str(datetime.now())\n",
    "    joblib.dump(clf, \"pkl/RandomForest/\"+ x +\".pkl\")\n",
    "    print(\"Model file : pkl/RandomForest/\"+ x +\".pkl\")"
   ]
  },
  {
   "cell_type": "code",
   "execution_count": 9,
   "metadata": {
    "collapsed": true
   },
   "outputs": [],
   "source": [
    "def binarize(pred,threshold):\n",
    "    s= pred\n",
    "    s[s<threshold] = 0\n",
    "    s[s>=threshold] = 1\n",
    "    s.astype(int)\n",
    "    return s"
   ]
  },
  {
   "cell_type": "markdown",
   "metadata": {},
   "source": [
    "# xgb"
   ]
  },
  {
   "cell_type": "code",
   "execution_count": 10,
   "metadata": {},
   "outputs": [
    {
     "name": "stderr",
     "output_type": "stream",
     "text": [
      "/Users/rafik/anaconda/lib/python3.6/site-packages/sklearn/cross_validation.py:41: DeprecationWarning: This module was deprecated in version 0.18 in favor of the model_selection module into which all the refactored classes and functions are moved. Also note that the interface of the new CV iterators are different from that of this module. This module will be removed in 0.20.\n",
      "  \"This module will be removed in 0.20.\", DeprecationWarning)\n"
     ]
    }
   ],
   "source": [
    "import xgboost as xgb\n",
    "from xgboost.sklearn import XGBClassifier"
   ]
  },
  {
   "cell_type": "code",
   "execution_count": 11,
   "metadata": {
    "collapsed": true
   },
   "outputs": [],
   "source": [
    "xgb1 = XGBClassifier(learning_rate =0.1,\n",
    "                     n_estimators=1000,\n",
    "                     max_depth=5,\n",
    "                     min_child_weight=1,\n",
    "                     gamma=0,\n",
    "                     subsample=0.8,\n",
    "                     colsample_bytree=0.8,\n",
    "                     objective= 'binary:logistic',\n",
    "                     nthread=4,\n",
    "                     scale_pos_weight=1,\n",
    "                     seed=27)"
   ]
  },
  {
   "cell_type": "code",
   "execution_count": 22,
   "metadata": {},
   "outputs": [
    {
     "name": "stdout",
     "output_type": "stream",
     "text": [
      "Time to fit : -1 day, 23:08:03.220847\n",
      "Train-gini : 0.74955583372\n",
      "Test-gini : 0.238792372355\n",
      "Difference-gini : 0.510763461365\n",
      "Model file : pkl/RandomForest/2018-01-09 18:16:33.299830.pkl\n"
     ]
    }
   ],
   "source": [
    "rnd_gini(xgb1) # une heure"
   ]
  },
  {
   "cell_type": "code",
   "execution_count": 23,
   "metadata": {
    "collapsed": true
   },
   "outputs": [],
   "source": [
    "sub = xgb1.predict_proba(X_test)[:,1]\n",
    "make_submission('X1',sub) # gini 0.22"
   ]
  },
  {
   "cell_type": "code",
   "execution_count": 24,
   "metadata": {
    "collapsed": true
   },
   "outputs": [],
   "source": [
    "xgb1 = XGBClassifier(learning_rate =0.1,\n",
    "                     n_estimators=100,\n",
    "                     max_depth=5,\n",
    "                     min_child_weight=1,\n",
    "                     gamma=0,\n",
    "                     subsample=0.8,\n",
    "                     colsample_bytree=0.8,\n",
    "                     objective= 'binary:logistic',\n",
    "                     nthread=4,\n",
    "                     scale_pos_weight=1,\n",
    "                     seed=27)"
   ]
  },
  {
   "cell_type": "code",
   "execution_count": 25,
   "metadata": {},
   "outputs": [
    {
     "name": "stdout",
     "output_type": "stream",
     "text": [
      "Time to fit : -1 day, 23:54:35.877236\n",
      "Train-gini : 0.366180688013\n",
      "Test-gini : 0.283100610116\n",
      "Difference-gini : 0.0830800778971\n",
      "Model file : pkl/RandomForest/2018-01-09 18:37:06.101585.pkl\n"
     ]
    }
   ],
   "source": [
    "rnd_gini(xgb1)"
   ]
  },
  {
   "cell_type": "code",
   "execution_count": 26,
   "metadata": {
    "collapsed": true
   },
   "outputs": [],
   "source": [
    "sub = xgb1.predict_proba(X_test)[:,1]\n",
    "make_submission('X2',sub) # gini 0.276"
   ]
  },
  {
   "cell_type": "code",
   "execution_count": 28,
   "metadata": {},
   "outputs": [
    {
     "name": "stdout",
     "output_type": "stream",
     "text": [
      "Time to fit : -1 day, 23:56:37.401772\n",
      "Train-gini : 0.294438169987\n",
      "Test-gini : 0.28303204244\n",
      "Difference-gini : 0.0114061275476\n",
      "Model file : pkl/RandomForest/2018-01-09 21:39:16.912158.pkl\n"
     ]
    }
   ],
   "source": [
    "xgb1 = XGBClassifier(learning_rate =0.1,\n",
    "                     n_estimators=100,\n",
    "                     max_depth=3,\n",
    "                     min_child_weight=1,\n",
    "                     gamma=0,\n",
    "                     subsample=0.8,\n",
    "                     colsample_bytree=0.8,\n",
    "                     objective= 'binary:logistic',\n",
    "                     nthread=4,\n",
    "                     scale_pos_weight=1,\n",
    "                     seed=27)\n",
    "rnd_gini(xgb1)"
   ]
  },
  {
   "cell_type": "code",
   "execution_count": 29,
   "metadata": {
    "collapsed": true
   },
   "outputs": [],
   "source": [
    "sub = xgb1.predict_proba(X_test)[:,1]\n",
    "make_submission('X3',sub) # gini 0.276"
   ]
  },
  {
   "cell_type": "markdown",
   "metadata": {},
   "source": [
    "eta : The range is 0 to 1. Low eta value means model is more robust to overfitting.\n",
    "\n",
    "gamma : The default value is set to 0. You need to specify minimum loss reduction required to make a further partition on a leaf node of the tree. The larger, the more conservative the algorithm will be. The range is 0 to ∞. Larger the gamma more conservative the algorithm is.\n",
    "\n",
    "subsample : The default value is set to 1. You need to specify the subsample ratio of the training instance. Setting it to 0.5 means that XGBoost randomly collected half of the data instances to grow trees and this will prevent overfitting. The range is 0 to 1.\n",
    "\n",
    "colsample_bytree : The default value is set to 1. You need to specify the subsample ratio of columns when constructing each tree. The range is 0 to 1."
   ]
  },
  {
   "cell_type": "code",
   "execution_count": 11,
   "metadata": {},
   "outputs": [
    {
     "name": "stdout",
     "output_type": "stream",
     "text": [
      "Time to fit : -1 day, 23:49:21.099864\n",
      "Train-gini : 0.335892718081\n",
      "Test-gini : 0.286187496908\n",
      "Difference-gini : 0.0497052211732\n",
      "Model file : pkl/RandomForest/2018-01-10 14:29:39.278114.pkl\n"
     ]
    }
   ],
   "source": [
    "xgb1 = XGBClassifier(learning_rate =0.1,\n",
    "                     n_estimators=250,\n",
    "                     max_depth=3,\n",
    "                     # min_child_weight=1,\n",
    "                     gamma=0,\n",
    "                     subsample=0.8,\n",
    "                     # colsample_bytree=0.8,\n",
    "                     objective= 'binary:logistic',\n",
    "                     nthread=4,\n",
    "                     scale_pos_weight=1,\n",
    "                     seed=27)\n",
    "rnd_gini(xgb1)"
   ]
  },
  {
   "cell_type": "code",
   "execution_count": 12,
   "metadata": {
    "collapsed": true
   },
   "outputs": [],
   "source": [
    "sub = xgb1.predict_proba(X_test)[:,1]\n",
    "make_submission('X4',sub) # gini 0.27994"
   ]
  },
  {
   "cell_type": "code",
   "execution_count": 13,
   "metadata": {},
   "outputs": [
    {
     "name": "stdout",
     "output_type": "stream",
     "text": [
      "Time to fit : -1 day, 23:50:59.103499\n",
      "Train-gini : 0.333627153402\n",
      "Test-gini : 0.283350423365\n",
      "Difference-gini : 0.050276730037\n",
      "Model file : pkl/RandomForest/2018-01-10 14:47:15.788369.pkl\n"
     ]
    }
   ],
   "source": [
    "xgb1 = XGBClassifier(learning_rate =0.1,\n",
    "                     n_estimators=250,\n",
    "                     max_depth=3,\n",
    "                     # min_child_weight=1,\n",
    "                     gamma=0,\n",
    "                     subsample=0.6,\n",
    "                     colsample_bytree=0.8,\n",
    "                     objective= 'binary:logistic',\n",
    "                     nthread=4,\n",
    "                     scale_pos_weight=1,\n",
    "                     seed=27)\n",
    "rnd_gini(xgb1)"
   ]
  },
  {
   "cell_type": "code",
   "execution_count": 15,
   "metadata": {},
   "outputs": [
    {
     "name": "stdout",
     "output_type": "stream",
     "text": [
      "Time to fit : -1 day, 23:55:00.317006\n",
      "Train-gini : 0.290945829133\n",
      "Test-gini : 0.282763014023\n",
      "Difference-gini : 0.00818281511002\n",
      "Model file : pkl/RandomForest/2018-01-10 14:53:08.012830.pkl\n"
     ]
    }
   ],
   "source": [
    "xgb1 = XGBClassifier(learning_rate =0.1,\n",
    "                     n_estimators=200,\n",
    "                     max_depth=2,\n",
    "                     # min_child_weight=1,\n",
    "                     gamma=0,\n",
    "                     subsample=0.6,\n",
    "                     colsample_bytree=0.8,\n",
    "                     objective= 'binary:logistic',\n",
    "                     nthread=4,\n",
    "                     scale_pos_weight=1,\n",
    "                     seed=27)\n",
    "rnd_gini(xgb1)"
   ]
  },
  {
   "cell_type": "code",
   "execution_count": 16,
   "metadata": {
    "collapsed": true
   },
   "outputs": [],
   "source": [
    "sub = xgb1.predict_proba(X_test)[:,1]\n",
    "make_submission('X5',sub) # gini 0.27061"
   ]
  },
  {
   "cell_type": "code",
   "execution_count": 17,
   "metadata": {},
   "outputs": [
    {
     "name": "stdout",
     "output_type": "stream",
     "text": [
      "Time to fit : -1 day, 23:51:28.319714\n",
      "Train-gini : 0.366036985667\n",
      "Test-gini : 0.282306951191\n",
      "Difference-gini : 0.083730034476\n",
      "Model file : pkl/RandomForest/2018-01-10 15:08:47.471931.pkl\n"
     ]
    }
   ],
   "source": [
    "xgb1 = XGBClassifier(learning_rate =0.1,\n",
    "                     n_estimators=200,\n",
    "                     max_depth=4,\n",
    "                     # min_child_weight=1,\n",
    "                     gamma=0,\n",
    "                     subsample=0.5,\n",
    "                     colsample_bytree=0.7,\n",
    "                     objective= 'binary:logistic',\n",
    "                     nthread=4,\n",
    "                     scale_pos_weight=1,\n",
    "                     seed=27)\n",
    "rnd_gini(xgb1)"
   ]
  },
  {
   "cell_type": "code",
   "execution_count": 24,
   "metadata": {},
   "outputs": [
    {
     "name": "stdout",
     "output_type": "stream",
     "text": [
      "Time to fit : -1 day, 23:51:23.588497\n",
      "Train-gini : 0.324838222356\n",
      "Test-gini : 0.286266416983\n",
      "Difference-gini : 0.0385718053724\n",
      "Model file : pkl/RandomForest/2018-01-10 15:21:04.819062.pkl\n"
     ]
    }
   ],
   "source": [
    "xgb1 = XGBClassifier(learning_rate =0.05,\n",
    "                     n_estimators=200,\n",
    "                     max_depth=4,\n",
    "                     # min_child_weight=1,\n",
    "                     gamma=0,\n",
    "                     subsample=0.8,\n",
    "                     colsample_bytree=0.8,\n",
    "                     objective= 'binary:logistic',\n",
    "                     #eval_metric ='auc',\n",
    "                     nthread=4,\n",
    "                     scale_pos_weight=1,\n",
    "                     #n_jobs = -1,\n",
    "                     seed=27)\n",
    "rnd_gini(xgb1)"
   ]
  },
  {
   "cell_type": "code",
   "execution_count": 25,
   "metadata": {},
   "outputs": [
    {
     "name": "stdout",
     "output_type": "stream",
     "text": [
      "Time to fit : -1 day, 23:50:55.546325\n",
      "Train-gini : 0.324838222356\n",
      "Test-gini : 0.286266416983\n",
      "Difference-gini : 0.0385718053724\n",
      "Model file : pkl/RandomForest/2018-01-10 16:03:13.047066.pkl\n"
     ]
    }
   ],
   "source": [
    "xgb1 = XGBClassifier(learning_rate =0.05,\n",
    "                     n_estimators=200,\n",
    "                     max_depth=4,\n",
    "                     # min_child_weight=1,\n",
    "                     gamma=0,\n",
    "                     subsample=0.8,\n",
    "                     colsample_bytree=0.8,\n",
    "                     objective= 'binary:logistic',\n",
    "                     nthread=4,\n",
    "                     scale_pos_weight=1,\n",
    "                     #n_jobs = -1,\n",
    "                     seed=27)\n",
    "rnd_gini(xgb1)"
   ]
  },
  {
   "cell_type": "markdown",
   "metadata": {},
   "source": [
    "A partir d'ici la fonction rnd_clf est changée, clf.fit a été changé en rajoutant eval_metric = 'auc'"
   ]
  },
  {
   "cell_type": "code",
   "execution_count": 27,
   "metadata": {},
   "outputs": [
    {
     "name": "stdout",
     "output_type": "stream",
     "text": [
      "Time to fit : -1 day, 23:51:13.532016\n",
      "Train-gini : 0.324838222356\n",
      "Test-gini : 0.286266416983\n",
      "Difference-gini : 0.0385718053724\n",
      "Model file : pkl/RandomForest/2018-01-10 16:13:30.972190.pkl\n"
     ]
    }
   ],
   "source": [
    "xgb1 = XGBClassifier(learning_rate =0.05,\n",
    "                     n_estimators=200,\n",
    "                     max_depth=4,\n",
    "                     # min_child_weight=1,\n",
    "                     gamma=0,\n",
    "                     subsample=0.8,\n",
    "                     colsample_bytree=0.8,\n",
    "                     objective= 'binary:logistic',\n",
    "                     nthread=4,\n",
    "                     scale_pos_weight=1,\n",
    "                     #n_jobs = -1,\n",
    "                     seed=27)\n",
    "rnd_gini(xgb1)"
   ]
  },
  {
   "cell_type": "markdown",
   "metadata": {
    "collapsed": true
   },
   "source": [
    "# Tunning"
   ]
  },
  {
   "cell_type": "code",
   "execution_count": 29,
   "metadata": {
    "collapsed": true
   },
   "outputs": [],
   "source": [
    "def gini(pred, y):\n",
    "    g = np.asarray(np.c_[y, pred, np.arange(len(y)) ], dtype=np.float)\n",
    "    g = g[np.lexsort((g[:,2], -1*g[:,1]))]\n",
    "    gs = g[:,0].cumsum().sum() / g[:,0].sum()\n",
    "    gs -= (len(y) + 1) / 2.\n",
    "    return gs / len(y)\n",
    "\n",
    "def normalized_gini(pred, y):\n",
    "    return gini(pred, y) / gini(y, y)\n",
    "\n",
    "# custom normalized gini score for xgb model\n",
    "def gini_xgb(pred, y):\n",
    "    y = y.get_label()\n",
    "    return 'gini_f', normalized_gini(pred, y)"
   ]
  },
  {
   "cell_type": "code",
   "execution_count": 4,
   "metadata": {
    "collapsed": true
   },
   "outputs": [],
   "source": [
    "data_train = pd.read_csv('data/train.csv',index_col='id',na_values=-1)\n",
    "data_test = pd.read_csv('data/test.csv',index_col='id',na_values=-1)"
   ]
  },
  {
   "cell_type": "code",
   "execution_count": 21,
   "metadata": {
    "collapsed": true
   },
   "outputs": [],
   "source": [
    "cat_feat = data_test.filter(like='cat', axis=1).columns.values.tolist()\n",
    "bin_feat = data_test.filter(like='bin', axis=1).columns.values.tolist()\n",
    "num_feat = list(set(list(data_test)) - set(cat_feat)- set(bin_feat))\n",
    "\n",
    "predictors = cat_feat + bin_feat + num_feat"
   ]
  },
  {
   "cell_type": "code",
   "execution_count": 14,
   "metadata": {
    "collapsed": true
   },
   "outputs": [],
   "source": [
    "alg = XGBClassifier(\n",
    "    learning_rate =0.1,\n",
    "    n_estimators=50,\n",
    "    max_depth=5,\n",
    "    min_child_weight=1,\n",
    "    gamma=0,\n",
    "    subsample=0.8,\n",
    "    colsample_bytree=0.8,\n",
    "    objective= 'binary:logistic',\n",
    "    nthread=4,\n",
    "    scale_pos_weight=1,\n",
    "    seed=27)"
   ]
  },
  {
   "cell_type": "code",
   "execution_count": 18,
   "metadata": {},
   "outputs": [
    {
     "name": "stdout",
     "output_type": "stream",
     "text": [
      "[0]\ttrain-auc:1+0\ttest-auc:1+0\n",
      "[10]\ttrain-auc:1+0\ttest-auc:1+0\n",
      "[20]\ttrain-auc:1+0\ttest-auc:1+0\n",
      "[30]\ttrain-auc:1+0\ttest-auc:1+0\n",
      "[40]\ttrain-auc:1+0\ttest-auc:1+0\n"
     ]
    }
   ],
   "source": [
    "dtrain = data_train\n",
    "cv_folds = 5\n",
    "early_stopping_rounds=50\n",
    "target = 'target'\n",
    "\n",
    "xgb_param = alg.get_xgb_params()\n",
    "xgtrain = xgb.DMatrix(dtrain[predictors].values, label=dtrain[target].values)\n",
    "cvresult = xgb.cv(xgb_param,\n",
    "                  xgtrain,\n",
    "                  num_boost_round = alg.get_params()['n_estimators'],\n",
    "                  nfold = cv_folds,\n",
    "                  metrics='auc',\n",
    "                  maximize = True,\n",
    "                  early_stopping_rounds = early_stopping_rounds,\n",
    "                  verbose_eval = 10,\n",
    "                  #show_progress=False\n",
    "                 )"
   ]
  },
  {
   "cell_type": "code",
   "execution_count": null,
   "metadata": {
    "collapsed": true
   },
   "outputs": [],
   "source": []
  }
 ],
 "metadata": {
  "kernelspec": {
   "display_name": "Python 3",
   "language": "python",
   "name": "python3"
  },
  "language_info": {
   "codemirror_mode": {
    "name": "ipython",
    "version": 3
   },
   "file_extension": ".py",
   "mimetype": "text/x-python",
   "name": "python",
   "nbconvert_exporter": "python",
   "pygments_lexer": "ipython3",
   "version": "3.6.3"
  }
 },
 "nbformat": 4,
 "nbformat_minor": 2
}
