{
 "cells": [
  {
   "cell_type": "code",
   "execution_count": 1,
   "metadata": {},
   "outputs": [
    {
     "name": "stderr",
     "output_type": "stream",
     "text": [
      "/Users/rafik/anaconda/lib/python3.6/site-packages/sklearn/cross_validation.py:41: DeprecationWarning: This module was deprecated in version 0.18 in favor of the model_selection module into which all the refactored classes and functions are moved. Also note that the interface of the new CV iterators are different from that of this module. This module will be removed in 0.20.\n",
      "  \"This module will be removed in 0.20.\", DeprecationWarning)\n"
     ]
    }
   ],
   "source": [
    "import numpy as np\n",
    "import pandas as pd\n",
    "import xgboost as xgb\n",
    "from sklearn.model_selection import KFold, GridSearchCV"
   ]
  },
  {
   "cell_type": "code",
   "execution_count": 2,
   "metadata": {
    "collapsed": true
   },
   "outputs": [],
   "source": [
    "def gini(pred, y):\n",
    "    g = np.asarray(np.c_[y, pred, np.arange(len(y)) ], dtype=np.float)\n",
    "    g = g[np.lexsort((g[:,2], -1*g[:,1]))]\n",
    "    gs = g[:,0].cumsum().sum() / g[:,0].sum()\n",
    "    gs -= (len(y) + 1) / 2.\n",
    "    return gs / len(y)\n",
    "\n",
    "def normalized_gini(pred, y):\n",
    "    return gini(pred, y) / gini(y, y)\n",
    "\n",
    "# custom normalized gini score for xgb model\n",
    "def gini_xgb(pred, y):\n",
    "    y = y.get_label()\n",
    "    return 'gini', normalized_gini(pred, y)"
   ]
  },
  {
   "cell_type": "code",
   "execution_count": 3,
   "metadata": {
    "collapsed": true
   },
   "outputs": [],
   "source": [
    "train = pd.read_csv('./Data/train.csv')\n",
    "test = pd.read_csv('./Data/test.csv')"
   ]
  },
  {
   "cell_type": "code",
   "execution_count": 4,
   "metadata": {
    "collapsed": true
   },
   "outputs": [],
   "source": [
    "categorical_features = train.filter(like='cat', axis=1).columns.values.tolist()\n",
    "categorical_features.remove('ps_car_11_cat') # cette variable catégorie possède beaucoup de catégories, il faut la traiter à part"
   ]
  },
  {
   "cell_type": "code",
   "execution_count": 5,
   "metadata": {
    "collapsed": true
   },
   "outputs": [],
   "source": [
    "porto_train = pd.get_dummies(train, columns=categorical_features)\n",
    "porto_test = pd.get_dummies(test, columns=categorical_features)"
   ]
  },
  {
   "cell_type": "code",
   "execution_count": 6,
   "metadata": {
    "collapsed": true
   },
   "outputs": [],
   "source": [
    "# Convert train & test to numpy arrays\n",
    "X = porto_train.drop('target', axis=1).values\n",
    "y = porto_train['target'].values\n",
    "test = porto_test.values\n",
    "\n",
    "# Create submission dataframe\n",
    "submission = porto_test['id'].to_frame()\n",
    "submission['target'] = 0"
   ]
  },
  {
   "cell_type": "code",
   "execution_count": 7,
   "metadata": {},
   "outputs": [
    {
     "name": "stdout",
     "output_type": "stream",
     "text": [
      " xgb kfold: 1 of 5 : \n",
      "[0]\ttrain-gini:0.219501\teval-gini:0.19356\n",
      "Multiple eval metrics have been passed: 'eval-gini' will be used for early stopping.\n",
      "\n",
      "Will train until eval-gini hasn't improved in 100 rounds.\n",
      "[50]\ttrain-gini:0.292937\teval-gini:0.245516\n",
      "[100]\ttrain-gini:0.340085\teval-gini:0.26271\n",
      "[150]\ttrain-gini:0.372633\teval-gini:0.263936\n",
      "[200]\ttrain-gini:0.399579\teval-gini:0.263366\n",
      "[250]\ttrain-gini:0.423076\teval-gini:0.263659\n",
      "Stopping. Best iteration:\n",
      "[157]\ttrain-gini:0.376417\teval-gini:0.264479\n",
      "\n",
      " xgb kfold: 2 of 5 : \n",
      "[0]\ttrain-gini:0.22065\teval-gini:0.211444\n",
      "Multiple eval metrics have been passed: 'eval-gini' will be used for early stopping.\n",
      "\n",
      "Will train until eval-gini hasn't improved in 100 rounds.\n",
      "[50]\ttrain-gini:0.290834\teval-gini:0.261783\n",
      "[100]\ttrain-gini:0.335917\teval-gini:0.277149\n",
      "[150]\ttrain-gini:0.367988\teval-gini:0.27897\n",
      "[200]\ttrain-gini:0.395879\teval-gini:0.277472\n",
      "Stopping. Best iteration:\n",
      "[122]\ttrain-gini:0.35151\teval-gini:0.279694\n",
      "\n",
      " xgb kfold: 3 of 5 : \n",
      "[0]\ttrain-gini:0.216243\teval-gini:0.213819\n",
      "Multiple eval metrics have been passed: 'eval-gini' will be used for early stopping.\n",
      "\n",
      "Will train until eval-gini hasn't improved in 100 rounds.\n",
      "[50]\ttrain-gini:0.287855\teval-gini:0.265094\n",
      "[100]\ttrain-gini:0.335108\teval-gini:0.283083\n",
      "[150]\ttrain-gini:0.365139\teval-gini:0.284543\n",
      "[200]\ttrain-gini:0.393072\teval-gini:0.286121\n",
      "[250]\ttrain-gini:0.417612\teval-gini:0.285636\n",
      "[300]\ttrain-gini:0.442192\teval-gini:0.285732\n",
      "[350]\ttrain-gini:0.461943\teval-gini:0.285852\n",
      "Stopping. Best iteration:\n",
      "[272]\ttrain-gini:0.428477\teval-gini:0.286699\n",
      "\n",
      " xgb kfold: 4 of 5 : \n",
      "[0]\ttrain-gini:0.216647\teval-gini:0.208125\n",
      "Multiple eval metrics have been passed: 'eval-gini' will be used for early stopping.\n",
      "\n",
      "Will train until eval-gini hasn't improved in 100 rounds.\n",
      "[50]\ttrain-gini:0.289645\teval-gini:0.267678\n",
      "[100]\ttrain-gini:0.336534\teval-gini:0.282361\n",
      "[150]\ttrain-gini:0.368924\teval-gini:0.286029\n",
      "[200]\ttrain-gini:0.396435\teval-gini:0.285761\n",
      "Stopping. Best iteration:\n",
      "[146]\ttrain-gini:0.366646\teval-gini:0.286514\n",
      "\n",
      " xgb kfold: 5 of 5 : \n",
      "[0]\ttrain-gini:0.215724\teval-gini:0.209886\n",
      "Multiple eval metrics have been passed: 'eval-gini' will be used for early stopping.\n",
      "\n",
      "Will train until eval-gini hasn't improved in 100 rounds.\n",
      "[50]\ttrain-gini:0.288343\teval-gini:0.264916\n",
      "[100]\ttrain-gini:0.33358\teval-gini:0.282533\n",
      "[150]\ttrain-gini:0.366613\teval-gini:0.286321\n",
      "[200]\ttrain-gini:0.394459\teval-gini:0.286576\n",
      "Stopping. Best iteration:\n",
      "[130]\ttrain-gini:0.353665\teval-gini:0.287193\n",
      "\n"
     ]
    }
   ],
   "source": [
    "kfold = 5\n",
    "nrounds=500\n",
    "params = {\n",
    "    'eta': 0.07,\n",
    "    'max_depth': 5,\n",
    "    'subsample': 0.8,\n",
    "    'colsample_bytree':0.8,\n",
    "    'objective': 'binary:logistic',\n",
    "    'eval_metric': 'auc',\n",
    "    'silent': True,\n",
    "    'n_jobs':-1 # use all CPU cores\n",
    "}\n",
    "\n",
    "kf = KFold(n_splits=kfold, shuffle=True, random_state=322)\n",
    "\n",
    "for i, (train_index, cv_index) in enumerate(kf.split(X)):\n",
    "\n",
    "    print(' xgb kfold: {} of {} : '.format(i+1, kfold))\n",
    "    X_train, X_eval = X[train_index,:], X[cv_index,:]\n",
    "    y_train, y_eval = y[train_index], y[cv_index]\n",
    "\n",
    "    d_train = xgb.DMatrix(X_train, y_train) \n",
    "    d_valid = xgb.DMatrix(X_eval, y_eval)\n",
    "\n",
    "    watchlist = [(d_train, 'train'), (d_valid, 'eval')]\n",
    "    xgb_model = xgb.train(params,\n",
    "                          d_train,\n",
    "                          nrounds,\n",
    "                          watchlist,\n",
    "                          early_stopping_rounds=100,\n",
    "                          feval=gini_xgb,\n",
    "                          maximize=True,\n",
    "                          verbose_eval=50)\n",
    "    # Updating prediction by taking the average\n",
    "    submission['target'] += xgb_model.predict(xgb.DMatrix(test)) / kfold"
   ]
  },
  {
   "cell_type": "code",
   "execution_count": 10,
   "metadata": {
    "collapsed": true
   },
   "outputs": [],
   "source": [
    "submission.to_csv('submission2.csv',index=False)"
   ]
  }
 ],
 "metadata": {
  "kernelspec": {
   "display_name": "Python 3",
   "language": "python",
   "name": "python3"
  },
  "language_info": {
   "codemirror_mode": {
    "name": "ipython",
    "version": 3
   },
   "file_extension": ".py",
   "mimetype": "text/x-python",
   "name": "python",
   "nbconvert_exporter": "python",
   "pygments_lexer": "ipython3",
   "version": "3.6.3"
  }
 },
 "nbformat": 4,
 "nbformat_minor": 2
}
