{
 "cells": [
  {
   "cell_type": "markdown",
   "metadata": {},
   "source": [
    "Remark : Github doesn’t render iframes at the moment. To see plotly graphs you can open this notebook in nbviewer : http://nbviewer.jupyter.org/github/medmammeri/Porto-Seguro/blob/master/Data%20description.ipynb"
   ]
  },
  {
   "cell_type": "markdown",
   "metadata": {},
   "source": [
    "# 1) Load Data"
   ]
  },
  {
   "cell_type": "code",
   "execution_count": 4,
   "metadata": {
    "collapsed": true
   },
   "outputs": [],
   "source": [
    "import numpy as np\n",
    "import pandas as pd"
   ]
  },
  {
   "cell_type": "code",
   "execution_count": 21,
   "metadata": {},
   "outputs": [
    {
     "data": {
      "text/html": [
       "<script>requirejs.config({paths: { 'plotly': ['https://cdn.plot.ly/plotly-latest.min']},});if(!window.Plotly) {{require(['plotly'],function(plotly) {window.Plotly=plotly;});}}</script>"
      ],
      "text/vnd.plotly.v1+html": [
       "<script>requirejs.config({paths: { 'plotly': ['https://cdn.plot.ly/plotly-latest.min']},});if(!window.Plotly) {{require(['plotly'],function(plotly) {window.Plotly=plotly;});}}</script>"
      ]
     },
     "metadata": {},
     "output_type": "display_data"
    }
   ],
   "source": [
    "import plotly.offline as py\n",
    "py.init_notebook_mode(connected=True)\n",
    "import plotly.graph_objs as go\n",
    "import plotly.tools as tls\n",
    "%matplotlib inline"
   ]
  },
  {
   "cell_type": "code",
   "execution_count": 5,
   "metadata": {},
   "outputs": [],
   "source": [
    "train = pd.read_csv('data/train.csv',index_col='id',na_values=-1)"
   ]
  },
  {
   "cell_type": "markdown",
   "metadata": {},
   "source": [
    "### Kaggle Data Description"
   ]
  },
  {
   "cell_type": "markdown",
   "metadata": {},
   "source": [
    "\n",
    "In this competition, you will predict the probability that an auto insurance policy holder files a claim.\n",
    "\n",
    "In the train and test data, features that belong to similar groupings are tagged as such in the feature names (e.g., ind, reg, car, calc). In addition, feature names include the postfix bin to indicate binary features and cat to indicate categorical features. Features without these designations are either continuous or ordinal. Values of -1 indicate that the feature was missing from the observation. The target columns signifies whether or not a claim was filed for that policy holder."
   ]
  },
  {
   "cell_type": "code",
   "execution_count": 6,
   "metadata": {},
   "outputs": [
    {
     "data": {
      "text/html": [
       "<div>\n",
       "<style>\n",
       "    .dataframe thead tr:only-child th {\n",
       "        text-align: right;\n",
       "    }\n",
       "\n",
       "    .dataframe thead th {\n",
       "        text-align: left;\n",
       "    }\n",
       "\n",
       "    .dataframe tbody tr th {\n",
       "        vertical-align: top;\n",
       "    }\n",
       "</style>\n",
       "<table border=\"1\" class=\"dataframe\">\n",
       "  <thead>\n",
       "    <tr style=\"text-align: right;\">\n",
       "      <th></th>\n",
       "      <th>target</th>\n",
       "      <th>ps_ind_01</th>\n",
       "      <th>ps_ind_02_cat</th>\n",
       "      <th>ps_ind_03</th>\n",
       "      <th>ps_ind_04_cat</th>\n",
       "      <th>ps_ind_05_cat</th>\n",
       "      <th>ps_ind_06_bin</th>\n",
       "      <th>ps_ind_07_bin</th>\n",
       "      <th>ps_ind_08_bin</th>\n",
       "      <th>ps_ind_09_bin</th>\n",
       "      <th>...</th>\n",
       "      <th>ps_calc_11</th>\n",
       "      <th>ps_calc_12</th>\n",
       "      <th>ps_calc_13</th>\n",
       "      <th>ps_calc_14</th>\n",
       "      <th>ps_calc_15_bin</th>\n",
       "      <th>ps_calc_16_bin</th>\n",
       "      <th>ps_calc_17_bin</th>\n",
       "      <th>ps_calc_18_bin</th>\n",
       "      <th>ps_calc_19_bin</th>\n",
       "      <th>ps_calc_20_bin</th>\n",
       "    </tr>\n",
       "    <tr>\n",
       "      <th>id</th>\n",
       "      <th></th>\n",
       "      <th></th>\n",
       "      <th></th>\n",
       "      <th></th>\n",
       "      <th></th>\n",
       "      <th></th>\n",
       "      <th></th>\n",
       "      <th></th>\n",
       "      <th></th>\n",
       "      <th></th>\n",
       "      <th></th>\n",
       "      <th></th>\n",
       "      <th></th>\n",
       "      <th></th>\n",
       "      <th></th>\n",
       "      <th></th>\n",
       "      <th></th>\n",
       "      <th></th>\n",
       "      <th></th>\n",
       "      <th></th>\n",
       "      <th></th>\n",
       "    </tr>\n",
       "  </thead>\n",
       "  <tbody>\n",
       "    <tr>\n",
       "      <th>7</th>\n",
       "      <td>0</td>\n",
       "      <td>2</td>\n",
       "      <td>2.0</td>\n",
       "      <td>5</td>\n",
       "      <td>1.0</td>\n",
       "      <td>0.0</td>\n",
       "      <td>0</td>\n",
       "      <td>1</td>\n",
       "      <td>0</td>\n",
       "      <td>0</td>\n",
       "      <td>...</td>\n",
       "      <td>9</td>\n",
       "      <td>1</td>\n",
       "      <td>5</td>\n",
       "      <td>8</td>\n",
       "      <td>0</td>\n",
       "      <td>1</td>\n",
       "      <td>1</td>\n",
       "      <td>0</td>\n",
       "      <td>0</td>\n",
       "      <td>1</td>\n",
       "    </tr>\n",
       "    <tr>\n",
       "      <th>9</th>\n",
       "      <td>0</td>\n",
       "      <td>1</td>\n",
       "      <td>1.0</td>\n",
       "      <td>7</td>\n",
       "      <td>0.0</td>\n",
       "      <td>0.0</td>\n",
       "      <td>0</td>\n",
       "      <td>0</td>\n",
       "      <td>1</td>\n",
       "      <td>0</td>\n",
       "      <td>...</td>\n",
       "      <td>3</td>\n",
       "      <td>1</td>\n",
       "      <td>1</td>\n",
       "      <td>9</td>\n",
       "      <td>0</td>\n",
       "      <td>1</td>\n",
       "      <td>1</td>\n",
       "      <td>0</td>\n",
       "      <td>1</td>\n",
       "      <td>0</td>\n",
       "    </tr>\n",
       "    <tr>\n",
       "      <th>13</th>\n",
       "      <td>0</td>\n",
       "      <td>5</td>\n",
       "      <td>4.0</td>\n",
       "      <td>9</td>\n",
       "      <td>1.0</td>\n",
       "      <td>0.0</td>\n",
       "      <td>0</td>\n",
       "      <td>0</td>\n",
       "      <td>1</td>\n",
       "      <td>0</td>\n",
       "      <td>...</td>\n",
       "      <td>4</td>\n",
       "      <td>2</td>\n",
       "      <td>7</td>\n",
       "      <td>7</td>\n",
       "      <td>0</td>\n",
       "      <td>1</td>\n",
       "      <td>1</td>\n",
       "      <td>0</td>\n",
       "      <td>1</td>\n",
       "      <td>0</td>\n",
       "    </tr>\n",
       "    <tr>\n",
       "      <th>16</th>\n",
       "      <td>0</td>\n",
       "      <td>0</td>\n",
       "      <td>1.0</td>\n",
       "      <td>2</td>\n",
       "      <td>0.0</td>\n",
       "      <td>0.0</td>\n",
       "      <td>1</td>\n",
       "      <td>0</td>\n",
       "      <td>0</td>\n",
       "      <td>0</td>\n",
       "      <td>...</td>\n",
       "      <td>2</td>\n",
       "      <td>2</td>\n",
       "      <td>4</td>\n",
       "      <td>9</td>\n",
       "      <td>0</td>\n",
       "      <td>0</td>\n",
       "      <td>0</td>\n",
       "      <td>0</td>\n",
       "      <td>0</td>\n",
       "      <td>0</td>\n",
       "    </tr>\n",
       "    <tr>\n",
       "      <th>17</th>\n",
       "      <td>0</td>\n",
       "      <td>0</td>\n",
       "      <td>2.0</td>\n",
       "      <td>0</td>\n",
       "      <td>1.0</td>\n",
       "      <td>0.0</td>\n",
       "      <td>1</td>\n",
       "      <td>0</td>\n",
       "      <td>0</td>\n",
       "      <td>0</td>\n",
       "      <td>...</td>\n",
       "      <td>3</td>\n",
       "      <td>1</td>\n",
       "      <td>1</td>\n",
       "      <td>3</td>\n",
       "      <td>0</td>\n",
       "      <td>0</td>\n",
       "      <td>0</td>\n",
       "      <td>1</td>\n",
       "      <td>1</td>\n",
       "      <td>0</td>\n",
       "    </tr>\n",
       "  </tbody>\n",
       "</table>\n",
       "<p>5 rows × 58 columns</p>\n",
       "</div>"
      ],
      "text/plain": [
       "    target  ps_ind_01  ps_ind_02_cat  ps_ind_03  ps_ind_04_cat  ps_ind_05_cat  \\\n",
       "id                                                                              \n",
       "7        0          2            2.0          5            1.0            0.0   \n",
       "9        0          1            1.0          7            0.0            0.0   \n",
       "13       0          5            4.0          9            1.0            0.0   \n",
       "16       0          0            1.0          2            0.0            0.0   \n",
       "17       0          0            2.0          0            1.0            0.0   \n",
       "\n",
       "    ps_ind_06_bin  ps_ind_07_bin  ps_ind_08_bin  ps_ind_09_bin  \\\n",
       "id                                                               \n",
       "7               0              1              0              0   \n",
       "9               0              0              1              0   \n",
       "13              0              0              1              0   \n",
       "16              1              0              0              0   \n",
       "17              1              0              0              0   \n",
       "\n",
       "         ...        ps_calc_11  ps_calc_12  ps_calc_13  ps_calc_14  \\\n",
       "id       ...                                                         \n",
       "7        ...                 9           1           5           8   \n",
       "9        ...                 3           1           1           9   \n",
       "13       ...                 4           2           7           7   \n",
       "16       ...                 2           2           4           9   \n",
       "17       ...                 3           1           1           3   \n",
       "\n",
       "    ps_calc_15_bin  ps_calc_16_bin  ps_calc_17_bin  ps_calc_18_bin  \\\n",
       "id                                                                   \n",
       "7                0               1               1               0   \n",
       "9                0               1               1               0   \n",
       "13               0               1               1               0   \n",
       "16               0               0               0               0   \n",
       "17               0               0               0               1   \n",
       "\n",
       "    ps_calc_19_bin  ps_calc_20_bin  \n",
       "id                                  \n",
       "7                0               1  \n",
       "9                1               0  \n",
       "13               1               0  \n",
       "16               0               0  \n",
       "17               1               0  \n",
       "\n",
       "[5 rows x 58 columns]"
      ]
     },
     "execution_count": 6,
     "metadata": {},
     "output_type": "execute_result"
    }
   ],
   "source": [
    "train.head()"
   ]
  },
  {
   "cell_type": "code",
   "execution_count": 7,
   "metadata": {},
   "outputs": [
    {
     "name": "stdout",
     "output_type": "stream",
     "text": [
      "<class 'pandas.core.frame.DataFrame'>\n",
      "Int64Index: 595212 entries, 7 to 1488027\n",
      "Data columns (total 58 columns):\n",
      "target            595212 non-null int64\n",
      "ps_ind_01         595212 non-null int64\n",
      "ps_ind_02_cat     594996 non-null float64\n",
      "ps_ind_03         595212 non-null int64\n",
      "ps_ind_04_cat     595129 non-null float64\n",
      "ps_ind_05_cat     589403 non-null float64\n",
      "ps_ind_06_bin     595212 non-null int64\n",
      "ps_ind_07_bin     595212 non-null int64\n",
      "ps_ind_08_bin     595212 non-null int64\n",
      "ps_ind_09_bin     595212 non-null int64\n",
      "ps_ind_10_bin     595212 non-null int64\n",
      "ps_ind_11_bin     595212 non-null int64\n",
      "ps_ind_12_bin     595212 non-null int64\n",
      "ps_ind_13_bin     595212 non-null int64\n",
      "ps_ind_14         595212 non-null int64\n",
      "ps_ind_15         595212 non-null int64\n",
      "ps_ind_16_bin     595212 non-null int64\n",
      "ps_ind_17_bin     595212 non-null int64\n",
      "ps_ind_18_bin     595212 non-null int64\n",
      "ps_reg_01         595212 non-null float64\n",
      "ps_reg_02         595212 non-null float64\n",
      "ps_reg_03         487440 non-null float64\n",
      "ps_car_01_cat     595105 non-null float64\n",
      "ps_car_02_cat     595207 non-null float64\n",
      "ps_car_03_cat     183981 non-null float64\n",
      "ps_car_04_cat     595212 non-null int64\n",
      "ps_car_05_cat     328661 non-null float64\n",
      "ps_car_06_cat     595212 non-null int64\n",
      "ps_car_07_cat     583723 non-null float64\n",
      "ps_car_08_cat     595212 non-null int64\n",
      "ps_car_09_cat     594643 non-null float64\n",
      "ps_car_10_cat     595212 non-null int64\n",
      "ps_car_11_cat     595212 non-null int64\n",
      "ps_car_11         595207 non-null float64\n",
      "ps_car_12         595211 non-null float64\n",
      "ps_car_13         595212 non-null float64\n",
      "ps_car_14         552592 non-null float64\n",
      "ps_car_15         595212 non-null float64\n",
      "ps_calc_01        595212 non-null float64\n",
      "ps_calc_02        595212 non-null float64\n",
      "ps_calc_03        595212 non-null float64\n",
      "ps_calc_04        595212 non-null int64\n",
      "ps_calc_05        595212 non-null int64\n",
      "ps_calc_06        595212 non-null int64\n",
      "ps_calc_07        595212 non-null int64\n",
      "ps_calc_08        595212 non-null int64\n",
      "ps_calc_09        595212 non-null int64\n",
      "ps_calc_10        595212 non-null int64\n",
      "ps_calc_11        595212 non-null int64\n",
      "ps_calc_12        595212 non-null int64\n",
      "ps_calc_13        595212 non-null int64\n",
      "ps_calc_14        595212 non-null int64\n",
      "ps_calc_15_bin    595212 non-null int64\n",
      "ps_calc_16_bin    595212 non-null int64\n",
      "ps_calc_17_bin    595212 non-null int64\n",
      "ps_calc_18_bin    595212 non-null int64\n",
      "ps_calc_19_bin    595212 non-null int64\n",
      "ps_calc_20_bin    595212 non-null int64\n",
      "dtypes: float64(20), int64(38)\n",
      "memory usage: 267.9 MB\n"
     ]
    }
   ],
   "source": [
    "train.info()"
   ]
  },
  {
   "cell_type": "code",
   "execution_count": 10,
   "metadata": {
    "collapsed": true
   },
   "outputs": [],
   "source": [
    "cat_f = ['ps_ind_02_cat', 'ps_ind_04_cat', 'ps_ind_05_cat', 'ps_car_01_cat', 'ps_car_02_cat', 'ps_car_03_cat', 'ps_car_04_cat', 'ps_car_05_cat', 'ps_car_06_cat', 'ps_car_07_cat', 'ps_car_08_cat', 'ps_car_09_cat', 'ps_car_10_cat', 'ps_car_11_cat']\n",
    "bin_f = ['ps_ind_06_bin', 'ps_ind_07_bin', 'ps_ind_08_bin', 'ps_ind_09_bin', 'ps_ind_10_bin', 'ps_ind_11_bin', 'ps_ind_12_bin', 'ps_ind_13_bin', 'ps_ind_16_bin', 'ps_ind_17_bin', 'ps_ind_18_bin', 'ps_calc_15_bin', 'ps_calc_16_bin', 'ps_calc_17_bin', 'ps_calc_18_bin', 'ps_calc_19_bin', 'ps_calc_20_bin']\n",
    "num_f = ['ps_car_12', 'ps_calc_12', 'ps_calc_09', 'ps_calc_03', 'ps_calc_11', 'ps_calc_13', 'ps_reg_01', 'ps_calc_06', 'ps_calc_04', 'ps_car_14', 'ps_calc_08', 'ps_car_13', 'ps_calc_01', 'ps_reg_02', 'ps_calc_10', 'ps_calc_05', 'ps_reg_03', 'ps_ind_01', 'ps_calc_02', 'ps_car_15', 'ps_car_11', 'ps_calc_14', 'ps_ind_03', 'ps_ind_14', 'ps_ind_15', 'ps_calc_07']"
   ]
  },
  {
   "cell_type": "markdown",
   "metadata": {},
   "source": [
    "# Data visulation"
   ]
  },
  {
   "cell_type": "markdown",
   "metadata": {},
   "source": [
    "Number of different categories for each categorical variable"
   ]
  },
  {
   "cell_type": "code",
   "execution_count": 17,
   "metadata": {},
   "outputs": [
    {
     "name": "stdout",
     "output_type": "stream",
     "text": [
      "ps_ind_02_cat: 4 values\n",
      "ps_ind_04_cat: 2 values\n",
      "ps_ind_05_cat: 7 values\n",
      "ps_car_01_cat: 12 values\n",
      "ps_car_02_cat: 2 values\n",
      "ps_car_03_cat: 2 values\n",
      "ps_car_04_cat: 10 values\n",
      "ps_car_05_cat: 2 values\n",
      "ps_car_06_cat: 18 values\n",
      "ps_car_07_cat: 2 values\n",
      "ps_car_08_cat: 2 values\n",
      "ps_car_09_cat: 5 values\n",
      "ps_car_10_cat: 3 values\n",
      "ps_car_11_cat: 104 values\n"
     ]
    }
   ],
   "source": [
    "for c in cat_f :\n",
    "    print(c +':',train[c].nunique(),'values')"
   ]
  },
  {
   "cell_type": "code",
   "execution_count": 19,
   "metadata": {},
   "outputs": [
    {
     "data": {
      "text/plain": [
       "104    85083\n",
       "103    24262\n",
       "64     22278\n",
       "87     17106\n",
       "32     12578\n",
       "28     12538\n",
       "5      12513\n",
       "99     12042\n",
       "65     10905\n",
       "82     10470\n",
       "Name: ps_car_11_cat, dtype: int64"
      ]
     },
     "execution_count": 19,
     "metadata": {},
     "output_type": "execute_result"
    }
   ],
   "source": [
    "train['ps_car_11_cat'].value_counts()[:10]"
   ]
  },
  {
   "cell_type": "code",
   "execution_count": 29,
   "metadata": {},
   "outputs": [
    {
     "data": {
      "application/vnd.plotly.v1+json": {
       "data": [
        {
         "marker": {
          "color": [
           431859,
           123573,
           28186,
           11378
          ],
          "colorscale": "Portland",
          "reversescale": false,
          "showscale": true
         },
         "text": [
          "72.56%",
          "20.76%",
          "4.74%",
          "1.91%"
         ],
         "type": "bar",
         "x": [
          "1.0",
          "2.0",
          "3.0",
          "4.0"
         ],
         "y": [
          431859,
          123573,
          28186,
          11378
         ]
        }
       ],
       "layout": {
        "title": "Number of Items by Category",
        "xaxis": {
         "title": "Variable : ps_ind_02_cat"
        },
        "yaxis": {
         "title": "Count"
        }
       }
      },
      "text/html": [
       "<div id=\"f3be181c-3fbf-4b8b-a4bb-7dc4a4dac1e4\" style=\"height: 525px; width: 100%;\" class=\"plotly-graph-div\"></div><script type=\"text/javascript\">require([\"plotly\"], function(Plotly) { window.PLOTLYENV=window.PLOTLYENV || {};window.PLOTLYENV.BASE_URL=\"https://plot.ly\";Plotly.newPlot(\"f3be181c-3fbf-4b8b-a4bb-7dc4a4dac1e4\", [{\"type\": \"bar\", \"x\": [\"1.0\", \"2.0\", \"3.0\", \"4.0\"], \"y\": [431859, 123573, 28186, 11378], \"text\": [\"72.56%\", \"20.76%\", \"4.74%\", \"1.91%\"], \"marker\": {\"color\": [431859, 123573, 28186, 11378], \"colorscale\": \"Portland\", \"showscale\": true, \"reversescale\": false}}], {\"title\": \"Number of Items by Category\", \"yaxis\": {\"title\": \"Count\"}, \"xaxis\": {\"title\": \"Variable : ps_ind_02_cat\"}}, {\"showLink\": true, \"linkText\": \"Export to plot.ly\"})});</script>"
      ],
      "text/vnd.plotly.v1+html": [
       "<div id=\"f3be181c-3fbf-4b8b-a4bb-7dc4a4dac1e4\" style=\"height: 525px; width: 100%;\" class=\"plotly-graph-div\"></div><script type=\"text/javascript\">require([\"plotly\"], function(Plotly) { window.PLOTLYENV=window.PLOTLYENV || {};window.PLOTLYENV.BASE_URL=\"https://plot.ly\";Plotly.newPlot(\"f3be181c-3fbf-4b8b-a4bb-7dc4a4dac1e4\", [{\"type\": \"bar\", \"x\": [\"1.0\", \"2.0\", \"3.0\", \"4.0\"], \"y\": [431859, 123573, 28186, 11378], \"text\": [\"72.56%\", \"20.76%\", \"4.74%\", \"1.91%\"], \"marker\": {\"color\": [431859, 123573, 28186, 11378], \"colorscale\": \"Portland\", \"showscale\": true, \"reversescale\": false}}], {\"title\": \"Number of Items by Category\", \"yaxis\": {\"title\": \"Count\"}, \"xaxis\": {\"title\": \"Variable : ps_ind_02_cat\"}}, {\"showLink\": true, \"linkText\": \"Export to plot.ly\"})});</script>"
      ]
     },
     "metadata": {},
     "output_type": "display_data"
    },
    {
     "data": {
      "application/vnd.plotly.v1+json": {
       "data": [
        {
         "marker": {
          "color": [
           346965,
           248164
          ],
          "colorscale": "Portland",
          "reversescale": false,
          "showscale": true
         },
         "text": [
          "58.29%",
          "41.69%"
         ],
         "type": "bar",
         "x": [
          "0.0",
          "1.0"
         ],
         "y": [
          346965,
          248164
         ]
        }
       ],
       "layout": {
        "title": "Number of Items by Category",
        "xaxis": {
         "title": "Variable : ps_ind_04_cat"
        },
        "yaxis": {
         "title": "Count"
        }
       }
      },
      "text/html": [
       "<div id=\"bfc908a3-a03f-46d6-85fd-78ad94746480\" style=\"height: 525px; width: 100%;\" class=\"plotly-graph-div\"></div><script type=\"text/javascript\">require([\"plotly\"], function(Plotly) { window.PLOTLYENV=window.PLOTLYENV || {};window.PLOTLYENV.BASE_URL=\"https://plot.ly\";Plotly.newPlot(\"bfc908a3-a03f-46d6-85fd-78ad94746480\", [{\"type\": \"bar\", \"x\": [\"0.0\", \"1.0\"], \"y\": [346965, 248164], \"text\": [\"58.29%\", \"41.69%\"], \"marker\": {\"color\": [346965, 248164], \"colorscale\": \"Portland\", \"showscale\": true, \"reversescale\": false}}], {\"title\": \"Number of Items by Category\", \"yaxis\": {\"title\": \"Count\"}, \"xaxis\": {\"title\": \"Variable : ps_ind_04_cat\"}}, {\"showLink\": true, \"linkText\": \"Export to plot.ly\"})});</script>"
      ],
      "text/vnd.plotly.v1+html": [
       "<div id=\"bfc908a3-a03f-46d6-85fd-78ad94746480\" style=\"height: 525px; width: 100%;\" class=\"plotly-graph-div\"></div><script type=\"text/javascript\">require([\"plotly\"], function(Plotly) { window.PLOTLYENV=window.PLOTLYENV || {};window.PLOTLYENV.BASE_URL=\"https://plot.ly\";Plotly.newPlot(\"bfc908a3-a03f-46d6-85fd-78ad94746480\", [{\"type\": \"bar\", \"x\": [\"0.0\", \"1.0\"], \"y\": [346965, 248164], \"text\": [\"58.29%\", \"41.69%\"], \"marker\": {\"color\": [346965, 248164], \"colorscale\": \"Portland\", \"showscale\": true, \"reversescale\": false}}], {\"title\": \"Number of Items by Category\", \"yaxis\": {\"title\": \"Count\"}, \"xaxis\": {\"title\": \"Variable : ps_ind_04_cat\"}}, {\"showLink\": true, \"linkText\": \"Export to plot.ly\"})});</script>"
      ]
     },
     "metadata": {},
     "output_type": "display_data"
    },
    {
     "data": {
      "application/vnd.plotly.v1+json": {
       "data": [
        {
         "marker": {
          "color": [
           528009,
           20662,
           18344,
           8322,
           8233,
           4184,
           1649
          ],
          "colorscale": "Portland",
          "reversescale": false,
          "showscale": true
         },
         "text": [
          "88.71%",
          "3.47%",
          "3.08%",
          "1.40%",
          "1.38%",
          "0.70%",
          "0.28%"
         ],
         "type": "bar",
         "x": [
          "0.0",
          "6.0",
          "4.0",
          "1.0",
          "3.0",
          "2.0",
          "5.0"
         ],
         "y": [
          528009,
          20662,
          18344,
          8322,
          8233,
          4184,
          1649
         ]
        }
       ],
       "layout": {
        "title": "Number of Items by Category",
        "xaxis": {
         "title": "Variable : ps_ind_05_cat"
        },
        "yaxis": {
         "title": "Count"
        }
       }
      },
      "text/html": [
       "<div id=\"4c45c11c-c4b9-476a-8a88-693c6f3a0f9b\" style=\"height: 525px; width: 100%;\" class=\"plotly-graph-div\"></div><script type=\"text/javascript\">require([\"plotly\"], function(Plotly) { window.PLOTLYENV=window.PLOTLYENV || {};window.PLOTLYENV.BASE_URL=\"https://plot.ly\";Plotly.newPlot(\"4c45c11c-c4b9-476a-8a88-693c6f3a0f9b\", [{\"type\": \"bar\", \"x\": [\"0.0\", \"6.0\", \"4.0\", \"1.0\", \"3.0\", \"2.0\", \"5.0\"], \"y\": [528009, 20662, 18344, 8322, 8233, 4184, 1649], \"text\": [\"88.71%\", \"3.47%\", \"3.08%\", \"1.40%\", \"1.38%\", \"0.70%\", \"0.28%\"], \"marker\": {\"color\": [528009, 20662, 18344, 8322, 8233, 4184, 1649], \"colorscale\": \"Portland\", \"showscale\": true, \"reversescale\": false}}], {\"title\": \"Number of Items by Category\", \"yaxis\": {\"title\": \"Count\"}, \"xaxis\": {\"title\": \"Variable : ps_ind_05_cat\"}}, {\"showLink\": true, \"linkText\": \"Export to plot.ly\"})});</script>"
      ],
      "text/vnd.plotly.v1+html": [
       "<div id=\"4c45c11c-c4b9-476a-8a88-693c6f3a0f9b\" style=\"height: 525px; width: 100%;\" class=\"plotly-graph-div\"></div><script type=\"text/javascript\">require([\"plotly\"], function(Plotly) { window.PLOTLYENV=window.PLOTLYENV || {};window.PLOTLYENV.BASE_URL=\"https://plot.ly\";Plotly.newPlot(\"4c45c11c-c4b9-476a-8a88-693c6f3a0f9b\", [{\"type\": \"bar\", \"x\": [\"0.0\", \"6.0\", \"4.0\", \"1.0\", \"3.0\", \"2.0\", \"5.0\"], \"y\": [528009, 20662, 18344, 8322, 8233, 4184, 1649], \"text\": [\"88.71%\", \"3.47%\", \"3.08%\", \"1.40%\", \"1.38%\", \"0.70%\", \"0.28%\"], \"marker\": {\"color\": [528009, 20662, 18344, 8322, 8233, 4184, 1649], \"colorscale\": \"Portland\", \"showscale\": true, \"reversescale\": false}}], {\"title\": \"Number of Items by Category\", \"yaxis\": {\"title\": \"Count\"}, \"xaxis\": {\"title\": \"Variable : ps_ind_05_cat\"}}, {\"showLink\": true, \"linkText\": \"Export to plot.ly\"})});</script>"
      ]
     },
     "metadata": {},
     "output_type": "display_data"
    },
    {
     "data": {
      "application/vnd.plotly.v1+json": {
       "data": [
        {
         "marker": {
          "color": [
           207573,
           179247,
           62393,
           50087,
           26174,
           20323,
           18142,
           15093,
           6658,
           5904,
           2144,
           1367
          ],
          "colorscale": "Portland",
          "reversescale": false,
          "showscale": true
         },
         "text": [
          "34.87%",
          "30.11%",
          "10.48%",
          "8.41%",
          "4.40%",
          "3.41%",
          "3.05%",
          "2.54%",
          "1.12%",
          "0.99%",
          "0.36%",
          "0.23%"
         ],
         "type": "bar",
         "x": [
          "11.0",
          "7.0",
          "6.0",
          "10.0",
          "4.0",
          "9.0",
          "5.0",
          "8.0",
          "3.0",
          "0.0",
          "2.0",
          "1.0"
         ],
         "y": [
          207573,
          179247,
          62393,
          50087,
          26174,
          20323,
          18142,
          15093,
          6658,
          5904,
          2144,
          1367
         ]
        }
       ],
       "layout": {
        "title": "Number of Items by Category",
        "xaxis": {
         "title": "Variable : ps_car_01_cat"
        },
        "yaxis": {
         "title": "Count"
        }
       }
      },
      "text/html": [
       "<div id=\"73148f64-2a5c-4e75-97c3-f257680c018b\" style=\"height: 525px; width: 100%;\" class=\"plotly-graph-div\"></div><script type=\"text/javascript\">require([\"plotly\"], function(Plotly) { window.PLOTLYENV=window.PLOTLYENV || {};window.PLOTLYENV.BASE_URL=\"https://plot.ly\";Plotly.newPlot(\"73148f64-2a5c-4e75-97c3-f257680c018b\", [{\"type\": \"bar\", \"x\": [\"11.0\", \"7.0\", \"6.0\", \"10.0\", \"4.0\", \"9.0\", \"5.0\", \"8.0\", \"3.0\", \"0.0\", \"2.0\", \"1.0\"], \"y\": [207573, 179247, 62393, 50087, 26174, 20323, 18142, 15093, 6658, 5904, 2144, 1367], \"text\": [\"34.87%\", \"30.11%\", \"10.48%\", \"8.41%\", \"4.40%\", \"3.41%\", \"3.05%\", \"2.54%\", \"1.12%\", \"0.99%\", \"0.36%\", \"0.23%\"], \"marker\": {\"color\": [207573, 179247, 62393, 50087, 26174, 20323, 18142, 15093, 6658, 5904, 2144, 1367], \"colorscale\": \"Portland\", \"showscale\": true, \"reversescale\": false}}], {\"title\": \"Number of Items by Category\", \"yaxis\": {\"title\": \"Count\"}, \"xaxis\": {\"title\": \"Variable : ps_car_01_cat\"}}, {\"showLink\": true, \"linkText\": \"Export to plot.ly\"})});</script>"
      ],
      "text/vnd.plotly.v1+html": [
       "<div id=\"73148f64-2a5c-4e75-97c3-f257680c018b\" style=\"height: 525px; width: 100%;\" class=\"plotly-graph-div\"></div><script type=\"text/javascript\">require([\"plotly\"], function(Plotly) { window.PLOTLYENV=window.PLOTLYENV || {};window.PLOTLYENV.BASE_URL=\"https://plot.ly\";Plotly.newPlot(\"73148f64-2a5c-4e75-97c3-f257680c018b\", [{\"type\": \"bar\", \"x\": [\"11.0\", \"7.0\", \"6.0\", \"10.0\", \"4.0\", \"9.0\", \"5.0\", \"8.0\", \"3.0\", \"0.0\", \"2.0\", \"1.0\"], \"y\": [207573, 179247, 62393, 50087, 26174, 20323, 18142, 15093, 6658, 5904, 2144, 1367], \"text\": [\"34.87%\", \"30.11%\", \"10.48%\", \"8.41%\", \"4.40%\", \"3.41%\", \"3.05%\", \"2.54%\", \"1.12%\", \"0.99%\", \"0.36%\", \"0.23%\"], \"marker\": {\"color\": [207573, 179247, 62393, 50087, 26174, 20323, 18142, 15093, 6658, 5904, 2144, 1367], \"colorscale\": \"Portland\", \"showscale\": true, \"reversescale\": false}}], {\"title\": \"Number of Items by Category\", \"yaxis\": {\"title\": \"Count\"}, \"xaxis\": {\"title\": \"Variable : ps_car_01_cat\"}}, {\"showLink\": true, \"linkText\": \"Export to plot.ly\"})});</script>"
      ]
     },
     "metadata": {},
     "output_type": "display_data"
    },
    {
     "data": {
      "application/vnd.plotly.v1+json": {
       "data": [
        {
         "marker": {
          "color": [
           493990,
           101217
          ],
          "colorscale": "Portland",
          "reversescale": false,
          "showscale": true
         },
         "text": [
          "82.99%",
          "17.01%"
         ],
         "type": "bar",
         "x": [
          "1.0",
          "0.0"
         ],
         "y": [
          493990,
          101217
         ]
        }
       ],
       "layout": {
        "title": "Number of Items by Category",
        "xaxis": {
         "title": "Variable : ps_car_02_cat"
        },
        "yaxis": {
         "title": "Count"
        }
       }
      },
      "text/html": [
       "<div id=\"1ad36ad6-f69a-41e2-b4e5-1a916740f14b\" style=\"height: 525px; width: 100%;\" class=\"plotly-graph-div\"></div><script type=\"text/javascript\">require([\"plotly\"], function(Plotly) { window.PLOTLYENV=window.PLOTLYENV || {};window.PLOTLYENV.BASE_URL=\"https://plot.ly\";Plotly.newPlot(\"1ad36ad6-f69a-41e2-b4e5-1a916740f14b\", [{\"type\": \"bar\", \"x\": [\"1.0\", \"0.0\"], \"y\": [493990, 101217], \"text\": [\"82.99%\", \"17.01%\"], \"marker\": {\"color\": [493990, 101217], \"colorscale\": \"Portland\", \"showscale\": true, \"reversescale\": false}}], {\"title\": \"Number of Items by Category\", \"yaxis\": {\"title\": \"Count\"}, \"xaxis\": {\"title\": \"Variable : ps_car_02_cat\"}}, {\"showLink\": true, \"linkText\": \"Export to plot.ly\"})});</script>"
      ],
      "text/vnd.plotly.v1+html": [
       "<div id=\"1ad36ad6-f69a-41e2-b4e5-1a916740f14b\" style=\"height: 525px; width: 100%;\" class=\"plotly-graph-div\"></div><script type=\"text/javascript\">require([\"plotly\"], function(Plotly) { window.PLOTLYENV=window.PLOTLYENV || {};window.PLOTLYENV.BASE_URL=\"https://plot.ly\";Plotly.newPlot(\"1ad36ad6-f69a-41e2-b4e5-1a916740f14b\", [{\"type\": \"bar\", \"x\": [\"1.0\", \"0.0\"], \"y\": [493990, 101217], \"text\": [\"82.99%\", \"17.01%\"], \"marker\": {\"color\": [493990, 101217], \"colorscale\": \"Portland\", \"showscale\": true, \"reversescale\": false}}], {\"title\": \"Number of Items by Category\", \"yaxis\": {\"title\": \"Count\"}, \"xaxis\": {\"title\": \"Variable : ps_car_02_cat\"}}, {\"showLink\": true, \"linkText\": \"Export to plot.ly\"})});</script>"
      ]
     },
     "metadata": {},
     "output_type": "display_data"
    },
    {
     "data": {
      "application/vnd.plotly.v1+json": {
       "data": [
        {
         "marker": {
          "color": [
           110709,
           73272
          ],
          "colorscale": "Portland",
          "reversescale": false,
          "showscale": true
         },
         "text": [
          "18.60%",
          "12.31%"
         ],
         "type": "bar",
         "x": [
          "1.0",
          "0.0"
         ],
         "y": [
          110709,
          73272
         ]
        }
       ],
       "layout": {
        "title": "Number of Items by Category",
        "xaxis": {
         "title": "Variable : ps_car_03_cat"
        },
        "yaxis": {
         "title": "Count"
        }
       }
      },
      "text/html": [
       "<div id=\"f04e342c-ab69-49ce-a2cf-fd6963848adf\" style=\"height: 525px; width: 100%;\" class=\"plotly-graph-div\"></div><script type=\"text/javascript\">require([\"plotly\"], function(Plotly) { window.PLOTLYENV=window.PLOTLYENV || {};window.PLOTLYENV.BASE_URL=\"https://plot.ly\";Plotly.newPlot(\"f04e342c-ab69-49ce-a2cf-fd6963848adf\", [{\"type\": \"bar\", \"x\": [\"1.0\", \"0.0\"], \"y\": [110709, 73272], \"text\": [\"18.60%\", \"12.31%\"], \"marker\": {\"color\": [110709, 73272], \"colorscale\": \"Portland\", \"showscale\": true, \"reversescale\": false}}], {\"title\": \"Number of Items by Category\", \"yaxis\": {\"title\": \"Count\"}, \"xaxis\": {\"title\": \"Variable : ps_car_03_cat\"}}, {\"showLink\": true, \"linkText\": \"Export to plot.ly\"})});</script>"
      ],
      "text/vnd.plotly.v1+html": [
       "<div id=\"f04e342c-ab69-49ce-a2cf-fd6963848adf\" style=\"height: 525px; width: 100%;\" class=\"plotly-graph-div\"></div><script type=\"text/javascript\">require([\"plotly\"], function(Plotly) { window.PLOTLYENV=window.PLOTLYENV || {};window.PLOTLYENV.BASE_URL=\"https://plot.ly\";Plotly.newPlot(\"f04e342c-ab69-49ce-a2cf-fd6963848adf\", [{\"type\": \"bar\", \"x\": [\"1.0\", \"0.0\"], \"y\": [110709, 73272], \"text\": [\"18.60%\", \"12.31%\"], \"marker\": {\"color\": [110709, 73272], \"colorscale\": \"Portland\", \"showscale\": true, \"reversescale\": false}}], {\"title\": \"Number of Items by Category\", \"yaxis\": {\"title\": \"Count\"}, \"xaxis\": {\"title\": \"Variable : ps_car_03_cat\"}}, {\"showLink\": true, \"linkText\": \"Export to plot.ly\"})});</script>"
      ]
     },
     "metadata": {},
     "output_type": "display_data"
    },
    {
     "data": {
      "application/vnd.plotly.v1+json": {
       "data": [
        {
         "marker": {
          "color": [
           496581,
           32115,
           23770,
           20598,
           19034,
           1560,
           640,
           545,
           230,
           139
          ],
          "colorscale": "Portland",
          "reversescale": false,
          "showscale": true
         },
         "text": [
          "83.43%",
          "5.40%",
          "3.99%",
          "3.46%",
          "3.20%",
          "0.26%",
          "0.11%",
          "0.09%",
          "0.04%",
          "0.02%"
         ],
         "type": "bar",
         "x": [
          "0",
          "1",
          "2",
          "8",
          "9",
          "6",
          "3",
          "5",
          "4",
          "7"
         ],
         "y": [
          496581,
          32115,
          23770,
          20598,
          19034,
          1560,
          640,
          545,
          230,
          139
         ]
        }
       ],
       "layout": {
        "title": "Number of Items by Category",
        "xaxis": {
         "title": "Variable : ps_car_04_cat"
        },
        "yaxis": {
         "title": "Count"
        }
       }
      },
      "text/html": [
       "<div id=\"66cece70-68fa-40f4-b944-fda67a45e2f6\" style=\"height: 525px; width: 100%;\" class=\"plotly-graph-div\"></div><script type=\"text/javascript\">require([\"plotly\"], function(Plotly) { window.PLOTLYENV=window.PLOTLYENV || {};window.PLOTLYENV.BASE_URL=\"https://plot.ly\";Plotly.newPlot(\"66cece70-68fa-40f4-b944-fda67a45e2f6\", [{\"type\": \"bar\", \"x\": [\"0\", \"1\", \"2\", \"8\", \"9\", \"6\", \"3\", \"5\", \"4\", \"7\"], \"y\": [496581, 32115, 23770, 20598, 19034, 1560, 640, 545, 230, 139], \"text\": [\"83.43%\", \"5.40%\", \"3.99%\", \"3.46%\", \"3.20%\", \"0.26%\", \"0.11%\", \"0.09%\", \"0.04%\", \"0.02%\"], \"marker\": {\"color\": [496581, 32115, 23770, 20598, 19034, 1560, 640, 545, 230, 139], \"colorscale\": \"Portland\", \"showscale\": true, \"reversescale\": false}}], {\"title\": \"Number of Items by Category\", \"yaxis\": {\"title\": \"Count\"}, \"xaxis\": {\"title\": \"Variable : ps_car_04_cat\"}}, {\"showLink\": true, \"linkText\": \"Export to plot.ly\"})});</script>"
      ],
      "text/vnd.plotly.v1+html": [
       "<div id=\"66cece70-68fa-40f4-b944-fda67a45e2f6\" style=\"height: 525px; width: 100%;\" class=\"plotly-graph-div\"></div><script type=\"text/javascript\">require([\"plotly\"], function(Plotly) { window.PLOTLYENV=window.PLOTLYENV || {};window.PLOTLYENV.BASE_URL=\"https://plot.ly\";Plotly.newPlot(\"66cece70-68fa-40f4-b944-fda67a45e2f6\", [{\"type\": \"bar\", \"x\": [\"0\", \"1\", \"2\", \"8\", \"9\", \"6\", \"3\", \"5\", \"4\", \"7\"], \"y\": [496581, 32115, 23770, 20598, 19034, 1560, 640, 545, 230, 139], \"text\": [\"83.43%\", \"5.40%\", \"3.99%\", \"3.46%\", \"3.20%\", \"0.26%\", \"0.11%\", \"0.09%\", \"0.04%\", \"0.02%\"], \"marker\": {\"color\": [496581, 32115, 23770, 20598, 19034, 1560, 640, 545, 230, 139], \"colorscale\": \"Portland\", \"showscale\": true, \"reversescale\": false}}], {\"title\": \"Number of Items by Category\", \"yaxis\": {\"title\": \"Count\"}, \"xaxis\": {\"title\": \"Variable : ps_car_04_cat\"}}, {\"showLink\": true, \"linkText\": \"Export to plot.ly\"})});</script>"
      ]
     },
     "metadata": {},
     "output_type": "display_data"
    },
    {
     "data": {
      "application/vnd.plotly.v1+json": {
       "data": [
        {
         "marker": {
          "color": [
           172667,
           155994
          ],
          "colorscale": "Portland",
          "reversescale": false,
          "showscale": true
         },
         "text": [
          "29.01%",
          "26.21%"
         ],
         "type": "bar",
         "x": [
          "1.0",
          "0.0"
         ],
         "y": [
          172667,
          155994
         ]
        }
       ],
       "layout": {
        "title": "Number of Items by Category",
        "xaxis": {
         "title": "Variable : ps_car_05_cat"
        },
        "yaxis": {
         "title": "Count"
        }
       }
      },
      "text/html": [
       "<div id=\"3d6653e4-437d-4f28-9157-e94a6969ff92\" style=\"height: 525px; width: 100%;\" class=\"plotly-graph-div\"></div><script type=\"text/javascript\">require([\"plotly\"], function(Plotly) { window.PLOTLYENV=window.PLOTLYENV || {};window.PLOTLYENV.BASE_URL=\"https://plot.ly\";Plotly.newPlot(\"3d6653e4-437d-4f28-9157-e94a6969ff92\", [{\"type\": \"bar\", \"x\": [\"1.0\", \"0.0\"], \"y\": [172667, 155994], \"text\": [\"29.01%\", \"26.21%\"], \"marker\": {\"color\": [172667, 155994], \"colorscale\": \"Portland\", \"showscale\": true, \"reversescale\": false}}], {\"title\": \"Number of Items by Category\", \"yaxis\": {\"title\": \"Count\"}, \"xaxis\": {\"title\": \"Variable : ps_car_05_cat\"}}, {\"showLink\": true, \"linkText\": \"Export to plot.ly\"})});</script>"
      ],
      "text/vnd.plotly.v1+html": [
       "<div id=\"3d6653e4-437d-4f28-9157-e94a6969ff92\" style=\"height: 525px; width: 100%;\" class=\"plotly-graph-div\"></div><script type=\"text/javascript\">require([\"plotly\"], function(Plotly) { window.PLOTLYENV=window.PLOTLYENV || {};window.PLOTLYENV.BASE_URL=\"https://plot.ly\";Plotly.newPlot(\"3d6653e4-437d-4f28-9157-e94a6969ff92\", [{\"type\": \"bar\", \"x\": [\"1.0\", \"0.0\"], \"y\": [172667, 155994], \"text\": [\"29.01%\", \"26.21%\"], \"marker\": {\"color\": [172667, 155994], \"colorscale\": \"Portland\", \"showscale\": true, \"reversescale\": false}}], {\"title\": \"Number of Items by Category\", \"yaxis\": {\"title\": \"Count\"}, \"xaxis\": {\"title\": \"Variable : ps_car_05_cat\"}}, {\"showLink\": true, \"linkText\": \"Export to plot.ly\"})});</script>"
      ]
     },
     "metadata": {},
     "output_type": "display_data"
    },
    {
     "data": {
      "application/vnd.plotly.v1+json": {
       "data": [
        {
         "marker": {
          "color": [
           131527,
           118386,
           110420,
           59253,
           33466,
           31136,
           21732,
           20951,
           17617,
           16158,
           11997,
           6246,
           4935,
           4582,
           2386,
           1607,
           1412,
           1401
          ],
          "colorscale": "Portland",
          "reversescale": false,
          "showscale": true
         },
         "text": [
          "22.10%",
          "19.89%",
          "18.55%",
          "9.95%",
          "5.62%",
          "5.23%",
          "3.65%",
          "3.52%",
          "2.96%",
          "2.71%",
          "2.02%",
          "1.05%",
          "0.83%",
          "0.77%",
          "0.40%",
          "0.27%",
          "0.24%",
          "0.24%"
         ],
         "type": "bar",
         "x": [
          "11",
          "1",
          "0",
          "14",
          "10",
          "4",
          "15",
          "6",
          "9",
          "7",
          "3",
          "13",
          "17",
          "16",
          "12",
          "2",
          "8",
          "5"
         ],
         "y": [
          131527,
          118386,
          110420,
          59253,
          33466,
          31136,
          21732,
          20951,
          17617,
          16158,
          11997,
          6246,
          4935,
          4582,
          2386,
          1607,
          1412,
          1401
         ]
        }
       ],
       "layout": {
        "title": "Number of Items by Category",
        "xaxis": {
         "title": "Variable : ps_car_06_cat"
        },
        "yaxis": {
         "title": "Count"
        }
       }
      },
      "text/html": [
       "<div id=\"bba46253-7b3b-4331-97d2-b61c3bea3f98\" style=\"height: 525px; width: 100%;\" class=\"plotly-graph-div\"></div><script type=\"text/javascript\">require([\"plotly\"], function(Plotly) { window.PLOTLYENV=window.PLOTLYENV || {};window.PLOTLYENV.BASE_URL=\"https://plot.ly\";Plotly.newPlot(\"bba46253-7b3b-4331-97d2-b61c3bea3f98\", [{\"type\": \"bar\", \"x\": [\"11\", \"1\", \"0\", \"14\", \"10\", \"4\", \"15\", \"6\", \"9\", \"7\", \"3\", \"13\", \"17\", \"16\", \"12\", \"2\", \"8\", \"5\"], \"y\": [131527, 118386, 110420, 59253, 33466, 31136, 21732, 20951, 17617, 16158, 11997, 6246, 4935, 4582, 2386, 1607, 1412, 1401], \"text\": [\"22.10%\", \"19.89%\", \"18.55%\", \"9.95%\", \"5.62%\", \"5.23%\", \"3.65%\", \"3.52%\", \"2.96%\", \"2.71%\", \"2.02%\", \"1.05%\", \"0.83%\", \"0.77%\", \"0.40%\", \"0.27%\", \"0.24%\", \"0.24%\"], \"marker\": {\"color\": [131527, 118386, 110420, 59253, 33466, 31136, 21732, 20951, 17617, 16158, 11997, 6246, 4935, 4582, 2386, 1607, 1412, 1401], \"colorscale\": \"Portland\", \"showscale\": true, \"reversescale\": false}}], {\"title\": \"Number of Items by Category\", \"yaxis\": {\"title\": \"Count\"}, \"xaxis\": {\"title\": \"Variable : ps_car_06_cat\"}}, {\"showLink\": true, \"linkText\": \"Export to plot.ly\"})});</script>"
      ],
      "text/vnd.plotly.v1+html": [
       "<div id=\"bba46253-7b3b-4331-97d2-b61c3bea3f98\" style=\"height: 525px; width: 100%;\" class=\"plotly-graph-div\"></div><script type=\"text/javascript\">require([\"plotly\"], function(Plotly) { window.PLOTLYENV=window.PLOTLYENV || {};window.PLOTLYENV.BASE_URL=\"https://plot.ly\";Plotly.newPlot(\"bba46253-7b3b-4331-97d2-b61c3bea3f98\", [{\"type\": \"bar\", \"x\": [\"11\", \"1\", \"0\", \"14\", \"10\", \"4\", \"15\", \"6\", \"9\", \"7\", \"3\", \"13\", \"17\", \"16\", \"12\", \"2\", \"8\", \"5\"], \"y\": [131527, 118386, 110420, 59253, 33466, 31136, 21732, 20951, 17617, 16158, 11997, 6246, 4935, 4582, 2386, 1607, 1412, 1401], \"text\": [\"22.10%\", \"19.89%\", \"18.55%\", \"9.95%\", \"5.62%\", \"5.23%\", \"3.65%\", \"3.52%\", \"2.96%\", \"2.71%\", \"2.02%\", \"1.05%\", \"0.83%\", \"0.77%\", \"0.40%\", \"0.27%\", \"0.24%\", \"0.24%\"], \"marker\": {\"color\": [131527, 118386, 110420, 59253, 33466, 31136, 21732, 20951, 17617, 16158, 11997, 6246, 4935, 4582, 2386, 1607, 1412, 1401], \"colorscale\": \"Portland\", \"showscale\": true, \"reversescale\": false}}], {\"title\": \"Number of Items by Category\", \"yaxis\": {\"title\": \"Count\"}, \"xaxis\": {\"title\": \"Variable : ps_car_06_cat\"}}, {\"showLink\": true, \"linkText\": \"Export to plot.ly\"})});</script>"
      ]
     },
     "metadata": {},
     "output_type": "display_data"
    },
    {
     "data": {
      "application/vnd.plotly.v1+json": {
       "data": [
        {
         "marker": {
          "color": [
           553148,
           30575
          ],
          "colorscale": "Portland",
          "reversescale": false,
          "showscale": true
         },
         "text": [
          "92.93%",
          "5.14%"
         ],
         "type": "bar",
         "x": [
          "1.0",
          "0.0"
         ],
         "y": [
          553148,
          30575
         ]
        }
       ],
       "layout": {
        "title": "Number of Items by Category",
        "xaxis": {
         "title": "Variable : ps_car_07_cat"
        },
        "yaxis": {
         "title": "Count"
        }
       }
      },
      "text/html": [
       "<div id=\"3f12f92e-199d-4c29-ba40-d2ab2211393b\" style=\"height: 525px; width: 100%;\" class=\"plotly-graph-div\"></div><script type=\"text/javascript\">require([\"plotly\"], function(Plotly) { window.PLOTLYENV=window.PLOTLYENV || {};window.PLOTLYENV.BASE_URL=\"https://plot.ly\";Plotly.newPlot(\"3f12f92e-199d-4c29-ba40-d2ab2211393b\", [{\"type\": \"bar\", \"x\": [\"1.0\", \"0.0\"], \"y\": [553148, 30575], \"text\": [\"92.93%\", \"5.14%\"], \"marker\": {\"color\": [553148, 30575], \"colorscale\": \"Portland\", \"showscale\": true, \"reversescale\": false}}], {\"title\": \"Number of Items by Category\", \"yaxis\": {\"title\": \"Count\"}, \"xaxis\": {\"title\": \"Variable : ps_car_07_cat\"}}, {\"showLink\": true, \"linkText\": \"Export to plot.ly\"})});</script>"
      ],
      "text/vnd.plotly.v1+html": [
       "<div id=\"3f12f92e-199d-4c29-ba40-d2ab2211393b\" style=\"height: 525px; width: 100%;\" class=\"plotly-graph-div\"></div><script type=\"text/javascript\">require([\"plotly\"], function(Plotly) { window.PLOTLYENV=window.PLOTLYENV || {};window.PLOTLYENV.BASE_URL=\"https://plot.ly\";Plotly.newPlot(\"3f12f92e-199d-4c29-ba40-d2ab2211393b\", [{\"type\": \"bar\", \"x\": [\"1.0\", \"0.0\"], \"y\": [553148, 30575], \"text\": [\"92.93%\", \"5.14%\"], \"marker\": {\"color\": [553148, 30575], \"colorscale\": \"Portland\", \"showscale\": true, \"reversescale\": false}}], {\"title\": \"Number of Items by Category\", \"yaxis\": {\"title\": \"Count\"}, \"xaxis\": {\"title\": \"Variable : ps_car_07_cat\"}}, {\"showLink\": true, \"linkText\": \"Export to plot.ly\"})});</script>"
      ]
     },
     "metadata": {},
     "output_type": "display_data"
    },
    {
     "data": {
      "application/vnd.plotly.v1+json": {
       "data": [
        {
         "marker": {
          "color": [
           495264,
           99948
          ],
          "colorscale": "Portland",
          "reversescale": false,
          "showscale": true
         },
         "text": [
          "83.21%",
          "16.79%"
         ],
         "type": "bar",
         "x": [
          "1",
          "0"
         ],
         "y": [
          495264,
          99948
         ]
        }
       ],
       "layout": {
        "title": "Number of Items by Category",
        "xaxis": {
         "title": "Variable : ps_car_08_cat"
        },
        "yaxis": {
         "title": "Count"
        }
       }
      },
      "text/html": [
       "<div id=\"82118024-66c9-40d3-88b6-04b1e2003ed0\" style=\"height: 525px; width: 100%;\" class=\"plotly-graph-div\"></div><script type=\"text/javascript\">require([\"plotly\"], function(Plotly) { window.PLOTLYENV=window.PLOTLYENV || {};window.PLOTLYENV.BASE_URL=\"https://plot.ly\";Plotly.newPlot(\"82118024-66c9-40d3-88b6-04b1e2003ed0\", [{\"type\": \"bar\", \"x\": [\"1\", \"0\"], \"y\": [495264, 99948], \"text\": [\"83.21%\", \"16.79%\"], \"marker\": {\"color\": [495264, 99948], \"colorscale\": \"Portland\", \"showscale\": true, \"reversescale\": false}}], {\"title\": \"Number of Items by Category\", \"yaxis\": {\"title\": \"Count\"}, \"xaxis\": {\"title\": \"Variable : ps_car_08_cat\"}}, {\"showLink\": true, \"linkText\": \"Export to plot.ly\"})});</script>"
      ],
      "text/vnd.plotly.v1+html": [
       "<div id=\"82118024-66c9-40d3-88b6-04b1e2003ed0\" style=\"height: 525px; width: 100%;\" class=\"plotly-graph-div\"></div><script type=\"text/javascript\">require([\"plotly\"], function(Plotly) { window.PLOTLYENV=window.PLOTLYENV || {};window.PLOTLYENV.BASE_URL=\"https://plot.ly\";Plotly.newPlot(\"82118024-66c9-40d3-88b6-04b1e2003ed0\", [{\"type\": \"bar\", \"x\": [\"1\", \"0\"], \"y\": [495264, 99948], \"text\": [\"83.21%\", \"16.79%\"], \"marker\": {\"color\": [495264, 99948], \"colorscale\": \"Portland\", \"showscale\": true, \"reversescale\": false}}], {\"title\": \"Number of Items by Category\", \"yaxis\": {\"title\": \"Count\"}, \"xaxis\": {\"title\": \"Variable : ps_car_08_cat\"}}, {\"showLink\": true, \"linkText\": \"Export to plot.ly\"})});</script>"
      ]
     },
     "metadata": {},
     "output_type": "display_data"
    },
    {
     "data": {
      "application/vnd.plotly.v1+json": {
       "data": [
        {
         "marker": {
          "color": [
           353482,
           194518,
           29080,
           14756,
           2807
          ],
          "colorscale": "Portland",
          "reversescale": false,
          "showscale": true
         },
         "text": [
          "59.39%",
          "32.68%",
          "4.89%",
          "2.48%",
          "0.47%"
         ],
         "type": "bar",
         "x": [
          "2.0",
          "0.0",
          "1.0",
          "3.0",
          "4.0"
         ],
         "y": [
          353482,
          194518,
          29080,
          14756,
          2807
         ]
        }
       ],
       "layout": {
        "title": "Number of Items by Category",
        "xaxis": {
         "title": "Variable : ps_car_09_cat"
        },
        "yaxis": {
         "title": "Count"
        }
       }
      },
      "text/html": [
       "<div id=\"2d89ab96-d9a1-4c9a-a808-b831eadaef76\" style=\"height: 525px; width: 100%;\" class=\"plotly-graph-div\"></div><script type=\"text/javascript\">require([\"plotly\"], function(Plotly) { window.PLOTLYENV=window.PLOTLYENV || {};window.PLOTLYENV.BASE_URL=\"https://plot.ly\";Plotly.newPlot(\"2d89ab96-d9a1-4c9a-a808-b831eadaef76\", [{\"type\": \"bar\", \"x\": [\"2.0\", \"0.0\", \"1.0\", \"3.0\", \"4.0\"], \"y\": [353482, 194518, 29080, 14756, 2807], \"text\": [\"59.39%\", \"32.68%\", \"4.89%\", \"2.48%\", \"0.47%\"], \"marker\": {\"color\": [353482, 194518, 29080, 14756, 2807], \"colorscale\": \"Portland\", \"showscale\": true, \"reversescale\": false}}], {\"title\": \"Number of Items by Category\", \"yaxis\": {\"title\": \"Count\"}, \"xaxis\": {\"title\": \"Variable : ps_car_09_cat\"}}, {\"showLink\": true, \"linkText\": \"Export to plot.ly\"})});</script>"
      ],
      "text/vnd.plotly.v1+html": [
       "<div id=\"2d89ab96-d9a1-4c9a-a808-b831eadaef76\" style=\"height: 525px; width: 100%;\" class=\"plotly-graph-div\"></div><script type=\"text/javascript\">require([\"plotly\"], function(Plotly) { window.PLOTLYENV=window.PLOTLYENV || {};window.PLOTLYENV.BASE_URL=\"https://plot.ly\";Plotly.newPlot(\"2d89ab96-d9a1-4c9a-a808-b831eadaef76\", [{\"type\": \"bar\", \"x\": [\"2.0\", \"0.0\", \"1.0\", \"3.0\", \"4.0\"], \"y\": [353482, 194518, 29080, 14756, 2807], \"text\": [\"59.39%\", \"32.68%\", \"4.89%\", \"2.48%\", \"0.47%\"], \"marker\": {\"color\": [353482, 194518, 29080, 14756, 2807], \"colorscale\": \"Portland\", \"showscale\": true, \"reversescale\": false}}], {\"title\": \"Number of Items by Category\", \"yaxis\": {\"title\": \"Count\"}, \"xaxis\": {\"title\": \"Variable : ps_car_09_cat\"}}, {\"showLink\": true, \"linkText\": \"Export to plot.ly\"})});</script>"
      ]
     },
     "metadata": {},
     "output_type": "display_data"
    },
    {
     "data": {
      "application/vnd.plotly.v1+json": {
       "data": [
        {
         "marker": {
          "color": [
           590179,
           4857,
           176
          ],
          "colorscale": "Portland",
          "reversescale": false,
          "showscale": true
         },
         "text": [
          "99.15%",
          "0.82%",
          "0.03%"
         ],
         "type": "bar",
         "x": [
          "1",
          "0",
          "2"
         ],
         "y": [
          590179,
          4857,
          176
         ]
        }
       ],
       "layout": {
        "title": "Number of Items by Category",
        "xaxis": {
         "title": "Variable : ps_car_10_cat"
        },
        "yaxis": {
         "title": "Count"
        }
       }
      },
      "text/html": [
       "<div id=\"483807a1-54fc-47e7-a414-1be3cff2e16a\" style=\"height: 525px; width: 100%;\" class=\"plotly-graph-div\"></div><script type=\"text/javascript\">require([\"plotly\"], function(Plotly) { window.PLOTLYENV=window.PLOTLYENV || {};window.PLOTLYENV.BASE_URL=\"https://plot.ly\";Plotly.newPlot(\"483807a1-54fc-47e7-a414-1be3cff2e16a\", [{\"type\": \"bar\", \"x\": [\"1\", \"0\", \"2\"], \"y\": [590179, 4857, 176], \"text\": [\"99.15%\", \"0.82%\", \"0.03%\"], \"marker\": {\"color\": [590179, 4857, 176], \"colorscale\": \"Portland\", \"showscale\": true, \"reversescale\": false}}], {\"title\": \"Number of Items by Category\", \"yaxis\": {\"title\": \"Count\"}, \"xaxis\": {\"title\": \"Variable : ps_car_10_cat\"}}, {\"showLink\": true, \"linkText\": \"Export to plot.ly\"})});</script>"
      ],
      "text/vnd.plotly.v1+html": [
       "<div id=\"483807a1-54fc-47e7-a414-1be3cff2e16a\" style=\"height: 525px; width: 100%;\" class=\"plotly-graph-div\"></div><script type=\"text/javascript\">require([\"plotly\"], function(Plotly) { window.PLOTLYENV=window.PLOTLYENV || {};window.PLOTLYENV.BASE_URL=\"https://plot.ly\";Plotly.newPlot(\"483807a1-54fc-47e7-a414-1be3cff2e16a\", [{\"type\": \"bar\", \"x\": [\"1\", \"0\", \"2\"], \"y\": [590179, 4857, 176], \"text\": [\"99.15%\", \"0.82%\", \"0.03%\"], \"marker\": {\"color\": [590179, 4857, 176], \"colorscale\": \"Portland\", \"showscale\": true, \"reversescale\": false}}], {\"title\": \"Number of Items by Category\", \"yaxis\": {\"title\": \"Count\"}, \"xaxis\": {\"title\": \"Variable : ps_car_10_cat\"}}, {\"showLink\": true, \"linkText\": \"Export to plot.ly\"})});</script>"
      ]
     },
     "metadata": {},
     "output_type": "display_data"
    },
    {
     "data": {
      "application/vnd.plotly.v1+json": {
       "data": [
        {
         "marker": {
          "color": [
           85083,
           24262,
           22278,
           17106,
           12578,
           12538,
           12513,
           12042,
           10905,
           10470,
           9510,
           9246,
           8732,
           8388,
           8371,
           7992,
           7676,
           7479,
           7339,
           7334,
           7246,
           7061,
           7007,
           6716,
           6506,
           6313,
           6010,
           6008,
           5930,
           5710,
           5653,
           5628,
           5470,
           5355,
           5289,
           5285,
           5097,
           5030,
           5008,
           4975,
           4944,
           4893,
           4870,
           4759,
           4697,
           4657,
           4523,
           4467,
           4445,
           4229,
           3926,
           3795,
           3719,
           3558,
           3531,
           3450,
           3351,
           3331,
           3312,
           3311,
           3185,
           3182,
           3099,
           2957,
           2931,
           2894,
           2877,
           2850,
           2840,
           2674,
           2606,
           2553,
           2481,
           2480,
           2424,
           2405,
           2357,
           2353,
           2322,
           2211,
           2103,
           2079,
           2073,
           2035,
           1880,
           1858,
           1848,
           1838,
           1825,
           1790,
           1785,
           1770,
           1706,
           1678,
           1668,
           1622,
           1596,
           1484,
           1481,
           1464,
           1433,
           1272,
           1233,
           1103
          ],
          "colorscale": "Portland",
          "reversescale": false,
          "showscale": true
         },
         "text": [
          "14.29%",
          "4.08%",
          "3.74%",
          "2.87%",
          "2.11%",
          "2.11%",
          "2.10%",
          "2.02%",
          "1.83%",
          "1.76%",
          "1.60%",
          "1.55%",
          "1.47%",
          "1.41%",
          "1.41%",
          "1.34%",
          "1.29%",
          "1.26%",
          "1.23%",
          "1.23%",
          "1.22%",
          "1.19%",
          "1.18%",
          "1.13%",
          "1.09%",
          "1.06%",
          "1.01%",
          "1.01%",
          "1.00%",
          "0.96%",
          "0.95%",
          "0.95%",
          "0.92%",
          "0.90%",
          "0.89%",
          "0.89%",
          "0.86%",
          "0.85%",
          "0.84%",
          "0.84%",
          "0.83%",
          "0.82%",
          "0.82%",
          "0.80%",
          "0.79%",
          "0.78%",
          "0.76%",
          "0.75%",
          "0.75%",
          "0.71%",
          "0.66%",
          "0.64%",
          "0.62%",
          "0.60%",
          "0.59%",
          "0.58%",
          "0.56%",
          "0.56%",
          "0.56%",
          "0.56%",
          "0.54%",
          "0.53%",
          "0.52%",
          "0.50%",
          "0.49%",
          "0.49%",
          "0.48%",
          "0.48%",
          "0.48%",
          "0.45%",
          "0.44%",
          "0.43%",
          "0.42%",
          "0.42%",
          "0.41%",
          "0.40%",
          "0.40%",
          "0.40%",
          "0.39%",
          "0.37%",
          "0.35%",
          "0.35%",
          "0.35%",
          "0.34%",
          "0.32%",
          "0.31%",
          "0.31%",
          "0.31%",
          "0.31%",
          "0.30%",
          "0.30%",
          "0.30%",
          "0.29%",
          "0.28%",
          "0.28%",
          "0.27%",
          "0.27%",
          "0.25%",
          "0.25%",
          "0.25%",
          "0.24%",
          "0.21%",
          "0.21%",
          "0.19%"
         ],
         "type": "bar",
         "x": [
          "104",
          "103",
          "64",
          "87",
          "32",
          "28",
          "5",
          "99",
          "65",
          "82",
          "83",
          "38",
          "10",
          "68",
          "22",
          "60",
          "39",
          "70",
          "101",
          "78",
          "12",
          "67",
          "16",
          "11",
          "92",
          "85",
          "48",
          "51",
          "27",
          "80",
          "7",
          "44",
          "49",
          "46",
          "90",
          "31",
          "19",
          "89",
          "37",
          "74",
          "42",
          "84",
          "40",
          "34",
          "25",
          "53",
          "88",
          "29",
          "100",
          "55",
          "17",
          "57",
          "86",
          "95",
          "52",
          "26",
          "94",
          "1",
          "13",
          "43",
          "3",
          "41",
          "66",
          "36",
          "93",
          "62",
          "72",
          "98",
          "61",
          "14",
          "76",
          "2",
          "8",
          "6",
          "21",
          "77",
          "71",
          "24",
          "30",
          "9",
          "102",
          "79",
          "96",
          "47",
          "15",
          "73",
          "20",
          "91",
          "50",
          "33",
          "69",
          "59",
          "45",
          "75",
          "23",
          "54",
          "4",
          "97",
          "35",
          "58",
          "81",
          "56",
          "18",
          "63"
         ],
         "y": [
          85083,
          24262,
          22278,
          17106,
          12578,
          12538,
          12513,
          12042,
          10905,
          10470,
          9510,
          9246,
          8732,
          8388,
          8371,
          7992,
          7676,
          7479,
          7339,
          7334,
          7246,
          7061,
          7007,
          6716,
          6506,
          6313,
          6010,
          6008,
          5930,
          5710,
          5653,
          5628,
          5470,
          5355,
          5289,
          5285,
          5097,
          5030,
          5008,
          4975,
          4944,
          4893,
          4870,
          4759,
          4697,
          4657,
          4523,
          4467,
          4445,
          4229,
          3926,
          3795,
          3719,
          3558,
          3531,
          3450,
          3351,
          3331,
          3312,
          3311,
          3185,
          3182,
          3099,
          2957,
          2931,
          2894,
          2877,
          2850,
          2840,
          2674,
          2606,
          2553,
          2481,
          2480,
          2424,
          2405,
          2357,
          2353,
          2322,
          2211,
          2103,
          2079,
          2073,
          2035,
          1880,
          1858,
          1848,
          1838,
          1825,
          1790,
          1785,
          1770,
          1706,
          1678,
          1668,
          1622,
          1596,
          1484,
          1481,
          1464,
          1433,
          1272,
          1233,
          1103
         ]
        }
       ],
       "layout": {
        "title": "Number of Items by Category",
        "xaxis": {
         "title": "Variable : ps_car_11_cat"
        },
        "yaxis": {
         "title": "Count"
        }
       }
      },
      "text/html": [
       "<div id=\"7a881714-359e-4318-8e10-ae2c4ed1dc52\" style=\"height: 525px; width: 100%;\" class=\"plotly-graph-div\"></div><script type=\"text/javascript\">require([\"plotly\"], function(Plotly) { window.PLOTLYENV=window.PLOTLYENV || {};window.PLOTLYENV.BASE_URL=\"https://plot.ly\";Plotly.newPlot(\"7a881714-359e-4318-8e10-ae2c4ed1dc52\", [{\"type\": \"bar\", \"x\": [\"104\", \"103\", \"64\", \"87\", \"32\", \"28\", \"5\", \"99\", \"65\", \"82\", \"83\", \"38\", \"10\", \"68\", \"22\", \"60\", \"39\", \"70\", \"101\", \"78\", \"12\", \"67\", \"16\", \"11\", \"92\", \"85\", \"48\", \"51\", \"27\", \"80\", \"7\", \"44\", \"49\", \"46\", \"90\", \"31\", \"19\", \"89\", \"37\", \"74\", \"42\", \"84\", \"40\", \"34\", \"25\", \"53\", \"88\", \"29\", \"100\", \"55\", \"17\", \"57\", \"86\", \"95\", \"52\", \"26\", \"94\", \"1\", \"13\", \"43\", \"3\", \"41\", \"66\", \"36\", \"93\", \"62\", \"72\", \"98\", \"61\", \"14\", \"76\", \"2\", \"8\", \"6\", \"21\", \"77\", \"71\", \"24\", \"30\", \"9\", \"102\", \"79\", \"96\", \"47\", \"15\", \"73\", \"20\", \"91\", \"50\", \"33\", \"69\", \"59\", \"45\", \"75\", \"23\", \"54\", \"4\", \"97\", \"35\", \"58\", \"81\", \"56\", \"18\", \"63\"], \"y\": [85083, 24262, 22278, 17106, 12578, 12538, 12513, 12042, 10905, 10470, 9510, 9246, 8732, 8388, 8371, 7992, 7676, 7479, 7339, 7334, 7246, 7061, 7007, 6716, 6506, 6313, 6010, 6008, 5930, 5710, 5653, 5628, 5470, 5355, 5289, 5285, 5097, 5030, 5008, 4975, 4944, 4893, 4870, 4759, 4697, 4657, 4523, 4467, 4445, 4229, 3926, 3795, 3719, 3558, 3531, 3450, 3351, 3331, 3312, 3311, 3185, 3182, 3099, 2957, 2931, 2894, 2877, 2850, 2840, 2674, 2606, 2553, 2481, 2480, 2424, 2405, 2357, 2353, 2322, 2211, 2103, 2079, 2073, 2035, 1880, 1858, 1848, 1838, 1825, 1790, 1785, 1770, 1706, 1678, 1668, 1622, 1596, 1484, 1481, 1464, 1433, 1272, 1233, 1103], \"text\": [\"14.29%\", \"4.08%\", \"3.74%\", \"2.87%\", \"2.11%\", \"2.11%\", \"2.10%\", \"2.02%\", \"1.83%\", \"1.76%\", \"1.60%\", \"1.55%\", \"1.47%\", \"1.41%\", \"1.41%\", \"1.34%\", \"1.29%\", \"1.26%\", \"1.23%\", \"1.23%\", \"1.22%\", \"1.19%\", \"1.18%\", \"1.13%\", \"1.09%\", \"1.06%\", \"1.01%\", \"1.01%\", \"1.00%\", \"0.96%\", \"0.95%\", \"0.95%\", \"0.92%\", \"0.90%\", \"0.89%\", \"0.89%\", \"0.86%\", \"0.85%\", \"0.84%\", \"0.84%\", \"0.83%\", \"0.82%\", \"0.82%\", \"0.80%\", \"0.79%\", \"0.78%\", \"0.76%\", \"0.75%\", \"0.75%\", \"0.71%\", \"0.66%\", \"0.64%\", \"0.62%\", \"0.60%\", \"0.59%\", \"0.58%\", \"0.56%\", \"0.56%\", \"0.56%\", \"0.56%\", \"0.54%\", \"0.53%\", \"0.52%\", \"0.50%\", \"0.49%\", \"0.49%\", \"0.48%\", \"0.48%\", \"0.48%\", \"0.45%\", \"0.44%\", \"0.43%\", \"0.42%\", \"0.42%\", \"0.41%\", \"0.40%\", \"0.40%\", \"0.40%\", \"0.39%\", \"0.37%\", \"0.35%\", \"0.35%\", \"0.35%\", \"0.34%\", \"0.32%\", \"0.31%\", \"0.31%\", \"0.31%\", \"0.31%\", \"0.30%\", \"0.30%\", \"0.30%\", \"0.29%\", \"0.28%\", \"0.28%\", \"0.27%\", \"0.27%\", \"0.25%\", \"0.25%\", \"0.25%\", \"0.24%\", \"0.21%\", \"0.21%\", \"0.19%\"], \"marker\": {\"color\": [85083, 24262, 22278, 17106, 12578, 12538, 12513, 12042, 10905, 10470, 9510, 9246, 8732, 8388, 8371, 7992, 7676, 7479, 7339, 7334, 7246, 7061, 7007, 6716, 6506, 6313, 6010, 6008, 5930, 5710, 5653, 5628, 5470, 5355, 5289, 5285, 5097, 5030, 5008, 4975, 4944, 4893, 4870, 4759, 4697, 4657, 4523, 4467, 4445, 4229, 3926, 3795, 3719, 3558, 3531, 3450, 3351, 3331, 3312, 3311, 3185, 3182, 3099, 2957, 2931, 2894, 2877, 2850, 2840, 2674, 2606, 2553, 2481, 2480, 2424, 2405, 2357, 2353, 2322, 2211, 2103, 2079, 2073, 2035, 1880, 1858, 1848, 1838, 1825, 1790, 1785, 1770, 1706, 1678, 1668, 1622, 1596, 1484, 1481, 1464, 1433, 1272, 1233, 1103], \"colorscale\": \"Portland\", \"showscale\": true, \"reversescale\": false}}], {\"title\": \"Number of Items by Category\", \"yaxis\": {\"title\": \"Count\"}, \"xaxis\": {\"title\": \"Variable : ps_car_11_cat\"}}, {\"showLink\": true, \"linkText\": \"Export to plot.ly\"})});</script>"
      ],
      "text/vnd.plotly.v1+html": [
       "<div id=\"7a881714-359e-4318-8e10-ae2c4ed1dc52\" style=\"height: 525px; width: 100%;\" class=\"plotly-graph-div\"></div><script type=\"text/javascript\">require([\"plotly\"], function(Plotly) { window.PLOTLYENV=window.PLOTLYENV || {};window.PLOTLYENV.BASE_URL=\"https://plot.ly\";Plotly.newPlot(\"7a881714-359e-4318-8e10-ae2c4ed1dc52\", [{\"type\": \"bar\", \"x\": [\"104\", \"103\", \"64\", \"87\", \"32\", \"28\", \"5\", \"99\", \"65\", \"82\", \"83\", \"38\", \"10\", \"68\", \"22\", \"60\", \"39\", \"70\", \"101\", \"78\", \"12\", \"67\", \"16\", \"11\", \"92\", \"85\", \"48\", \"51\", \"27\", \"80\", \"7\", \"44\", \"49\", \"46\", \"90\", \"31\", \"19\", \"89\", \"37\", \"74\", \"42\", \"84\", \"40\", \"34\", \"25\", \"53\", \"88\", \"29\", \"100\", \"55\", \"17\", \"57\", \"86\", \"95\", \"52\", \"26\", \"94\", \"1\", \"13\", \"43\", \"3\", \"41\", \"66\", \"36\", \"93\", \"62\", \"72\", \"98\", \"61\", \"14\", \"76\", \"2\", \"8\", \"6\", \"21\", \"77\", \"71\", \"24\", \"30\", \"9\", \"102\", \"79\", \"96\", \"47\", \"15\", \"73\", \"20\", \"91\", \"50\", \"33\", \"69\", \"59\", \"45\", \"75\", \"23\", \"54\", \"4\", \"97\", \"35\", \"58\", \"81\", \"56\", \"18\", \"63\"], \"y\": [85083, 24262, 22278, 17106, 12578, 12538, 12513, 12042, 10905, 10470, 9510, 9246, 8732, 8388, 8371, 7992, 7676, 7479, 7339, 7334, 7246, 7061, 7007, 6716, 6506, 6313, 6010, 6008, 5930, 5710, 5653, 5628, 5470, 5355, 5289, 5285, 5097, 5030, 5008, 4975, 4944, 4893, 4870, 4759, 4697, 4657, 4523, 4467, 4445, 4229, 3926, 3795, 3719, 3558, 3531, 3450, 3351, 3331, 3312, 3311, 3185, 3182, 3099, 2957, 2931, 2894, 2877, 2850, 2840, 2674, 2606, 2553, 2481, 2480, 2424, 2405, 2357, 2353, 2322, 2211, 2103, 2079, 2073, 2035, 1880, 1858, 1848, 1838, 1825, 1790, 1785, 1770, 1706, 1678, 1668, 1622, 1596, 1484, 1481, 1464, 1433, 1272, 1233, 1103], \"text\": [\"14.29%\", \"4.08%\", \"3.74%\", \"2.87%\", \"2.11%\", \"2.11%\", \"2.10%\", \"2.02%\", \"1.83%\", \"1.76%\", \"1.60%\", \"1.55%\", \"1.47%\", \"1.41%\", \"1.41%\", \"1.34%\", \"1.29%\", \"1.26%\", \"1.23%\", \"1.23%\", \"1.22%\", \"1.19%\", \"1.18%\", \"1.13%\", \"1.09%\", \"1.06%\", \"1.01%\", \"1.01%\", \"1.00%\", \"0.96%\", \"0.95%\", \"0.95%\", \"0.92%\", \"0.90%\", \"0.89%\", \"0.89%\", \"0.86%\", \"0.85%\", \"0.84%\", \"0.84%\", \"0.83%\", \"0.82%\", \"0.82%\", \"0.80%\", \"0.79%\", \"0.78%\", \"0.76%\", \"0.75%\", \"0.75%\", \"0.71%\", \"0.66%\", \"0.64%\", \"0.62%\", \"0.60%\", \"0.59%\", \"0.58%\", \"0.56%\", \"0.56%\", \"0.56%\", \"0.56%\", \"0.54%\", \"0.53%\", \"0.52%\", \"0.50%\", \"0.49%\", \"0.49%\", \"0.48%\", \"0.48%\", \"0.48%\", \"0.45%\", \"0.44%\", \"0.43%\", \"0.42%\", \"0.42%\", \"0.41%\", \"0.40%\", \"0.40%\", \"0.40%\", \"0.39%\", \"0.37%\", \"0.35%\", \"0.35%\", \"0.35%\", \"0.34%\", \"0.32%\", \"0.31%\", \"0.31%\", \"0.31%\", \"0.31%\", \"0.30%\", \"0.30%\", \"0.30%\", \"0.29%\", \"0.28%\", \"0.28%\", \"0.27%\", \"0.27%\", \"0.25%\", \"0.25%\", \"0.25%\", \"0.24%\", \"0.21%\", \"0.21%\", \"0.19%\"], \"marker\": {\"color\": [85083, 24262, 22278, 17106, 12578, 12538, 12513, 12042, 10905, 10470, 9510, 9246, 8732, 8388, 8371, 7992, 7676, 7479, 7339, 7334, 7246, 7061, 7007, 6716, 6506, 6313, 6010, 6008, 5930, 5710, 5653, 5628, 5470, 5355, 5289, 5285, 5097, 5030, 5008, 4975, 4944, 4893, 4870, 4759, 4697, 4657, 4523, 4467, 4445, 4229, 3926, 3795, 3719, 3558, 3531, 3450, 3351, 3331, 3312, 3311, 3185, 3182, 3099, 2957, 2931, 2894, 2877, 2850, 2840, 2674, 2606, 2553, 2481, 2480, 2424, 2405, 2357, 2353, 2322, 2211, 2103, 2079, 2073, 2035, 1880, 1858, 1848, 1838, 1825, 1790, 1785, 1770, 1706, 1678, 1668, 1622, 1596, 1484, 1481, 1464, 1433, 1272, 1233, 1103], \"colorscale\": \"Portland\", \"showscale\": true, \"reversescale\": false}}], {\"title\": \"Number of Items by Category\", \"yaxis\": {\"title\": \"Count\"}, \"xaxis\": {\"title\": \"Variable : ps_car_11_cat\"}}, {\"showLink\": true, \"linkText\": \"Export to plot.ly\"})});</script>"
      ]
     },
     "metadata": {},
     "output_type": "display_data"
    }
   ],
   "source": [
    "for c in cat_f :\n",
    "    x = train[c].value_counts().index.values.astype('str')\n",
    "    y = train[c].value_counts().values\n",
    "    pct = [(\"%.2f\"%(v*100))+\"%\"for v in (y/len(train))]\n",
    "\n",
    "    trace1 = go.Bar(x=x, y=y, text=pct,\n",
    "                    marker=dict(\n",
    "                    color = y,colorscale='Portland',showscale=True,\n",
    "                    reversescale = False\n",
    "                    ))\n",
    "    layout = dict(title= 'Number of Items by Category',\n",
    "                  yaxis = dict(title='Count'),\n",
    "                  xaxis = dict(title='Variable : '+c))\n",
    "    fig=dict(data=[trace1], layout=layout)\n",
    "    py.iplot(fig)"
   ]
  },
  {
   "cell_type": "code",
   "execution_count": 9,
   "metadata": {},
   "outputs": [
    {
     "data": {
      "text/plain": [
       "target            1.000000\n",
       "ps_car_13         0.053899\n",
       "ps_car_12         0.038790\n",
       "ps_ind_17_bin     0.037053\n",
       "ps_reg_02         0.034800\n",
       "ps_ind_07_bin     0.034218\n",
       "ps_car_04_cat     0.032900\n",
       "ps_car_03_cat     0.032401\n",
       "ps_reg_03         0.030888\n",
       "ps_ind_05_cat     0.029165\n",
       "ps_car_15         0.027667\n",
       "ps_reg_01         0.022888\n",
       "ps_car_05_cat     0.020754\n",
       "ps_ind_01         0.018570\n",
       "ps_car_01_cat     0.016256\n",
       "ps_ind_08_bin     0.013147\n",
       "ps_car_06_cat     0.011537\n",
       "ps_ind_04_cat     0.009360\n",
       "ps_ind_03         0.008360\n",
       "ps_ind_12_bin     0.007810\n",
       "ps_ind_14         0.007443\n",
       "ps_car_11_cat     0.006129\n",
       "ps_car_09_cat     0.005322\n",
       "ps_ind_18_bin     0.004555\n",
       "ps_ind_02_cat     0.004534\n",
       "ps_ind_13_bin     0.002460\n",
       "ps_ind_11_bin     0.002028\n",
       "ps_calc_03        0.001907\n",
       "ps_ind_10_bin     0.001815\n",
       "ps_calc_01        0.001782\n",
       "ps_calc_14        0.001362\n",
       "ps_calc_02        0.001360\n",
       "ps_calc_10        0.001061\n",
       "ps_car_10_cat     0.001038\n",
       "ps_calc_05        0.000771\n",
       "ps_calc_09        0.000719\n",
       "ps_calc_16_bin    0.000624\n",
       "ps_calc_18_bin    0.000552\n",
       "ps_calc_11        0.000371\n",
       "ps_calc_06        0.000082\n",
       "ps_calc_04        0.000033\n",
       "ps_calc_07       -0.000103\n",
       "ps_calc_17_bin   -0.000170\n",
       "id               -0.000188\n",
       "ps_calc_13       -0.000446\n",
       "ps_calc_15_bin   -0.000490\n",
       "ps_calc_08       -0.001006\n",
       "ps_calc_20_bin   -0.001072\n",
       "ps_calc_12       -0.001133\n",
       "ps_car_11        -0.001213\n",
       "ps_calc_19_bin   -0.001744\n",
       "ps_car_14        -0.004474\n",
       "ps_ind_09_bin    -0.008237\n",
       "ps_car_08_cat    -0.020342\n",
       "ps_ind_15        -0.021506\n",
       "ps_ind_16_bin    -0.027778\n",
       "ps_car_02_cat    -0.031534\n",
       "ps_ind_06_bin    -0.034017\n",
       "ps_car_07_cat    -0.036395\n",
       "Name: target, dtype: float64"
      ]
     },
     "execution_count": 9,
     "metadata": {},
     "output_type": "execute_result"
    }
   ],
   "source": [
    "corr_matrix = train.corr()\n",
    "corr_matrix[\"target\"].sort_values(ascending=False)"
   ]
  }
 ],
 "metadata": {
  "kernelspec": {
   "display_name": "Python 3",
   "language": "python",
   "name": "python3"
  },
  "language_info": {
   "codemirror_mode": {
    "name": "ipython",
    "version": 3
   },
   "file_extension": ".py",
   "mimetype": "text/x-python",
   "name": "python",
   "nbconvert_exporter": "python",
   "pygments_lexer": "ipython3",
   "version": "3.6.3"
  }
 },
 "nbformat": 4,
 "nbformat_minor": 2
}
