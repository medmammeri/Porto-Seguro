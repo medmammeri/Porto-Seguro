{
 "cells": [
  {
   "cell_type": "code",
   "execution_count": 1,
   "metadata": {},
   "outputs": [
    {
     "name": "stderr",
     "output_type": "stream",
     "text": [
      "/Users/rafik/anaconda/lib/python3.6/site-packages/sklearn/cross_validation.py:41: DeprecationWarning: This module was deprecated in version 0.18 in favor of the model_selection module into which all the refactored classes and functions are moved. Also note that the interface of the new CV iterators are different from that of this module. This module will be removed in 0.20.\n",
      "  \"This module will be removed in 0.20.\", DeprecationWarning)\n"
     ]
    }
   ],
   "source": [
    "import numpy as np\n",
    "import pandas as pd\n",
    "import xgboost as xgb\n",
    "from sklearn.model_selection import KFold, GridSearchCV"
   ]
  },
  {
   "cell_type": "code",
   "execution_count": 2,
   "metadata": {
    "collapsed": true
   },
   "outputs": [],
   "source": [
    "def gini(pred, y):\n",
    "    g = np.asarray(np.c_[y, pred, np.arange(len(y)) ], dtype=np.float)\n",
    "    g = g[np.lexsort((g[:,2], -1*g[:,1]))]\n",
    "    gs = g[:,0].cumsum().sum() / g[:,0].sum()\n",
    "    gs -= (len(y) + 1) / 2.\n",
    "    return gs / len(y)\n",
    "\n",
    "def normalized_gini(pred, y):\n",
    "    return gini(pred, y) / gini(y, y)\n",
    "\n",
    "# custom normalized gini score for xgb model\n",
    "def gini_xgb(pred, y):\n",
    "    y = y.get_label()\n",
    "    return 'gini', normalized_gini(pred, y)"
   ]
  },
  {
   "cell_type": "code",
   "execution_count": 3,
   "metadata": {
    "collapsed": true
   },
   "outputs": [],
   "source": [
    "train = pd.read_csv('./Data/train.csv')\n",
    "test = pd.read_csv('./Data/test.csv')"
   ]
  },
  {
   "cell_type": "code",
   "execution_count": 12,
   "metadata": {},
   "outputs": [
    {
     "data": {
      "text/plain": [
       "0    573518\n",
       "1     21694\n",
       "Name: target, dtype: int64"
      ]
     },
     "execution_count": 12,
     "metadata": {},
     "output_type": "execute_result"
    }
   ],
   "source": [
    "train['target'].value_counts()"
   ]
  },
  {
   "cell_type": "code",
   "execution_count": 4,
   "metadata": {
    "collapsed": true
   },
   "outputs": [],
   "source": [
    "cat_feat = train.filter(like='cat', axis=1).columns.values.tolist()\n",
    "bin_feat = train.filter(like='bin', axis=1).columns.values.tolist()\n",
    "num_feat = list(set(list(train)) - set(cat_feat)- set(bin_feat))\n",
    "num_feat.remove('target')\n",
    "#categorical_features.remove('ps_car_11_cat') # cette variable catégorie possède beaucoup de catégories, il faut la traiter à part"
   ]
  },
  {
   "cell_type": "code",
   "execution_count": 6,
   "metadata": {
    "collapsed": true
   },
   "outputs": [],
   "source": [
    "porto_train = pd.get_dummies(train, columns=cat_feat)\n",
    "porto_test = pd.get_dummies(test, columns=cat_feat)"
   ]
  },
  {
   "cell_type": "code",
   "execution_count": 20,
   "metadata": {
    "collapsed": true
   },
   "outputs": [],
   "source": [
    "#cols = [c for c in porto_train.columns if c[-2:] == '-1']\n",
    "porto_train = porto_train.drop(cols,1)\n",
    "porto_test = porto_test.drop(cols,1)"
   ]
  },
  {
   "cell_type": "code",
   "execution_count": 22,
   "metadata": {
    "collapsed": true
   },
   "outputs": [],
   "source": [
    "cat_col =  porto_train.filter(like='bin', axis=1).columns.values.tolist()\n",
    "cat_col.append('ps_car_11_cat')\n",
    "cont_col= list(set(porto_train.columns.tolist()) - set(cat_col))"
   ]
  },
  {
   "cell_type": "code",
   "execution_count": 23,
   "metadata": {
    "collapsed": true
   },
   "outputs": [],
   "source": [
    "from sklearn.preprocessing import Imputer\n",
    "I_cont = Imputer(missing_values=-1, strategy='median', axis=0, verbose=0)\n",
    "I_cat = Imputer(missing_values=-1, strategy='most_frequent', axis=0, verbose=0)\n",
    "\n",
    "porto_train[cont_col] = I_cont.fit_transform(porto_train[cont_col])\n",
    "#porto_train[cat_col] = I_cat.fit_transform(porto_train[cat_col])\n",
    "\n",
    "cont_col_test = cont_col.remove('target')\n",
    "porto_test[cont_col] = I_cont.fit_transform(porto_test[cont_col])\n",
    "#porto_test[cat_col] = I_cat.fit_transform(porto_test[cat_col])"
   ]
  },
  {
   "cell_type": "code",
   "execution_count": 7,
   "metadata": {
    "collapsed": true
   },
   "outputs": [],
   "source": [
    "# Convert train & test to numpy arrays\n",
    "X = porto_train.drop('target', axis=1).values\n",
    "y = porto_train['target'].values\n",
    "test = porto_test.values\n",
    "\n",
    "# Create submission dataframe\n",
    "submission = porto_test['id'].to_frame()\n",
    "submission['target'] = 0"
   ]
  },
  {
   "cell_type": "code",
   "execution_count": 9,
   "metadata": {},
   "outputs": [
    {
     "data": {
      "text/plain": [
       "(595212, 228)"
      ]
     },
     "execution_count": 9,
     "metadata": {},
     "output_type": "execute_result"
    }
   ],
   "source": [
    "X.shape"
   ]
  },
  {
   "cell_type": "code",
   "execution_count": 10,
   "metadata": {},
   "outputs": [
    {
     "name": "stdout",
     "output_type": "stream",
     "text": [
      " xgb kfold: 1 of 5 : \n",
      "[0]\ttrain-gini:0.205311\teval-gini:0.187002\n",
      "Multiple eval metrics have been passed: 'eval-gini' will be used for early stopping.\n",
      "\n",
      "Will train until eval-gini hasn't improved in 100 rounds.\n",
      "[50]\ttrain-gini:0.292015\teval-gini:0.245046\n",
      "[100]\ttrain-gini:0.339373\teval-gini:0.263555\n",
      "[150]\ttrain-gini:0.370936\teval-gini:0.266609\n",
      "[200]\ttrain-gini:0.397009\teval-gini:0.266314\n",
      "[250]\ttrain-gini:0.421314\teval-gini:0.265049\n",
      "Stopping. Best iteration:\n",
      "[176]\ttrain-gini:0.384292\teval-gini:0.267703\n",
      "\n",
      " xgb kfold: 2 of 5 : \n",
      "[0]\ttrain-gini:0.20554\teval-gini:0.18746\n",
      "Multiple eval metrics have been passed: 'eval-gini' will be used for early stopping.\n",
      "\n",
      "Will train until eval-gini hasn't improved in 100 rounds.\n",
      "[50]\ttrain-gini:0.288797\teval-gini:0.258088\n",
      "[100]\ttrain-gini:0.336797\teval-gini:0.276406\n",
      "[150]\ttrain-gini:0.369561\teval-gini:0.278947\n",
      "[200]\ttrain-gini:0.396076\teval-gini:0.280499\n",
      "[250]\ttrain-gini:0.41788\teval-gini:0.278527\n",
      "[300]\ttrain-gini:0.439915\teval-gini:0.277282\n",
      "Stopping. Best iteration:\n",
      "[206]\ttrain-gini:0.398494\teval-gini:0.280871\n",
      "\n",
      " xgb kfold: 3 of 5 : \n",
      "[0]\ttrain-gini:0.209734\teval-gini:0.204153\n",
      "Multiple eval metrics have been passed: 'eval-gini' will be used for early stopping.\n",
      "\n",
      "Will train until eval-gini hasn't improved in 100 rounds.\n",
      "[50]\ttrain-gini:0.288794\teval-gini:0.266911\n",
      "[100]\ttrain-gini:0.335113\teval-gini:0.283382\n",
      "[150]\ttrain-gini:0.36718\teval-gini:0.285565\n",
      "[200]\ttrain-gini:0.394298\teval-gini:0.286647\n",
      "[250]\ttrain-gini:0.420488\teval-gini:0.286093\n",
      "[300]\ttrain-gini:0.444037\teval-gini:0.284726\n",
      "Stopping. Best iteration:\n",
      "[223]\ttrain-gini:0.407534\teval-gini:0.287467\n",
      "\n",
      " xgb kfold: 4 of 5 : \n",
      "[0]\ttrain-gini:0.215029\teval-gini:0.207344\n",
      "Multiple eval metrics have been passed: 'eval-gini' will be used for early stopping.\n",
      "\n",
      "Will train until eval-gini hasn't improved in 100 rounds.\n",
      "[50]\ttrain-gini:0.290094\teval-gini:0.26682\n",
      "[100]\ttrain-gini:0.337458\teval-gini:0.279918\n",
      "[150]\ttrain-gini:0.3688\teval-gini:0.282482\n",
      "[200]\ttrain-gini:0.394827\teval-gini:0.282573\n",
      "[250]\ttrain-gini:0.417368\teval-gini:0.280662\n",
      "Stopping. Best iteration:\n",
      "[176]\ttrain-gini:0.382631\teval-gini:0.283437\n",
      "\n",
      " xgb kfold: 5 of 5 : \n",
      "[0]\ttrain-gini:0.213052\teval-gini:0.204351\n",
      "Multiple eval metrics have been passed: 'eval-gini' will be used for early stopping.\n",
      "\n",
      "Will train until eval-gini hasn't improved in 100 rounds.\n",
      "[50]\ttrain-gini:0.28923\teval-gini:0.263178\n",
      "[100]\ttrain-gini:0.334488\teval-gini:0.281319\n",
      "[150]\ttrain-gini:0.364637\teval-gini:0.285871\n",
      "[200]\ttrain-gini:0.391003\teval-gini:0.285603\n",
      "[250]\ttrain-gini:0.414829\teval-gini:0.285332\n",
      "Stopping. Best iteration:\n",
      "[160]\ttrain-gini:0.370643\teval-gini:0.286327\n",
      "\n"
     ]
    }
   ],
   "source": [
    "kfold = 5\n",
    "nrounds=500\n",
    "params = {\n",
    "    'eta': 0.07,\n",
    "    'max_depth': 5,\n",
    "    'subsample': 0.8,\n",
    "    'colsample_bytree':0.8,\n",
    "    'objective': 'binary:logistic',\n",
    "    'eval_metric': 'auc',\n",
    "    'silent': True,\n",
    "    'n_jobs':-1 # use all CPU cores\n",
    "}\n",
    "\n",
    "kf = KFold(n_splits=kfold, shuffle=True, random_state=322)\n",
    "\n",
    "for i, (train_index, cv_index) in enumerate(kf.split(X)):\n",
    "\n",
    "    print(' xgb kfold: {} of {} : '.format(i+1, kfold))\n",
    "    X_train, X_eval = X[train_index,:], X[cv_index,:]\n",
    "    y_train, y_eval = y[train_index], y[cv_index]\n",
    "\n",
    "    d_train = xgb.DMatrix(X_train, y_train) \n",
    "    d_valid = xgb.DMatrix(X_eval, y_eval)\n",
    "\n",
    "    watchlist = [(d_train, 'train'), (d_valid, 'eval')]\n",
    "    xgb_model = xgb.train(params,\n",
    "                          d_train,\n",
    "                          nrounds,\n",
    "                          watchlist,\n",
    "                          early_stopping_rounds=100,\n",
    "                          feval=gini_xgb,\n",
    "                          maximize=True,\n",
    "                          verbose_eval=50)\n",
    "    # Updating prediction by taking the average\n",
    "    submission['target'] += xgb_model.predict(xgb.DMatrix(test)) / kfold"
   ]
  },
  {
   "cell_type": "code",
   "execution_count": 11,
   "metadata": {
    "collapsed": true
   },
   "outputs": [],
   "source": [
    "submission.id = submission.id.astype(int)\n",
    "submission.to_csv('submission4.csv',index=False)"
   ]
  },
  {
   "cell_type": "code",
   "execution_count": null,
   "metadata": {
    "collapsed": true
   },
   "outputs": [],
   "source": []
  }
 ],
 "metadata": {
  "kernelspec": {
   "display_name": "Python 3",
   "language": "python",
   "name": "python3"
  },
  "language_info": {
   "codemirror_mode": {
    "name": "ipython",
    "version": 3
   },
   "file_extension": ".py",
   "mimetype": "text/x-python",
   "name": "python",
   "nbconvert_exporter": "python",
   "pygments_lexer": "ipython3",
   "version": "3.6.3"
  }
 },
 "nbformat": 4,
 "nbformat_minor": 2
}
